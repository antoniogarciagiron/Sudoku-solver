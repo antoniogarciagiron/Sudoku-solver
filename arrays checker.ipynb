{
 "cells": [
  {
   "cell_type": "code",
   "execution_count": 1,
   "id": "damaged-compromise",
   "metadata": {},
   "outputs": [
    {
     "ename": "KeyboardInterrupt",
     "evalue": "",
     "output_type": "error",
     "traceback": [
      "\u001b[1;31m---------------------------------------------------------------------------\u001b[0m",
      "\u001b[1;31mKeyboardInterrupt\u001b[0m                         Traceback (most recent call last)",
      "\u001b[1;32m<ipython-input-1-ab4e910ef4a3>\u001b[0m in \u001b[0;36m<module>\u001b[1;34m\u001b[0m\n\u001b[0;32m      1\u001b[0m \u001b[1;32mimport\u001b[0m \u001b[0msys\u001b[0m\u001b[1;33m\u001b[0m\u001b[1;33m\u001b[0m\u001b[0m\n\u001b[0;32m      2\u001b[0m \u001b[0msys\u001b[0m\u001b[1;33m.\u001b[0m\u001b[0mpath\u001b[0m\u001b[1;33m.\u001b[0m\u001b[0mappend\u001b[0m\u001b[1;33m(\u001b[0m\u001b[1;34m\"../\"\u001b[0m\u001b[1;33m)\u001b[0m\u001b[1;33m\u001b[0m\u001b[1;33m\u001b[0m\u001b[0m\n\u001b[1;32m----> 3\u001b[1;33m \u001b[1;32mfrom\u001b[0m \u001b[0msrc\u001b[0m\u001b[1;33m.\u001b[0m\u001b[0mfunc\u001b[0m \u001b[1;32mimport\u001b[0m \u001b[1;33m*\u001b[0m\u001b[1;33m\u001b[0m\u001b[1;33m\u001b[0m\u001b[0m\n\u001b[0m\u001b[0;32m      4\u001b[0m \u001b[1;33m\u001b[0m\u001b[0m\n\u001b[0;32m      5\u001b[0m \u001b[1;32mfrom\u001b[0m \u001b[0mkeras\u001b[0m\u001b[1;33m.\u001b[0m\u001b[0mmodels\u001b[0m \u001b[1;32mimport\u001b[0m \u001b[0mload_model\u001b[0m\u001b[1;33m\u001b[0m\u001b[1;33m\u001b[0m\u001b[0m\n",
      "\u001b[1;32m~\\Ironhack\\Curso\\Sudoku-solver\\src\\func.py\u001b[0m in \u001b[0;36m<module>\u001b[1;34m\u001b[0m\n\u001b[0;32m      4\u001b[0m \u001b[1;32mfrom\u001b[0m \u001b[0mtensorflow\u001b[0m\u001b[1;33m.\u001b[0m\u001b[0mkeras\u001b[0m \u001b[1;32mimport\u001b[0m \u001b[0mmodels\u001b[0m\u001b[1;33m\u001b[0m\u001b[1;33m\u001b[0m\u001b[0m\n\u001b[0;32m      5\u001b[0m \u001b[1;32mfrom\u001b[0m \u001b[0mtensorflow\u001b[0m\u001b[1;33m.\u001b[0m\u001b[0mkeras\u001b[0m \u001b[1;32mimport\u001b[0m \u001b[0mlayers\u001b[0m\u001b[1;33m\u001b[0m\u001b[1;33m\u001b[0m\u001b[0m\n\u001b[1;32m----> 6\u001b[1;33m \u001b[1;32mimport\u001b[0m \u001b[0mmatplotlib\u001b[0m\u001b[1;33m.\u001b[0m\u001b[0mpyplot\u001b[0m \u001b[1;32mas\u001b[0m \u001b[0mplt\u001b[0m\u001b[1;33m\u001b[0m\u001b[1;33m\u001b[0m\u001b[0m\n\u001b[0m\u001b[0;32m      7\u001b[0m \u001b[1;32mimport\u001b[0m \u001b[0mcv2\u001b[0m\u001b[1;33m\u001b[0m\u001b[1;33m\u001b[0m\u001b[0m\n\u001b[0;32m      8\u001b[0m \u001b[1;32mimport\u001b[0m \u001b[0mnumpy\u001b[0m \u001b[1;32mas\u001b[0m \u001b[0mnp\u001b[0m\u001b[1;33m\u001b[0m\u001b[1;33m\u001b[0m\u001b[0m\n",
      "\u001b[1;32m~\\miniconda3\\envs\\ironhack\\lib\\site-packages\\matplotlib\\pyplot.py\u001b[0m in \u001b[0;36m<module>\u001b[1;34m\u001b[0m\n\u001b[0;32m     34\u001b[0m \u001b[1;32mfrom\u001b[0m \u001b[0mcycler\u001b[0m \u001b[1;32mimport\u001b[0m \u001b[0mcycler\u001b[0m\u001b[1;33m\u001b[0m\u001b[1;33m\u001b[0m\u001b[0m\n\u001b[0;32m     35\u001b[0m \u001b[1;32mimport\u001b[0m \u001b[0mmatplotlib\u001b[0m\u001b[1;33m\u001b[0m\u001b[1;33m\u001b[0m\u001b[0m\n\u001b[1;32m---> 36\u001b[1;33m \u001b[1;32mimport\u001b[0m \u001b[0mmatplotlib\u001b[0m\u001b[1;33m.\u001b[0m\u001b[0mcolorbar\u001b[0m\u001b[1;33m\u001b[0m\u001b[1;33m\u001b[0m\u001b[0m\n\u001b[0m\u001b[0;32m     37\u001b[0m \u001b[1;32mimport\u001b[0m \u001b[0mmatplotlib\u001b[0m\u001b[1;33m.\u001b[0m\u001b[0mimage\u001b[0m\u001b[1;33m\u001b[0m\u001b[1;33m\u001b[0m\u001b[0m\n\u001b[0;32m     38\u001b[0m \u001b[1;32mfrom\u001b[0m \u001b[0mmatplotlib\u001b[0m \u001b[1;32mimport\u001b[0m \u001b[0mrcsetup\u001b[0m\u001b[1;33m,\u001b[0m \u001b[0mstyle\u001b[0m\u001b[1;33m\u001b[0m\u001b[1;33m\u001b[0m\u001b[0m\n",
      "\u001b[1;32m~\\miniconda3\\envs\\ironhack\\lib\\site-packages\\matplotlib\\colorbar.py\u001b[0m in \u001b[0;36m<module>\u001b[1;34m\u001b[0m\n\u001b[0;32m     42\u001b[0m \u001b[1;32mimport\u001b[0m \u001b[0mmatplotlib\u001b[0m\u001b[1;33m.\u001b[0m\u001b[0mcollections\u001b[0m \u001b[1;32mas\u001b[0m \u001b[0mcollections\u001b[0m\u001b[1;33m\u001b[0m\u001b[1;33m\u001b[0m\u001b[0m\n\u001b[0;32m     43\u001b[0m \u001b[1;32mimport\u001b[0m \u001b[0mmatplotlib\u001b[0m\u001b[1;33m.\u001b[0m\u001b[0mcolors\u001b[0m \u001b[1;32mas\u001b[0m \u001b[0mcolors\u001b[0m\u001b[1;33m\u001b[0m\u001b[1;33m\u001b[0m\u001b[0m\n\u001b[1;32m---> 44\u001b[1;33m \u001b[1;32mimport\u001b[0m \u001b[0mmatplotlib\u001b[0m\u001b[1;33m.\u001b[0m\u001b[0mcontour\u001b[0m \u001b[1;32mas\u001b[0m \u001b[0mcontour\u001b[0m\u001b[1;33m\u001b[0m\u001b[1;33m\u001b[0m\u001b[0m\n\u001b[0m\u001b[0;32m     45\u001b[0m \u001b[1;32mimport\u001b[0m \u001b[0mmatplotlib\u001b[0m\u001b[1;33m.\u001b[0m\u001b[0mcm\u001b[0m \u001b[1;32mas\u001b[0m \u001b[0mcm\u001b[0m\u001b[1;33m\u001b[0m\u001b[1;33m\u001b[0m\u001b[0m\n\u001b[0;32m     46\u001b[0m \u001b[1;32mimport\u001b[0m \u001b[0mmatplotlib\u001b[0m\u001b[1;33m.\u001b[0m\u001b[0mgridspec\u001b[0m \u001b[1;32mas\u001b[0m \u001b[0mgridspec\u001b[0m\u001b[1;33m\u001b[0m\u001b[1;33m\u001b[0m\u001b[0m\n",
      "\u001b[1;32m~\\miniconda3\\envs\\ironhack\\lib\\site-packages\\matplotlib\\contour.py\u001b[0m in \u001b[0;36m<module>\u001b[1;34m\u001b[0m\n\u001b[0;32m     23\u001b[0m \u001b[1;33m\u001b[0m\u001b[0m\n\u001b[0;32m     24\u001b[0m \u001b[1;31m# Import needed for adding manual selection capability to clabel\u001b[0m\u001b[1;33m\u001b[0m\u001b[1;33m\u001b[0m\u001b[1;33m\u001b[0m\u001b[0m\n\u001b[1;32m---> 25\u001b[1;33m \u001b[1;32mfrom\u001b[0m \u001b[0mmatplotlib\u001b[0m\u001b[1;33m.\u001b[0m\u001b[0mblocking_input\u001b[0m \u001b[1;32mimport\u001b[0m \u001b[0mBlockingContourLabeler\u001b[0m\u001b[1;33m\u001b[0m\u001b[1;33m\u001b[0m\u001b[0m\n\u001b[0m\u001b[0;32m     26\u001b[0m \u001b[1;33m\u001b[0m\u001b[0m\n\u001b[0;32m     27\u001b[0m \u001b[1;31m# We can't use a single line collection for contour because a line\u001b[0m\u001b[1;33m\u001b[0m\u001b[1;33m\u001b[0m\u001b[1;33m\u001b[0m\u001b[0m\n",
      "\u001b[1;32m~\\miniconda3\\envs\\ironhack\\lib\\site-packages\\matplotlib\\blocking_input.py\u001b[0m in \u001b[0;36m<module>\u001b[1;34m\u001b[0m\n\u001b[0;32m     24\u001b[0m \u001b[1;33m\u001b[0m\u001b[0m\n\u001b[0;32m     25\u001b[0m \u001b[1;32mfrom\u001b[0m \u001b[0mmatplotlib\u001b[0m \u001b[1;32mimport\u001b[0m \u001b[0mcbook\u001b[0m\u001b[1;33m\u001b[0m\u001b[1;33m\u001b[0m\u001b[0m\n\u001b[1;32m---> 26\u001b[1;33m \u001b[1;32mfrom\u001b[0m \u001b[0mmatplotlib\u001b[0m\u001b[1;33m.\u001b[0m\u001b[0mbackend_bases\u001b[0m \u001b[1;32mimport\u001b[0m \u001b[0mMouseButton\u001b[0m\u001b[1;33m\u001b[0m\u001b[1;33m\u001b[0m\u001b[0m\n\u001b[0m\u001b[0;32m     27\u001b[0m \u001b[1;32mimport\u001b[0m \u001b[0mmatplotlib\u001b[0m\u001b[1;33m.\u001b[0m\u001b[0mlines\u001b[0m \u001b[1;32mas\u001b[0m \u001b[0mmlines\u001b[0m\u001b[1;33m\u001b[0m\u001b[1;33m\u001b[0m\u001b[0m\n\u001b[0;32m     28\u001b[0m \u001b[1;33m\u001b[0m\u001b[0m\n",
      "\u001b[1;32m~\\miniconda3\\envs\\ironhack\\lib\\site-packages\\matplotlib\\backend_bases.py\u001b[0m in \u001b[0;36m<module>\u001b[1;34m\u001b[0m\n\u001b[0;32m     43\u001b[0m \u001b[1;33m\u001b[0m\u001b[0m\n\u001b[0;32m     44\u001b[0m \u001b[1;32mimport\u001b[0m \u001b[0mmatplotlib\u001b[0m \u001b[1;32mas\u001b[0m \u001b[0mmpl\u001b[0m\u001b[1;33m\u001b[0m\u001b[1;33m\u001b[0m\u001b[0m\n\u001b[1;32m---> 45\u001b[1;33m from matplotlib import (\n\u001b[0m\u001b[0;32m     46\u001b[0m     \u001b[0mbackend_tools\u001b[0m \u001b[1;32mas\u001b[0m \u001b[0mtools\u001b[0m\u001b[1;33m,\u001b[0m \u001b[0mcbook\u001b[0m\u001b[1;33m,\u001b[0m \u001b[0mcolors\u001b[0m\u001b[1;33m,\u001b[0m \u001b[0mtextpath\u001b[0m\u001b[1;33m,\u001b[0m \u001b[0mtight_bbox\u001b[0m\u001b[1;33m,\u001b[0m\u001b[1;33m\u001b[0m\u001b[1;33m\u001b[0m\u001b[0m\n\u001b[0;32m     47\u001b[0m     transforms, widgets, get_backend, is_interactive, rcParams)\n",
      "\u001b[1;32m~\\miniconda3\\envs\\ironhack\\lib\\importlib\\_bootstrap.py\u001b[0m in \u001b[0;36m_find_and_load\u001b[1;34m(name, import_)\u001b[0m\n",
      "\u001b[1;32m~\\miniconda3\\envs\\ironhack\\lib\\importlib\\_bootstrap.py\u001b[0m in \u001b[0;36m_find_and_load_unlocked\u001b[1;34m(name, import_)\u001b[0m\n",
      "\u001b[1;32m~\\miniconda3\\envs\\ironhack\\lib\\importlib\\_bootstrap.py\u001b[0m in \u001b[0;36m_load_unlocked\u001b[1;34m(spec)\u001b[0m\n",
      "\u001b[1;32m~\\miniconda3\\envs\\ironhack\\lib\\importlib\\_bootstrap_external.py\u001b[0m in \u001b[0;36mexec_module\u001b[1;34m(self, module)\u001b[0m\n",
      "\u001b[1;32m~\\miniconda3\\envs\\ironhack\\lib\\importlib\\_bootstrap_external.py\u001b[0m in \u001b[0;36mget_code\u001b[1;34m(self, fullname)\u001b[0m\n",
      "\u001b[1;32m~\\miniconda3\\envs\\ironhack\\lib\\importlib\\_bootstrap_external.py\u001b[0m in \u001b[0;36mpath_stats\u001b[1;34m(self, path)\u001b[0m\n",
      "\u001b[1;32m~\\miniconda3\\envs\\ironhack\\lib\\importlib\\_bootstrap_external.py\u001b[0m in \u001b[0;36m_path_stat\u001b[1;34m(path)\u001b[0m\n",
      "\u001b[1;31mKeyboardInterrupt\u001b[0m: "
     ]
    }
   ],
   "source": [
    "import sys\n",
    "sys.path.append(\"../\")\n",
    "from src.func import *\n",
    "\n",
    "from keras.models import load_model\n",
    "model = load_model('my_model_my_numbers.h5')"
   ]
  },
  {
   "cell_type": "code",
   "execution_count": null,
   "id": "tropical-crisis",
   "metadata": {},
   "outputs": [],
   "source": [
    "sudoku_pic = load_my_image(\"sudoku1.png\")\n",
    "plt.imshow(sudoku_pic)"
   ]
  },
  {
   "cell_type": "code",
   "execution_count": null,
   "id": "second-drunk",
   "metadata": {},
   "outputs": [],
   "source": [
    "cut = sudoku_cut_frame(\"sudoku1.png\")\n",
    "list_pics = sudoku_split_81(cut)\n",
    "final_list, probability_numbers, number_pics = from_pic_to_numbers(list_pics)"
   ]
  },
  {
   "cell_type": "code",
   "execution_count": null,
   "id": "adult-district",
   "metadata": {},
   "outputs": [],
   "source": [
    "def numbers_with_index (final_list):\n",
    "    indexnums = []\n",
    "    for num in range(81):\n",
    "        indexnums.append([num, final_list[num]])\n",
    "    return indexnums"
   ]
  },
  {
   "cell_type": "code",
   "execution_count": null,
   "id": "split-chrome",
   "metadata": {},
   "outputs": [],
   "source": [
    "indexnums = numbers_with_index(final_list)\n",
    "indexnums"
   ]
  },
  {
   "cell_type": "code",
   "execution_count": null,
   "id": "permanent-terry",
   "metadata": {},
   "outputs": [],
   "source": [
    "def get_rows_array(indexnums):\n",
    "    row_list = np.reshape(indexnums, (9, 9, 2))\n",
    "    return row_list"
   ]
  },
  {
   "cell_type": "code",
   "execution_count": null,
   "id": "brown-ethernet",
   "metadata": {},
   "outputs": [],
   "source": [
    "rows = get_rows_array(indexnums)\n",
    "rows[0]"
   ]
  },
  {
   "cell_type": "code",
   "execution_count": null,
   "id": "threatened-hamilton",
   "metadata": {},
   "outputs": [],
   "source": [
    "def get_cols_array(final_list):    \n",
    "    cols = np.reshape(final_list, (9, 9, 2))\n",
    "    col_list = []\n",
    "    for i in range(9):\n",
    "        x = cols[:, [i]]\n",
    "        col_list.append(x)\n",
    "    col_list = np.reshape(col_list, (9, 9, 2))\n",
    "    return col_list"
   ]
  },
  {
   "cell_type": "code",
   "execution_count": null,
   "id": "prime-qualification",
   "metadata": {},
   "outputs": [],
   "source": [
    "cols = get_cols_array(indexnums)\n",
    "cols[0]"
   ]
  },
  {
   "cell_type": "code",
   "execution_count": null,
   "id": "literary-vaccine",
   "metadata": {},
   "outputs": [],
   "source": [
    "def get_quads_array(final_list):     \n",
    "    quads = np.reshape(final_list, (9, 9, 2))\n",
    "    quad_list = []\n",
    "\n",
    "    for i in range(0, 9, 3):\n",
    "        for j in range(0, 9, 3):\n",
    "            quad = quads[np.ix_([i, i + 1,i + 2],[j, j + 1, j + 2])]\n",
    "            x = np.reshape(quad, (2, 9))\n",
    "            quad_list.append(x)\n",
    "    quad_list = np.reshape(quad_list, (9, 9, 2))\n",
    "    return quad_list"
   ]
  },
  {
   "cell_type": "code",
   "execution_count": null,
   "id": "demanding-glory",
   "metadata": {},
   "outputs": [],
   "source": [
    "quads = get_quads_array(indexnums)"
   ]
  },
  {
   "cell_type": "code",
   "execution_count": null,
   "id": "extended-secret",
   "metadata": {},
   "outputs": [],
   "source": [
    "quads[0]"
   ]
  },
  {
   "cell_type": "code",
   "execution_count": null,
   "id": "promotional-american",
   "metadata": {},
   "outputs": [],
   "source": [
    "x = quads[0]\n",
    "x[:,[1]]"
   ]
  },
  {
   "cell_type": "code",
   "execution_count": null,
   "id": "exact-worthy",
   "metadata": {},
   "outputs": [],
   "source": [
    "def sudoku_proofreader_arr(rows, cols, quads): \n",
    "    OK = True\n",
    "    for f in rows:\n",
    "        if set(f[:,[1][0]]) != {1, 2, 3, 4, 5, 6, 7, 8, 9}:\n",
    "            OK = False\n",
    "    for c in cols:\n",
    "        if set(f[:,[1][0]]) != {1, 2, 3, 4, 5, 6, 7, 8, 9}:\n",
    "            OK = False\n",
    "    for q in quads:\n",
    "        if set(f[:,[1][0]]) != {1, 2, 3, 4, 5, 6, 7, 8, 9}:\n",
    "            OK = False\n",
    "    return OK"
   ]
  },
  {
   "cell_type": "code",
   "execution_count": null,
   "id": "dental-payment",
   "metadata": {},
   "outputs": [],
   "source": [
    "sudoku_proofreader_arr(rows, cols, quads)"
   ]
  },
  {
   "cell_type": "code",
   "execution_count": null,
   "id": "sexual-alabama",
   "metadata": {},
   "outputs": [],
   "source": [
    "rows[1][:,[0][0]]"
   ]
  },
  {
   "cell_type": "code",
   "execution_count": null,
   "id": "veterinary-cutting",
   "metadata": {},
   "outputs": [],
   "source": [
    "reference = []\n",
    "for num in indexnums:\n",
    "    if num[1] == 0:\n",
    "        index = num[0]\n",
    "        possible_values = []\n",
    "        for i in rows:\n",
    "            if index in i[:,[0][0]]:\n",
    "                x = i[:,[1][0]]\n",
    "                x = x.tolist()\n",
    "                possible_values += x\n",
    "        for i in cols:\n",
    "            if index in i[:,[0][0]]:\n",
    "                x = i[:,[1][0]]\n",
    "                x = x.tolist()\n",
    "                possible_values += x\n",
    "        for i in quads:\n",
    "            if index in i[:,[0][0]]:\n",
    "                x = i[:,[1][0]]\n",
    "                x = x.tolist()\n",
    "                possible_values += x\n",
    "        possible_values = {0, 1, 2, 3, 4, 5, 6, 7, 8, 9} - set(possible_values)\n",
    "        possible_values = list(possible_values)\n",
    "        counter = 0\n",
    "        element = [num[0], possible_values, counter]\n",
    "        reference.append(element)"
   ]
  },
  {
   "cell_type": "code",
   "execution_count": null,
   "id": "frequent-lesson",
   "metadata": {},
   "outputs": [],
   "source": [
    "min(possible_values)"
   ]
  },
  {
   "cell_type": "code",
   "execution_count": null,
   "id": "wired-scratch",
   "metadata": {},
   "outputs": [],
   "source": [
    "reference"
   ]
  },
  {
   "cell_type": "code",
   "execution_count": null,
   "id": "alpine-paraguay",
   "metadata": {},
   "outputs": [],
   "source": [
    "set1 = {1, 2}"
   ]
  },
  {
   "cell_type": "code",
   "execution_count": null,
   "id": "suited-longitude",
   "metadata": {},
   "outputs": [],
   "source": [
    "set2= {1, 2}"
   ]
  },
  {
   "cell_type": "code",
   "execution_count": null,
   "id": "useful-daughter",
   "metadata": {},
   "outputs": [],
   "source": [
    "set3 = set1-set2"
   ]
  },
  {
   "cell_type": "code",
   "execution_count": null,
   "id": "further-palace",
   "metadata": {},
   "outputs": [],
   "source": [
    "len(set3)"
   ]
  },
  {
   "cell_type": "code",
   "execution_count": null,
   "id": "physical-nothing",
   "metadata": {},
   "outputs": [],
   "source": [
    "indexnums"
   ]
  },
  {
   "cell_type": "code",
   "execution_count": null,
   "id": "dominant-court",
   "metadata": {},
   "outputs": [],
   "source": [
    "index_zero_list = []  \n",
    "counter_zero_list = []\n",
    "for num in indexnums:\n",
    "    if num[1] == 0:\n",
    "        index = num[0]\n",
    "        index_zero_list.append(index)\n",
    "for num in range(len(index_zero_list)):\n",
    "    counter_zero_list.append(0)"
   ]
  },
  {
   "cell_type": "code",
   "execution_count": null,
   "id": "integrated-carry",
   "metadata": {},
   "outputs": [],
   "source": [
    "len(index_zero_list)\n"
   ]
  },
  {
   "cell_type": "code",
   "execution_count": null,
   "id": "selective-evanescence",
   "metadata": {},
   "outputs": [],
   "source": [
    "def solver(indexnums):\n",
    "    cols = get_cols_array(indexnums)\n",
    "    rows = get_rows_array(indexnums)\n",
    "    quads = get_quads_array(indexnums)\n",
    "    index_zero_list = []  \n",
    "    counter_zero_list = []\n",
    "    for num in indexnums:\n",
    "        if num[1] == 0:\n",
    "            ind = num[0]\n",
    "            index_zero_list.append(ind)\n",
    "    for num in range(81):\n",
    "        counter_zero_list.append(0)\n",
    "    while not sudoku_proofreader_arr(rows, cols, quads):\n",
    "        write_bool = True\n",
    "        for ind in index_zero_list:\n",
    "            if (indexnums[ind][1] == 0) and (write_bool == True):  \n",
    "                counter = counter_zero_list[ind]\n",
    "                used_values = []\n",
    "                for i in rows:\n",
    "                    if ind in i[:,[0][0]]:\n",
    "                        x = i[:,[1][0]]\n",
    "                        x = x.tolist()\n",
    "                        used_values += x\n",
    "                for i in cols:\n",
    "                    if ind in i[:,[0][0]]:\n",
    "                        x = i[:,[1][0]]\n",
    "                        x = x.tolist()\n",
    "                        used_values += x\n",
    "                for i in quads:\n",
    "                    if ind in i[:,[0][0]]:\n",
    "                        x = i[:,[1][0]]\n",
    "                        x = x.tolist()\n",
    "                        used_values += x\n",
    "                possible_values = {0, 1, 2, 3, 4, 5, 6, 7, 8, 9} - set(used_values)\n",
    "                possible_values = list(possible_values)\n",
    "                print(ind, possible_values)\n",
    "                if (len(possible_values) > 0) and (len(possible_values) > counter):\n",
    "                    indexnums[ind][1] = possible_values[counter]\n",
    "                    counter_zero_list[ind] += 1\n",
    "                    print(\"pongo el valor\", possible_values[counter])\n",
    "                else:    \n",
    "                    write_bool = False\n",
    "                    counter_zero_list[ind] = 0\n",
    "                    previous_index = index_zero_list.index(ind) - 1\n",
    "                    position = index_zero_list[previous_index]\n",
    "                    indexnums[position][1] = 0\n",
    "                    print(\"position \", position)\n",
    "                    print(\"ind \", ind)\n",
    "                    print(indexnums[position])\n",
    "                cols = get_cols_array(indexnums)\n",
    "                rows = get_rows_array(indexnums)\n",
    "                quads = get_quads_array(indexnums)\n",
    "    return indexnums\n",
    "                    \n"
   ]
  },
  {
   "cell_type": "code",
   "execution_count": null,
   "id": "organic-remove",
   "metadata": {},
   "outputs": [],
   "source": [
    "solver(indexnums)"
   ]
  },
  {
   "cell_type": "code",
   "execution_count": null,
   "id": "unusual-spoke",
   "metadata": {},
   "outputs": [],
   "source": [
    "indexnums = numbers_with_index(final_list)\n",
    "\n",
    "\n",
    "cols = get_cols_array(indexnums)\n",
    "rows = get_rows_array(indexnums)\n",
    "quads = get_quads_array(indexnums)\n",
    "index_zero_list = []  \n",
    "counter_zero_list = []\n",
    "for num in indexnums:\n",
    "    if num[1] == 0:\n",
    "        ind = num[0]\n",
    "        index_zero_list.append(ind)\n",
    "for num in range(81):\n",
    "    counter_zero_list.append(0)\n",
    "while not sudoku_proofreader_arr(rows, cols, quads):\n",
    "    write_bool = True\n",
    "    for ind in index_zero_list:\n",
    "        if (indexnums[ind][1] == 0) and (write_bool == True):  \n",
    "            counter = counter_zero_list[ind]\n",
    "            used_values = []\n",
    "            for i in rows:\n",
    "                if ind in i[:,[0][0]]:\n",
    "                    x = i[:,[1][0]]\n",
    "                    x = x.tolist()\n",
    "                    used_values += x\n",
    "            for i in cols:\n",
    "                if ind in i[:,[0][0]]:\n",
    "                    x = i[:,[1][0]]\n",
    "                    x = x.tolist()\n",
    "                    used_values += x\n",
    "            for i in quads:\n",
    "                if ind in i[:,[0][0]]:\n",
    "                    x = i[:,[1][0]]\n",
    "                    x = x.tolist()\n",
    "                    used_values += x\n",
    "            possible_values = {0, 1, 2, 3, 4, 5, 6, 7, 8, 9} - set(used_values)\n",
    "            possible_values = list(possible_values)\n",
    "            print(ind, possible_values)\n",
    "            if (len(possible_values) > 0) and (len(possible_values) > counter):\n",
    "                indexnums[ind][1] = possible_values[counter]\n",
    "                counter_zero_list[ind] += 1\n",
    "                print(\"pongo el valor\", possible_values[counter])\n",
    "            else:    \n",
    "                write_bool = False\n",
    "                counter_zero_list[ind] = 0\n",
    "                previous_index = index_zero_list.index(ind) - 1\n",
    "                position = index_zero_list[previous_index]\n",
    "                indexnums[position][1] = 0\n",
    "                print(\"position \", position)\n",
    "                print(\"ind \", ind)\n",
    "                print(indexnums[position])\n",
    "            cols = get_cols_array(indexnums)\n",
    "            rows = get_rows_array(indexnums)\n",
    "            quads = get_quads_array(indexnums)"
   ]
  },
  {
   "cell_type": "code",
   "execution_count": null,
   "id": "sporting-nothing",
   "metadata": {},
   "outputs": [],
   "source": [
    "cols = get_cols_array(indexnums)\n",
    "cols"
   ]
  },
  {
   "cell_type": "code",
   "execution_count": null,
   "id": "collective-award",
   "metadata": {},
   "outputs": [],
   "source": [
    "rows = get_rows_array(indexnums)\n",
    "rows"
   ]
  },
  {
   "cell_type": "code",
   "execution_count": null,
   "id": "threaded-electric",
   "metadata": {},
   "outputs": [],
   "source": [
    "final = []\n",
    "for i in indexnums:\n",
    "    numerinchi = i[1]\n",
    "    final.append(numerinchi)\n",
    "final\n",
    "plot_sudoku(final)"
   ]
  },
  {
   "cell_type": "code",
   "execution_count": null,
   "id": "auburn-interstate",
   "metadata": {},
   "outputs": [],
   "source": [
    "def solver(indexnums):\n",
    "    cols = get_cols_array(indexnums)\n",
    "    rows = get_rows_array(indexnums)\n",
    "    quads = get_quads_array(indexnums)\n",
    "    index_zero_list = []  \n",
    "    counter_zero_list = []\n",
    "    for num in indexnums:\n",
    "        if num[1] == 0:\n",
    "            ind = num[0]\n",
    "            index_zero_list.append(ind)\n",
    "    for num in range(81):\n",
    "        counter_zero_list.append(0)\n",
    "    while not sudoku_proofreader_arr(rows, cols, quads):\n",
    "        write_bool = True\n",
    "        for ind in index_zero_list:\n",
    "            if (indexnums[ind][1] == 0) and (write_bool == True):  \n",
    "                counter = counter_zero_list[ind]\n",
    "                used_values = []\n",
    "                for i in rows:\n",
    "                    if ind in i[:,[0][0]]:\n",
    "                        x = i[:,[1][0]]\n",
    "                        x = x.tolist()\n",
    "                        used_values += x\n",
    "                for i in cols:\n",
    "                    if ind in i[:,[0][0]]:\n",
    "                        x = i[:,[1][0]]\n",
    "                        x = x.tolist()\n",
    "                        used_values += x\n",
    "                for i in quads:\n",
    "                    if ind in i[:,[0][0]]:\n",
    "                        x = i[:,[1][0]]\n",
    "                        x = x.tolist()\n",
    "                        used_values += x\n",
    "                possible_values = {0, 1, 2, 3, 4, 5, 6, 7, 8, 9} - set(used_values)\n",
    "                possible_values = list(possible_values)\n",
    "                print(ind, possible_values)\n",
    "                if (len(possible_values) > 0) and (len(possible_values) > counter):\n",
    "                    indexnums[ind][1] = possible_values[counter]\n",
    "                    counter_zero_list[ind] += 1\n",
    "                    print(\"pongo el valor\", possible_values[counter])\n",
    "                else:    \n",
    "                    write_bool = False\n",
    "                    counter_zero_list[ind] = 0\n",
    "                    previous_index = index_zero_list.index(ind) - 1\n",
    "                    position = index_zero_list[previous_index]\n",
    "                    indexnums[position][1] = 0\n",
    "                    print(\"position \", position)\n",
    "                    print(\"ind \", ind)\n",
    "                    print(indexnums[position])\n",
    "                cols = get_cols_array(indexnums)\n",
    "                rows = get_rows_array(indexnums)\n",
    "                quads = get_quads_array(indexnums)\n",
    "    return indexnums"
   ]
  }
 ],
 "metadata": {
  "kernelspec": {
   "display_name": "Python 3",
   "language": "python",
   "name": "python3"
  },
  "language_info": {
   "codemirror_mode": {
    "name": "ipython",
    "version": 3
   },
   "file_extension": ".py",
   "mimetype": "text/x-python",
   "name": "python",
   "nbconvert_exporter": "python",
   "pygments_lexer": "ipython3",
   "version": "3.8.5"
  }
 },
 "nbformat": 4,
 "nbformat_minor": 5
}
