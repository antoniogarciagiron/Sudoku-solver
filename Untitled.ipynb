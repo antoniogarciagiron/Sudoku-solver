{
 "cells": [
  {
   "cell_type": "code",
   "execution_count": null,
   "id": "spatial-might",
   "metadata": {},
   "outputs": [],
   "source": [
    "{l[9]} {l[10]} {l[11]} | {l[12]} {l[13]} {l[14]} | {l[15]} {l[16]} {l[17]}\n",
    "        {l[18]} {l[19]} {l[20]} | {l[21]} {l[22]} {l[23]} | {l[24]} {l[25]} {l[26]}\"\"\",\n",
    "        \"---------------------\\n\",  \n",
    "        f\"\"\"{l[27]} {l[28]} {l[29]} | {l[30]} {l[31]} {l[32]} | {l[33]} {l[34]} {l[35]}\n",
    "        {l[36]} {l[37]} {l[38]} | {l[39]} {l[40]} {l[41]} | {l[42]} {l[43]} {l[44]}\n",
    "        {l[45]} {l[46]} {l[47]} | {l[48]} {l[49]} {l[50]} | {l[51]} {l[52]} {l[53]}\"\"\", \n",
    "        \"---------------------\\n\", \n",
    "        f\"\"\"{l[54]} {l[55]} {l[56]} | {l[57]} {l[58]} {l[59]} | {l[60]} {l[61]} {l[62]}\n",
    "        {l[63]} {l[64]} {l[65]} | {l[66]} {l[67]} {l[68]} | {l[69]} {l[70]} {l[71]}\n",
    "        {l[72]} {l[73]} {l[74]} | {l[75]} {l[76]} {l[77]} | {l[78]} {l[79]} {l[80]}\n",
    "        \"\"\")"
   ]
  }
 ],
 "metadata": {
  "kernelspec": {
   "display_name": "Python 3",
   "language": "python",
   "name": "python3"
  },
  "language_info": {
   "codemirror_mode": {
    "name": "ipython",
    "version": 3
   },
   "file_extension": ".py",
   "mimetype": "text/x-python",
   "name": "python",
   "nbconvert_exporter": "python",
   "pygments_lexer": "ipython3",
   "version": "3.8.5"
  }
 },
 "nbformat": 4,
 "nbformat_minor": 5
}
