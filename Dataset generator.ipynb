{
 "cells": [
  {
   "cell_type": "code",
   "execution_count": 1,
   "id": "fitting-century",
   "metadata": {},
   "outputs": [],
   "source": [
    "import sys\n",
    "sys.path.append(\"../\")\n",
    "from src.func import *\n",
    "from tensorflow.keras.models import load_model\n",
    "\n",
    "from PIL import Image, ImageDraw, ImageFont\n",
    "import random"
   ]
  },
  {
   "cell_type": "code",
   "execution_count": 2,
   "id": "pretty-powder",
   "metadata": {},
   "outputs": [],
   "source": [
    "number = random.randint(1, 9)"
   ]
  },
  {
   "cell_type": "code",
   "execution_count": 3,
   "id": "amended-committee",
   "metadata": {},
   "outputs": [
    {
     "data": {
      "text/plain": [
       "'Helvetica-Bold-Font.ttf'"
      ]
     },
     "execution_count": 3,
     "metadata": {},
     "output_type": "execute_result"
    }
   ],
   "source": [
    "fonts = [\"Lato-Medium.ttf\", \"Helvetica-Bold-Font.ttf\", \"Antonio-Regular.ttf\", \"times-new-roman.ttf\", \"calibri.ttf\",\n",
    "         \"Raleway-Bold.ttf\", \"Raleway-Italic.ttf\", \"Raleway-Medium.ttf\", \"Raleway-Thin.ttf\", \"Montserrat-Light.ttf\",\n",
    "         \"TitilliumWeb-Light.ttf\", \"Montserrat-SemiBold.ttf\", \"Montserrat-Regular.ttf\", \"TitilliumWeb-SemiBold.ttf\",\n",
    "         \"TitilliumWeb-Regular.ttf\"]\n",
    "i = random.randint(0, (len(fonts)-1))\n",
    "font = fonts[i]\n",
    "font"
   ]
  },
  {
   "cell_type": "code",
   "execution_count": 4,
   "id": "frequent-trash",
   "metadata": {},
   "outputs": [],
   "source": [
    "color = random.randint(200, 255)"
   ]
  },
  {
   "cell_type": "code",
   "execution_count": 5,
   "id": "level-plasma",
   "metadata": {},
   "outputs": [],
   "source": [
    "size = random.randint(15, 25)\n",
    "x = random.randint(0, 14)\n",
    "y = random.randint(0, 8)"
   ]
  },
  {
   "cell_type": "code",
   "execution_count": 6,
   "id": "liberal-assault",
   "metadata": {},
   "outputs": [
    {
     "data": {
      "text/plain": [
       "(6, 235, 18, 5, 4)"
      ]
     },
     "execution_count": 6,
     "metadata": {},
     "output_type": "execute_result"
    }
   ],
   "source": [
    "number, color, size, x, y"
   ]
  },
  {
   "cell_type": "code",
   "execution_count": 7,
   "id": "plain-humidity",
   "metadata": {},
   "outputs": [],
   "source": [
    "img = Image.new(\"L\", (28, 28))\n",
    "draw = ImageDraw.Draw(img)"
   ]
  },
  {
   "cell_type": "code",
   "execution_count": 8,
   "id": "floating-entrepreneur",
   "metadata": {},
   "outputs": [],
   "source": [
    "font = ImageFont.truetype(\"Helvetica-Bold-Font.ttf\", size)\n",
    "draw.text((x, y), str(number), color, font=font)"
   ]
  },
  {
   "cell_type": "code",
   "execution_count": 9,
   "id": "criminal-memorabilia",
   "metadata": {},
   "outputs": [
    {
     "data": {
      "image/png": "[encoded data removed]",
      "text/plain": [
       "<PIL.Image.Image image mode=L size=28x28 at 0x2AE145A2220>"
      ]
     },
     "execution_count": 9,
     "metadata": {},
     "output_type": "execute_result"
    }
   ],
   "source": [
    "img"
   ]
  },
  {
   "cell_type": "code",
   "execution_count": 10,
   "id": "academic-firmware",
   "metadata": {},
   "outputs": [
    {
     "data": {
      "image/png": "[encoded data removed]",
      "text/plain": [
       "<PIL.Image.Image image mode=L size=28x28 at 0x2AE145E8F10>"
      ]
     },
     "execution_count": 10,
     "metadata": {},
     "output_type": "execute_result"
    }
   ],
   "source": [
    "angle = random.randint(-10, 10)\n",
    "im_rotate = img.rotate(angle)\n",
    "im_rotate"
   ]
  },
  {
   "cell_type": "code",
   "execution_count": 11,
   "id": "together-costa",
   "metadata": {},
   "outputs": [],
   "source": [
    "img_arr = np.array(img)"
   ]
  },
  {
   "cell_type": "code",
   "execution_count": 12,
   "id": "pressed-football",
   "metadata": {},
   "outputs": [],
   "source": [
    "imagen = img_arr.tolist()"
   ]
  },
  {
   "cell_type": "code",
   "execution_count": 13,
   "id": "august-cocktail",
   "metadata": {},
   "outputs": [
    {
     "data": {
      "text/plain": [
       "(28, 28)"
      ]
     },
     "execution_count": 13,
     "metadata": {},
     "output_type": "execute_result"
    }
   ],
   "source": [
    "img_arr.shape"
   ]
  },
  {
   "cell_type": "code",
   "execution_count": 14,
   "id": "funded-understanding",
   "metadata": {},
   "outputs": [
    {
     "data": {
      "text/plain": [
       "<matplotlib.image.AxesImage at 0x2ae146527f0>"
      ]
     },
     "execution_count": 14,
     "metadata": {},
     "output_type": "execute_result"
    },
    {
     "data": {
      "image/png": "[encoded data removed]",
      "text/plain": [
       "<Figure size 432x288 with 1 Axes>"
      ]
     },
     "metadata": {
      "needs_background": "light"
     },
     "output_type": "display_data"
    }
   ],
   "source": [
    "plt.imshow(img_arr)"
   ]
  },
  {
   "cell_type": "code",
   "execution_count": 15,
   "id": "transparent-model",
   "metadata": {},
   "outputs": [],
   "source": [
    "num_pics = []\n",
    "value_pics = []"
   ]
  },
  {
   "cell_type": "code",
   "execution_count": 16,
   "id": "boring-height",
   "metadata": {},
   "outputs": [],
   "source": [
    "for _ in range(40000):\n",
    "    number = random.randint(1, 9)\n",
    "    i = random.randint(0, (len(fonts)-1))\n",
    "    fonts = [\"Lato-Medium.ttf\", \"Helvetica-Bold-Font.ttf\", \"Antonio-Regular.ttf\", \"times-new-roman.ttf\", \"calibri.ttf\",\n",
    "             \"Raleway-Bold.ttf\", \"Raleway-Italic.ttf\", \"Raleway-Medium.ttf\", \"Raleway-Thin.ttf\", \"Montserrat-Light.ttf\",\n",
    "             \"TitilliumWeb-Light.ttf\", \"Montserrat-SemiBold.ttf\", \"Montserrat-Regular.ttf\", \"TitilliumWeb-SemiBold.ttf\",\n",
    "             \"TitilliumWeb-Regular.ttf\"]    \n",
    "    font = fonts[i]\n",
    "    color = random.randint(200, 255)\n",
    "    size = random.randint(15, 25)\n",
    "    x = random.randint(0, 14)\n",
    "    y = random.randint(0, 8)\n",
    "    img = Image.new(\"L\", (28, 28))\n",
    "    draw = ImageDraw.Draw(img)\n",
    "    font = ImageFont.truetype(font, size)\n",
    "    draw.text((x, y), str(number), color, font=font)\n",
    "    angle = random.randint(-5, 5)\n",
    "    im_rotate = img.rotate(angle)\n",
    "    im_rotate\n",
    "    img_arr = np.array(im_rotate)\n",
    "    imagen = img_arr.tolist()\n",
    "    num_pics.append(imagen)\n",
    "    value_pics.append(number)"
   ]
  },
  {
   "cell_type": "code",
   "execution_count": 17,
   "id": "caroline-rwanda",
   "metadata": {},
   "outputs": [
    {
     "data": {
      "text/plain": [
       "40000"
      ]
     },
     "execution_count": 17,
     "metadata": {},
     "output_type": "execute_result"
    }
   ],
   "source": [
    "len(num_pics)"
   ]
  },
  {
   "cell_type": "code",
   "execution_count": 18,
   "id": "egyptian-makeup",
   "metadata": {},
   "outputs": [
    {
     "data": {
      "text/plain": [
       "<matplotlib.image.AxesImage at 0x2ae28cd8100>"
      ]
     },
     "execution_count": 18,
     "metadata": {},
     "output_type": "execute_result"
    },
    {
     "data": {
      "image/png": "[encoded data removed]",
      "text/plain": [
       "<Figure size 432x288 with 1 Axes>"
      ]
     },
     "metadata": {
      "needs_background": "light"
     },
     "output_type": "display_data"
    }
   ],
   "source": [
    "ind = random.randint(0, 40000)\n",
    "plt.imshow(num_pics[ind], cmap = \"gray\")"
   ]
  },
  {
   "cell_type": "code",
   "execution_count": 19,
   "id": "finite-destination",
   "metadata": {},
   "outputs": [
    {
     "data": {
      "text/plain": [
       "40000"
      ]
     },
     "execution_count": 19,
     "metadata": {},
     "output_type": "execute_result"
    }
   ],
   "source": [
    "len(value_pics)"
   ]
  },
  {
   "cell_type": "code",
   "execution_count": 20,
   "id": "bronze-murray",
   "metadata": {},
   "outputs": [],
   "source": [
    "arraynums = np.array(num_pics)"
   ]
  },
  {
   "cell_type": "code",
   "execution_count": 21,
   "id": "shaped-lodging",
   "metadata": {},
   "outputs": [],
   "source": [
    "from tensorflow.keras.utils import to_categorical\n",
    "from tensorflow.keras.datasets import mnist\n",
    "train_labels_hot = to_categorical(value_pics)\n",
    "num_pics = arraynums.reshape((40000, 28, 28, 1))\n",
    "num_pics = num_pics.astype('float32') / 255\n"
   ]
  },
  {
   "cell_type": "code",
   "execution_count": 22,
   "id": "organized-detroit",
   "metadata": {},
   "outputs": [],
   "source": [
    "model = models.Sequential()\n",
    "model.add(layers.Conv2D(32, (3, 3), activation='relu', input_shape=(28, 28, 1)))\n",
    "model.add(layers.MaxPooling2D((2, 2)))\n",
    "model.add(layers.Conv2D(64, (3, 3), activation='relu'))\n",
    "model.add(layers.MaxPooling2D((2, 2)))\n",
    "model.add(layers.Conv2D(64, (3, 3), activation='relu'))\n",
    "model.add(layers.Flatten())\n",
    "model.add(layers.Dense(64, activation='relu'))\n",
    "model.add(layers.Dense(10, activation='softmax'))\n",
    "\n",
    "model.compile(\n",
    "    optimizer='rmsprop',\n",
    "    loss='categorical_crossentropy',\n",
    "    metrics=['accuracy']\n",
    ")"
   ]
  },
  {
   "cell_type": "code",
   "execution_count": 23,
   "id": "realistic-editing",
   "metadata": {},
   "outputs": [
    {
     "name": "stdout",
     "output_type": "stream",
     "text": [
      "Epoch 1/10\n",
      "282/282 [==============================] - 10s 35ms/step - loss: 1.2117 - accuracy: 0.5743 - val_loss: 0.9560 - val_accuracy: 0.6578\n",
      "Epoch 2/10\n",
      "282/282 [==============================] - 11s 37ms/step - loss: 0.3593 - accuracy: 0.8794 - val_loss: 0.2132 - val_accuracy: 0.9245\n",
      "Epoch 3/10\n",
      "282/282 [==============================] - 12s 43ms/step - loss: 0.1724 - accuracy: 0.9452 - val_loss: 0.0993 - val_accuracy: 0.9670\n",
      "Epoch 4/10\n",
      "282/282 [==============================] - 12s 42ms/step - loss: 0.1068 - accuracy: 0.9664 - val_loss: 0.2545 - val_accuracy: 0.9218\n",
      "Epoch 5/10\n",
      "282/282 [==============================] - 11s 40ms/step - loss: 0.0713 - accuracy: 0.9781 - val_loss: 0.0370 - val_accuracy: 0.9877\n",
      "Epoch 6/10\n",
      "282/282 [==============================] - 11s 40ms/step - loss: 0.0515 - accuracy: 0.9826 - val_loss: 0.2304 - val_accuracy: 0.9305\n",
      "Epoch 7/10\n",
      "282/282 [==============================] - 11s 41ms/step - loss: 0.0410 - accuracy: 0.9868 - val_loss: 0.0282 - val_accuracy: 0.9902\n",
      "Epoch 8/10\n",
      "282/282 [==============================] - 12s 41ms/step - loss: 0.0310 - accuracy: 0.9898 - val_loss: 0.2500 - val_accuracy: 0.9470\n",
      "Epoch 9/10\n",
      "282/282 [==============================] - 11s 41ms/step - loss: 0.0265 - accuracy: 0.9916 - val_loss: 0.1644 - val_accuracy: 0.9495\n",
      "Epoch 10/10\n",
      "282/282 [==============================] - 11s 41ms/step - loss: 0.0220 - accuracy: 0.9930 - val_loss: 0.0252 - val_accuracy: 0.9920\n"
     ]
    },
    {
     "data": {
      "text/plain": [
       "<tensorflow.python.keras.callbacks.History at 0x2ae1523bd90>"
      ]
     },
     "execution_count": 23,
     "metadata": {},
     "output_type": "execute_result"
    }
   ],
   "source": [
    "model.fit(num_pics, train_labels_hot, epochs=10, batch_size=128, validation_split=0.1)"
   ]
  },
  {
   "cell_type": "code",
   "execution_count": 24,
   "id": "genetic-vermont",
   "metadata": {},
   "outputs": [
    {
     "data": {
      "text/plain": [
       "<matplotlib.image.AxesImage at 0x2ae150a74c0>"
      ]
     },
     "execution_count": 24,
     "metadata": {},
     "output_type": "execute_result"
    },
    {
     "data": {
      "image/png": "[encoded data removed]",
      "text/plain": [
       "<Figure size 432x288 with 1 Axes>"
      ]
     },
     "metadata": {
      "needs_background": "light"
     },
     "output_type": "display_data"
    }
   ],
   "source": [
    "plt.imshow(img_arr)"
   ]
  },
  {
   "cell_type": "code",
   "execution_count": 25,
   "id": "theoretical-slovakia",
   "metadata": {},
   "outputs": [
    {
     "data": {
      "text/plain": [
       "(28, 28)"
      ]
     },
     "execution_count": 25,
     "metadata": {},
     "output_type": "execute_result"
    }
   ],
   "source": [
    "img_arr.shape"
   ]
  },
  {
   "cell_type": "code",
   "execution_count": 26,
   "id": "accompanied-terry",
   "metadata": {},
   "outputs": [],
   "source": [
    "numerinchi = img_arr.reshape((1, 28, 28, 1))\n",
    "numerinchi = numerinchi.astype('float32') / 255"
   ]
  },
  {
   "cell_type": "code",
   "execution_count": 27,
   "id": "innocent-washer",
   "metadata": {},
   "outputs": [],
   "source": [
    "res = np.argmax(model.predict(numerinchi), axis=-1)"
   ]
  },
  {
   "cell_type": "code",
   "execution_count": 28,
   "id": "fabulous-tribune",
   "metadata": {},
   "outputs": [
    {
     "name": "stdout",
     "output_type": "stream",
     "text": [
      "The number is 1\n"
     ]
    }
   ],
   "source": [
    "print(f\"The number is {res[0]}\")"
   ]
  },
  {
   "cell_type": "code",
   "execution_count": 29,
   "id": "italic-barrier",
   "metadata": {},
   "outputs": [],
   "source": [
    "from keras.models import load_model\n",
    "model.save('my_model_my_numbers.h5')  # creates a HDF5 file 'my_model.h5'\n",
    "#del model  # deletes the existing model\n",
    "# returns a compiled model\n",
    "# identical to the previous one\n",
    "#model = load_model('my_model.h5')"
   ]
  },
  {
   "cell_type": "code",
   "execution_count": null,
   "id": "persistent-netherlands",
   "metadata": {},
   "outputs": [],
   "source": []
  }
 ],
 "metadata": {
  "kernelspec": {
   "display_name": "Python 3",
   "language": "python",
   "name": "python3"
  },
  "language_info": {
   "codemirror_mode": {
    "name": "ipython",
    "version": 3
   },
   "file_extension": ".py",
   "mimetype": "text/x-python",
   "name": "python",
   "nbconvert_exporter": "python",
   "pygments_lexer": "ipython3",
   "version": "3.8.5"
  }
 },
 "nbformat": 4,
 "nbformat_minor": 5
}
