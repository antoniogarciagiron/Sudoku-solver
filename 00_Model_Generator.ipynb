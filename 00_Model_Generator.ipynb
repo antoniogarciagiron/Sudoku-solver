{
 "cells": [
  {
   "cell_type": "code",
   "execution_count": 1,
   "id": "practical-reform",
   "metadata": {},
   "outputs": [],
   "source": [
    "import sys\n",
    "sys.path.append(\"../\")\n",
    "from src.func import *\n",
    "from tensorflow.keras.models import load_model\n",
    "from tensorflow.keras.utils import to_categorical\n",
    "from tensorflow.keras.datasets import mnist\n",
    "\n",
    "from PIL import Image, ImageDraw, ImageFont\n",
    "import random"
   ]
  },
  {
   "cell_type": "code",
   "execution_count": 5,
   "id": "colonial-contrary",
   "metadata": {},
   "outputs": [],
   "source": [
    "num_pics = []\n",
    "value_pics = []\n",
    "for _ in range(40000):\n",
    "    number = random.randint(1, 9)    \n",
    "    fonts = [\"Lato-Medium.ttf\", \"Helvetica-Bold-Font.ttf\", \"Antonio-Regular.ttf\", \"times-new-roman.ttf\", \"calibri.ttf\",\n",
    "             \"Raleway-Bold.ttf\", \"Raleway-Italic.ttf\", \"Raleway-Medium.ttf\", \"Raleway-Thin.ttf\", \"Montserrat-Light.ttf\",\n",
    "             \"TitilliumWeb-Light.ttf\", \"Montserrat-SemiBold.ttf\", \"Montserrat-Regular.ttf\", \"TitilliumWeb-SemiBold.ttf\",\n",
    "             \"TitilliumWeb-Regular.ttf\"]    \n",
    "    i = random.randint(0, (len(fonts)-1))\n",
    "    font = f\"Fonts/{fonts[i]}\"\n",
    "    color = random.randint(200, 255)\n",
    "    size = random.randint(15, 25)\n",
    "    x = random.randint(0, 14)\n",
    "    y = random.randint(0, 8)\n",
    "    img = Image.new(\"L\", (28, 28))\n",
    "    draw = ImageDraw.Draw(img)\n",
    "    font = ImageFont.truetype(font, size)\n",
    "    draw.text((x, y), str(number), color, font=font)\n",
    "    angle = random.randint(-5, 5)\n",
    "    im_rotate = img.rotate(angle)\n",
    "    im_rotate\n",
    "    img_arr = np.array(im_rotate)\n",
    "    imagen = img_arr.tolist()\n",
    "    num_pics.append(imagen)\n",
    "    value_pics.append(number)"
   ]
  },
  {
   "cell_type": "code",
   "execution_count": 15,
   "id": "heated-seeking",
   "metadata": {},
   "outputs": [],
   "source": [
    "arraynums = np.array(num_pics)\n",
    "train_labels_hot = to_categorical(value_pics)\n",
    "num_pics = arraynums.reshape((40000, 28, 28, 1))\n",
    "num_pics = num_pics.astype('float32') / 255"
   ]
  },
  {
   "cell_type": "code",
   "execution_count": 16,
   "id": "indirect-serial",
   "metadata": {},
   "outputs": [],
   "source": [
    "model = models.Sequential()\n",
    "model.add(layers.Conv2D(32, (3, 3), activation='relu', input_shape=(28, 28, 1)))\n",
    "model.add(layers.MaxPooling2D((2, 2)))\n",
    "model.add(layers.Conv2D(64, (3, 3), activation='relu'))\n",
    "model.add(layers.MaxPooling2D((2, 2)))\n",
    "model.add(layers.Conv2D(64, (3, 3), activation='relu'))\n",
    "model.add(layers.Flatten())\n",
    "model.add(layers.Dense(64, activation='relu'))\n",
    "model.add(layers.Dense(10, activation='softmax'))\n",
    "\n",
    "model.compile(\n",
    "    optimizer='rmsprop',\n",
    "    loss='categorical_crossentropy',\n",
    "    metrics=['accuracy']\n",
    ")"
   ]
  },
  {
   "cell_type": "code",
   "execution_count": 17,
   "id": "preliminary-liberal",
   "metadata": {},
   "outputs": [
    {
     "name": "stdout",
     "output_type": "stream",
     "text": [
      "Epoch 1/10\n",
      "282/282 [==============================] - 10s 35ms/step - loss: 1.2836 - accuracy: 0.5365 - val_loss: 0.5640 - val_accuracy: 0.8077\n",
      "Epoch 2/10\n",
      "282/282 [==============================] - 10s 35ms/step - loss: 0.4313 - accuracy: 0.8579 - val_loss: 0.2996 - val_accuracy: 0.8942\n",
      "Epoch 3/10\n",
      "282/282 [==============================] - 10s 36ms/step - loss: 0.1993 - accuracy: 0.9366 - val_loss: 0.1117 - val_accuracy: 0.9647\n",
      "Epoch 4/10\n",
      "282/282 [==============================] - 10s 37ms/step - loss: 0.1241 - accuracy: 0.9614 - val_loss: 0.1020 - val_accuracy: 0.9657\n",
      "Epoch 5/10\n",
      "282/282 [==============================] - 10s 37ms/step - loss: 0.0788 - accuracy: 0.9743 - val_loss: 0.2042 - val_accuracy: 0.9370\n",
      "Epoch 6/10\n",
      "282/282 [==============================] - 11s 39ms/step - loss: 0.0535 - accuracy: 0.9822 - val_loss: 0.1771 - val_accuracy: 0.9427\n",
      "Epoch 7/10\n",
      "282/282 [==============================] - 12s 41ms/step - loss: 0.0422 - accuracy: 0.9869 - val_loss: 0.0293 - val_accuracy: 0.9895\n",
      "Epoch 8/10\n",
      "282/282 [==============================] - 12s 41ms/step - loss: 0.0349 - accuracy: 0.9886 - val_loss: 0.0328 - val_accuracy: 0.9908\n",
      "Epoch 9/10\n",
      "282/282 [==============================] - 12s 42ms/step - loss: 0.0269 - accuracy: 0.9909 - val_loss: 0.0244 - val_accuracy: 0.9920\n",
      "Epoch 10/10\n",
      "282/282 [==============================] - 12s 41ms/step - loss: 0.0224 - accuracy: 0.9934 - val_loss: 0.0164 - val_accuracy: 0.9942\n"
     ]
    },
    {
     "data": {
      "text/plain": [
       "<tensorflow.python.keras.callbacks.History at 0x1eab6a9cbb0>"
      ]
     },
     "execution_count": 17,
     "metadata": {},
     "output_type": "execute_result"
    }
   ],
   "source": [
    "model.fit(num_pics, train_labels_hot, epochs=10, batch_size=128, validation_split=0.1)"
   ]
  },
  {
   "cell_type": "code",
   "execution_count": 18,
   "id": "continent-plaza",
   "metadata": {},
   "outputs": [],
   "source": [
    "from keras.models import load_model\n",
    "model.save('test_model.h5')"
   ]
  },
  {
   "cell_type": "code",
   "execution_count": null,
   "id": "naughty-refrigerator",
   "metadata": {},
   "outputs": [],
   "source": []
  }
 ],
 "metadata": {
  "kernelspec": {
   "display_name": "Python 3",
   "language": "python",
   "name": "python3"
  },
  "language_info": {
   "codemirror_mode": {
    "name": "ipython",
    "version": 3
   },
   "file_extension": ".py",
   "mimetype": "text/x-python",
   "name": "python",
   "nbconvert_exporter": "python",
   "pygments_lexer": "ipython3",
   "version": "3.8.5"
  }
 },
 "nbformat": 4,
 "nbformat_minor": 5
}
