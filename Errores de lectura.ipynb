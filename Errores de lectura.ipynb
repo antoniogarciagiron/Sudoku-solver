{
 "cells": [
  {
   "cell_type": "markdown",
   "id": "accompanied-amsterdam",
   "metadata": {},
   "source": [
    "Primero importo las cosas que tengo en mis funciones y el modelo"
   ]
  },
  {
   "cell_type": "code",
   "execution_count": 1,
   "id": "foreign-aging",
   "metadata": {},
   "outputs": [],
   "source": [
    "import sys\n",
    "sys.path.append(\"../\")\n",
    "from src.func import *\n",
    "\n",
    "from keras.models import load_model\n",
    "model = load_model('my_model.h5')"
   ]
  },
  {
   "cell_type": "markdown",
   "id": "brief-cooperative",
   "metadata": {},
   "source": [
    "Ahora he hecho esta función que me mira si hay números o no en las minifotos, con lo que dijimos de la media de los colores   \n",
    "Si hay número me lo pasa por el modelo y me lo predice"
   ]
  },
  {
   "cell_type": "code",
   "execution_count": 56,
   "id": "direct-baseball",
   "metadata": {},
   "outputs": [],
   "source": [
    "def number_or_not(sudolist):\n",
    "    numnot = []\n",
    "    probabilidades = []\n",
    "    numeromodificado = []\n",
    "    \n",
    "    for square in sudolist: \n",
    "        \n",
    "        a = 1.5 # 1.0-3.0\n",
    "        b = 0 # 0-100\n",
    "        contrast = cv2.convertScaleAbs(square, alpha=a, beta=b)\n",
    "        \n",
    "        cut = crop_and_reshape_numbers (contrast)\n",
    "        scale = average_pixel_color(cut)\n",
    "        \n",
    "        if scale < 9:\n",
    "            numnot.append(0)\n",
    "            probabilidades.append(0)\n",
    "            numeromodificado.append(0)\n",
    "        else:\n",
    "            #kernel = np.ones((1,1), np.uint8) \n",
    "            #img_erosion = cv2.erode(cut, kernel, iterations=2) \n",
    "            #img_dilation = cv2.dilate(cut, kernel, iterations=1)\n",
    "            \n",
    "            ksize = (3, 3) \n",
    "            blur = cv2.blur(cut, ksize) \n",
    "            \n",
    "            squareform = fig_to_model_format(blur)\n",
    "            \n",
    "            res = np.argmax(model.predict(squareform), axis=-1)\n",
    "            \n",
    "            numnot.append(res[0])\n",
    "            probabilidades.append(model.predict(squareform))\n",
    "            numeromodificado.append(blur)\n",
    "            \n",
    "    return numnot, probabilidades, numeromodificado"
   ]
  },
  {
   "cell_type": "markdown",
   "id": "welcome-information",
   "metadata": {},
   "source": [
    "Al pasar esta imagen me las detecta todas"
   ]
  },
  {
   "cell_type": "code",
   "execution_count": 57,
   "id": "committed-increase",
   "metadata": {},
   "outputs": [
    {
     "name": "stdout",
     "output_type": "stream",
     "text": [
      "[5, 3, 0, 0, 7, 0, 0, 0, 0]\n",
      "[6, 0, 0, 1, 9, 5, 0, 0, 0]\n",
      "[0, 9, 8, 0, 0, 0, 0, 6, 0]\n",
      "[8, 0, 0, 0, 6, 0, 0, 0, 3]\n",
      "[4, 0, 0, 8, 0, 3, 0, 0, 1]\n",
      "[7, 0, 0, 0, 2, 0, 0, 0, 6]\n",
      "[0, 6, 0, 0, 0, 0, 2, 8, 0]\n",
      "[0, 0, 0, 4, 1, 9, 0, 0, 5]\n",
      "[0, 0, 0, 0, 8, 0, 0, 7, 9]\n"
     ]
    }
   ],
   "source": [
    "recortado = sudoku_cut_frame(\"sudokuwik.png\")\n",
    "lista = sudoku_split_81(recortado)\n",
    "lista_final, listaprobs, numeros = number_or_not(lista)\n",
    "print(lista_final[:9])\n",
    "print(lista_final[9:18])\n",
    "print(lista_final[18:27])\n",
    "print(lista_final[27:36])\n",
    "print(lista_final[36:45])\n",
    "print(lista_final[45:54])\n",
    "print(lista_final[54:63])\n",
    "print(lista_final[63:72])\n",
    "print(lista_final[72:81])"
   ]
  },
  {
   "cell_type": "markdown",
   "id": "afraid-throat",
   "metadata": {},
   "source": [
    "Sin embargo al hacerlo con este otro me dan mal varios números\n"
   ]
  },
  {
   "cell_type": "code",
   "execution_count": 62,
   "id": "passive-algebra",
   "metadata": {},
   "outputs": [
    {
     "name": "stdout",
     "output_type": "stream",
     "text": [
      "[0, 0, 3, 2, 5, 0, 0, 5, 0]\n",
      "[0, 4, 0, 7, 0, 0, 2, 0, 5]\n",
      "[0, 0, 0, 0, 0, 5, 0, 0, 7]\n",
      "[7, 0, 7, 0, 0, 0, 5, 0, 0]\n",
      "[0, 0, 0, 5, 0, 8, 7, 0, 0]\n",
      "[5, 0, 0, 0, 0, 0, 3, 0, 0]\n",
      "[0, 0, 0, 0, 0, 7, 0, 0, 6]\n",
      "[0, 7, 0, 1, 0, 0, 7, 0, 9]\n",
      "[0, 0, 8, 8, 7, 0, 0, 7, 0]\n"
     ]
    }
   ],
   "source": [
    "recortado = sudoku_cut_frame(\"Sudoku_5122_easy.jpg\")\n",
    "lista = sudoku_split_81(recortado)\n",
    "lista_final, listaprobs, numeros = number_or_not(lista)\n",
    "print(lista_final[:9])\n",
    "print(lista_final[9:18])\n",
    "print(lista_final[18:27])\n",
    "print(lista_final[27:36])\n",
    "print(lista_final[36:45])\n",
    "print(lista_final[45:54])\n",
    "print(lista_final[54:63])\n",
    "print(lista_final[63:72])\n",
    "print(lista_final[72:81])"
   ]
  },
  {
   "cell_type": "markdown",
   "id": "ruled-variance",
   "metadata": {},
   "source": [
    "Este 9 te lo pilla como un 5:"
   ]
  },
  {
   "cell_type": "code",
   "execution_count": 63,
   "id": "competent-portuguese",
   "metadata": {},
   "outputs": [
    {
     "data": {
      "text/plain": [
       "<matplotlib.image.AxesImage at 0x1ca7a82c640>"
      ]
     },
     "execution_count": 63,
     "metadata": {},
     "output_type": "execute_result"
    },
    {
     "data": {
      "image/png": "[encoded data removed]",
      "text/plain": [
       "<Figure size 432x288 with 1 Axes>"
      ]
     },
     "metadata": {
      "needs_background": "light"
     },
     "output_type": "display_data"
    }
   ],
   "source": [
    "plt.imshow(numeros[7])"
   ]
  },
  {
   "cell_type": "markdown",
   "id": "straight-hopkins",
   "metadata": {},
   "source": [
    "Te dice que la probabilidad de ser un 5 es más del 90%"
   ]
  },
  {
   "cell_type": "code",
   "execution_count": 73,
   "id": "packed-maldives",
   "metadata": {},
   "outputs": [
    {
     "data": {
      "text/plain": [
       "array([2.7000902e-03, 1.6772503e-02, 1.1364162e-05, 8.3721476e-03,\n",
       "       5.1698304e-04, 9.3050748e-01, 8.1241690e-04, 1.2534068e-06,\n",
       "       3.3837318e-02, 6.4685289e-03], dtype=float32)"
      ]
     },
     "execution_count": 73,
     "metadata": {},
     "output_type": "execute_result"
    }
   ],
   "source": [
    "listaprobs[7][0]"
   ]
  },
  {
   "cell_type": "markdown",
   "id": "pending-shape",
   "metadata": {},
   "source": [
    "Este 1 lo pilla como un 7"
   ]
  },
  {
   "cell_type": "code",
   "execution_count": 27,
   "id": "fixed-trademark",
   "metadata": {},
   "outputs": [
    {
     "data": {
      "text/plain": [
       "<matplotlib.image.AxesImage at 0x1ca7bd269a0>"
      ]
     },
     "execution_count": 27,
     "metadata": {},
     "output_type": "execute_result"
    },
    {
     "data": {
      "image/png": "[encoded data removed]",
      "text/plain": [
       "<Figure size 432x288 with 1 Axes>"
      ]
     },
     "metadata": {
      "needs_background": "light"
     },
     "output_type": "display_data"
    }
   ],
   "source": [
    "plt.imshow(numeros[12])"
   ]
  },
  {
   "cell_type": "markdown",
   "id": "neural-investor",
   "metadata": {},
   "source": [
    "Aquí lo mismo, probabilidad de 7 más del 95%"
   ]
  },
  {
   "cell_type": "code",
   "execution_count": 28,
   "id": "prepared-correlation",
   "metadata": {},
   "outputs": [
    {
     "data": {
      "text/plain": [
       "array([[1.2037585e-03, 3.6537983e-02, 5.8393474e-03, 2.0771952e-02,\n",
       "        5.0900057e-03, 3.6446932e-03, 9.5627882e-05, 8.8807988e-01,\n",
       "        1.0230684e-02, 2.8506087e-02]], dtype=float32)"
      ]
     },
     "execution_count": 28,
     "metadata": {},
     "output_type": "execute_result"
    }
   ],
   "source": [
    "listaprobs[12]"
   ]
  },
  {
   "cell_type": "markdown",
   "id": "global-bible",
   "metadata": {},
   "source": [
    "Este otro 1 me lo pilla como un 7 también"
   ]
  },
  {
   "cell_type": "code",
   "execution_count": 9,
   "id": "olympic-bouquet",
   "metadata": {},
   "outputs": [
    {
     "data": {
      "text/plain": [
       "<matplotlib.image.AxesImage at 0x1ca7c05b520>"
      ]
     },
     "execution_count": 9,
     "metadata": {},
     "output_type": "execute_result"
    },
    {
     "data": {
      "image/png": "[encoded data removed]",
      "text/plain": [
       "<Figure size 432x288 with 1 Axes>"
      ]
     },
     "metadata": {
      "needs_background": "light"
     },
     "output_type": "display_data"
    }
   ],
   "source": [
    "plt.imshow(numeros[26])"
   ]
  },
  {
   "cell_type": "markdown",
   "id": "systematic-parade",
   "metadata": {},
   "source": [
    "La probabilidad de 7 es prácticamente igual en este número 1 que en el anterior"
   ]
  },
  {
   "cell_type": "code",
   "execution_count": 10,
   "id": "freelance-consultation",
   "metadata": {},
   "outputs": [
    {
     "data": {
      "text/plain": [
       "array([[3.7330361e-03, 3.4269854e-02, 9.6895201e-03, 1.8374914e-02,\n",
       "        1.7136008e-02, 1.1623417e-02, 3.3375248e-04, 8.6703366e-01,\n",
       "        3.0677554e-03, 3.4738097e-02]], dtype=float32)"
      ]
     },
     "execution_count": 10,
     "metadata": {},
     "output_type": "execute_result"
    }
   ],
   "source": [
    "listaprobs[26]"
   ]
  },
  {
   "cell_type": "markdown",
   "id": "authorized-tongue",
   "metadata": {},
   "source": [
    "Y este 2 por alguna razón también me lo pilla como un 7"
   ]
  },
  {
   "cell_type": "code",
   "execution_count": 11,
   "id": "improved-flight",
   "metadata": {},
   "outputs": [
    {
     "data": {
      "text/plain": [
       "<matplotlib.image.AxesImage at 0x1ca7bebecd0>"
      ]
     },
     "execution_count": 11,
     "metadata": {},
     "output_type": "execute_result"
    },
    {
     "data": {
      "image/png": "[encoded data removed]",
      "text/plain": [
       "<Figure size 432x288 with 1 Axes>"
      ]
     },
     "metadata": {
      "needs_background": "light"
     },
     "output_type": "display_data"
    }
   ],
   "source": [
    "plt.imshow(numeros[29])"
   ]
  },
  {
   "cell_type": "code",
   "execution_count": 12,
   "id": "electrical-talent",
   "metadata": {},
   "outputs": [
    {
     "data": {
      "text/plain": [
       "array([[8.5579818e-03, 5.7814931e-03, 1.6671641e-01, 2.9910157e-02,\n",
       "        1.0341756e-03, 4.7168457e-03, 2.6431060e-05, 7.5755197e-01,\n",
       "        4.3603582e-03, 2.1344159e-02]], dtype=float32)"
      ]
     },
     "execution_count": 12,
     "metadata": {},
     "output_type": "execute_result"
    }
   ],
   "source": [
    "listaprobs[29]"
   ]
  },
  {
   "cell_type": "markdown",
   "id": "cleared-norfolk",
   "metadata": {},
   "source": [
    "Con los últimos números pasa igual"
   ]
  },
  {
   "cell_type": "markdown",
   "id": "worldwide-regulation",
   "metadata": {},
   "source": [
    "Con este otro sudoku lo que pasa es que la resolución no es muy buena, aun así los adivina casi todos:"
   ]
  },
  {
   "cell_type": "code",
   "execution_count": 45,
   "id": "extended-likelihood",
   "metadata": {},
   "outputs": [
    {
     "name": "stdout",
     "output_type": "stream",
     "text": [
      "[5, 3, 0, 0, 7, 0, 0, 0, 0]\n",
      "[6, 0, 0, 1, 9, 5, 0, 0, 0]\n",
      "[0, 9, 8, 0, 0, 0, 0, 6, 0]\n",
      "[8, 0, 0, 0, 6, 0, 0, 0, 3]\n",
      "[4, 0, 0, 8, 0, 3, 0, 0, 1]\n",
      "[3, 0, 0, 0, 2, 0, 0, 0, 6]\n",
      "[0, 6, 0, 0, 0, 0, 5, 8, 0]\n",
      "[0, 0, 0, 4, 1, 9, 0, 0, 5]\n",
      "[0, 0, 0, 0, 8, 0, 0, 3, 9]\n"
     ]
    }
   ],
   "source": [
    "recortado = sudoku_cut_frame(\"Sudokufondo.png\")\n",
    "lista = sudoku_split_81(recortado)\n",
    "lista_final, listaprobs, numeros = number_or_not(lista)\n",
    "print(lista_final[:9])\n",
    "print(lista_final[9:18])\n",
    "print(lista_final[18:27])\n",
    "print(lista_final[27:36])\n",
    "print(lista_final[36:45])\n",
    "print(lista_final[45:54])\n",
    "print(lista_final[54:63])\n",
    "print(lista_final[63:72])\n",
    "print(lista_final[72:81])"
   ]
  },
  {
   "cell_type": "markdown",
   "id": "armed-substitute",
   "metadata": {},
   "source": [
    "Este 7 te lo detecta como un 3"
   ]
  },
  {
   "cell_type": "code",
   "execution_count": 46,
   "id": "afraid-delicious",
   "metadata": {},
   "outputs": [
    {
     "data": {
      "text/plain": [
       "<matplotlib.image.AxesImage at 0x1ca7dce61c0>"
      ]
     },
     "execution_count": 46,
     "metadata": {},
     "output_type": "execute_result"
    },
    {
     "data": {
      "image/png": "[encoded data removed]",
      "text/plain": [
       "<Figure size 432x288 with 1 Axes>"
      ]
     },
     "metadata": {
      "needs_background": "light"
     },
     "output_type": "display_data"
    }
   ],
   "source": [
    "plt.imshow(numeros[45])"
   ]
  },
  {
   "cell_type": "markdown",
   "id": "impaired-utilization",
   "metadata": {},
   "source": [
    "Sin embargo fíjate en las probabilidades, está ahí ahí entre un 3 y un 7"
   ]
  },
  {
   "cell_type": "code",
   "execution_count": 47,
   "id": "bigger-meter",
   "metadata": {},
   "outputs": [
    {
     "data": {
      "text/plain": [
       "array([[0.00449294, 0.07793719, 0.00769765, 0.50771266, 0.00078095,\n",
       "        0.01232232, 0.00102679, 0.3417103 , 0.01378385, 0.03253531]],\n",
       "      dtype=float32)"
      ]
     },
     "execution_count": 47,
     "metadata": {},
     "output_type": "execute_result"
    }
   ],
   "source": [
    "listaprobs[45]"
   ]
  },
  {
   "cell_type": "markdown",
   "id": "precise-sheffield",
   "metadata": {},
   "source": [
    "Con este 2 anda un poco más perdido, dice que es un 5"
   ]
  },
  {
   "cell_type": "code",
   "execution_count": 16,
   "id": "equal-bronze",
   "metadata": {},
   "outputs": [
    {
     "data": {
      "text/plain": [
       "<matplotlib.image.AxesImage at 0x1ca7c249e80>"
      ]
     },
     "execution_count": 16,
     "metadata": {},
     "output_type": "execute_result"
    },
    {
     "data": {
      "image/png": "[encoded data removed]",
      "text/plain": [
       "<Figure size 432x288 with 1 Axes>"
      ]
     },
     "metadata": {
      "needs_background": "light"
     },
     "output_type": "display_data"
    }
   ],
   "source": [
    "plt.imshow(numeros[60])"
   ]
  },
  {
   "cell_type": "code",
   "execution_count": 17,
   "id": "breathing-blink",
   "metadata": {},
   "outputs": [
    {
     "data": {
      "text/plain": [
       "array([[0.10161571, 0.10070787, 0.10166477, 0.06673899, 0.0022133 ,\n",
       "        0.45430946, 0.03240905, 0.06963135, 0.05469985, 0.01600958]],\n",
       "      dtype=float32)"
      ]
     },
     "execution_count": 17,
     "metadata": {},
     "output_type": "execute_result"
    }
   ],
   "source": [
    "listaprobs[60]"
   ]
  },
  {
   "cell_type": "markdown",
   "id": "mexican-allah",
   "metadata": {},
   "source": [
    "Con el 7 está también ahí ahí"
   ]
  },
  {
   "cell_type": "code",
   "execution_count": 18,
   "id": "civic-rendering",
   "metadata": {},
   "outputs": [
    {
     "data": {
      "text/plain": [
       "<matplotlib.image.AxesImage at 0x1ca7d600340>"
      ]
     },
     "execution_count": 18,
     "metadata": {},
     "output_type": "execute_result"
    },
    {
     "data": {
      "image/png": "[encoded data removed]",
      "text/plain": [
       "<Figure size 432x288 with 1 Axes>"
      ]
     },
     "metadata": {
      "needs_background": "light"
     },
     "output_type": "display_data"
    }
   ],
   "source": [
    "plt.imshow(numeros[79])"
   ]
  },
  {
   "cell_type": "code",
   "execution_count": 19,
   "id": "iraqi-reggae",
   "metadata": {},
   "outputs": [
    {
     "data": {
      "text/plain": [
       "array([[0.00517462, 0.06200219, 0.01084697, 0.5751222 , 0.00147132,\n",
       "        0.01705043, 0.00198334, 0.2751626 , 0.02324721, 0.02793903]],\n",
       "      dtype=float32)"
      ]
     },
     "execution_count": 19,
     "metadata": {},
     "output_type": "execute_result"
    }
   ],
   "source": [
    "listaprobs[79]"
   ]
  },
  {
   "cell_type": "markdown",
   "id": "failing-terrorism",
   "metadata": {},
   "source": [
    "En el siguiente solo te falla un número, pero aun así se lo está pensando bastante también:"
   ]
  },
  {
   "cell_type": "code",
   "execution_count": 20,
   "id": "bright-order",
   "metadata": {},
   "outputs": [
    {
     "name": "stdout",
     "output_type": "stream",
     "text": [
      "[3, 0, 2, 0, 0, 0, 0, 0, 0]\n",
      "[0, 0, 3, 0, 0, 0, 0, 0, 0]\n",
      "[0, 0, 0, 0, 0, 0, 0, 0, 4]\n",
      "[0, 4, 0, 0, 5, 0, 0, 0, 0]\n",
      "[0, 6, 0, 0, 7, 0, 0, 0, 0]\n",
      "[0, 0, 0, 0, 0, 0, 0, 2, 0]\n",
      "[0, 8, 0, 0, 0, 0, 0, 0, 0]\n",
      "[0, 0, 0, 0, 0, 0, 0, 0, 0]\n",
      "[0, 0, 0, 0, 0, 0, 8, 0, 0]\n"
     ]
    }
   ],
   "source": [
    "recortado = sudoku_cut_frame(\"Sudoku2.jpg\")\n",
    "lista = sudoku_split_81(recortado)\n",
    "lista_final, listaprobs, numeros = number_or_not(lista)\n",
    "print(lista_final[:9])\n",
    "print(lista_final[9:18])\n",
    "print(lista_final[18:27])\n",
    "print(lista_final[27:36])\n",
    "print(lista_final[36:45])\n",
    "print(lista_final[45:54])\n",
    "print(lista_final[54:63])\n",
    "print(lista_final[63:72])\n",
    "print(lista_final[72:81])"
   ]
  },
  {
   "cell_type": "code",
   "execution_count": 21,
   "id": "cloudy-denmark",
   "metadata": {},
   "outputs": [
    {
     "data": {
      "text/plain": [
       "<matplotlib.image.AxesImage at 0x1ca7d43f040>"
      ]
     },
     "execution_count": 21,
     "metadata": {},
     "output_type": "execute_result"
    },
    {
     "data": {
      "image/png": "[encoded data removed]",
      "text/plain": [
       "<Figure size 432x288 with 1 Axes>"
      ]
     },
     "metadata": {
      "needs_background": "light"
     },
     "output_type": "display_data"
    }
   ],
   "source": [
    "plt.imshow(numeros[0])"
   ]
  },
  {
   "cell_type": "markdown",
   "id": "established-convertible",
   "metadata": {},
   "source": [
    "Está al 26% ese 1, se lo piensa y casi lo acierta"
   ]
  },
  {
   "cell_type": "code",
   "execution_count": 22,
   "id": "graphic-honduras",
   "metadata": {},
   "outputs": [
    {
     "data": {
      "text/plain": [
       "array([[2.7888336e-03, 2.7916136e-01, 1.4322155e-02, 4.5669508e-01,\n",
       "        9.2678827e-05, 5.3331205e-03, 2.8804438e-05, 1.2612161e-01,\n",
       "        4.3590210e-02, 7.1866125e-02]], dtype=float32)"
      ]
     },
     "execution_count": 22,
     "metadata": {},
     "output_type": "execute_result"
    }
   ],
   "source": [
    "listaprobs[0]"
   ]
  },
  {
   "cell_type": "code",
   "execution_count": null,
   "id": "requested-silly",
   "metadata": {},
   "outputs": [],
   "source": []
  }
 ],
 "metadata": {
  "kernelspec": {
   "display_name": "Python 3",
   "language": "python",
   "name": "python3"
  },
  "language_info": {
   "codemirror_mode": {
    "name": "ipython",
    "version": 3
   },
   "file_extension": ".py",
   "mimetype": "text/x-python",
   "name": "python",
   "nbconvert_exporter": "python",
   "pygments_lexer": "ipython3",
   "version": "3.8.5"
  }
 },
 "nbformat": 4,
 "nbformat_minor": 5
}
