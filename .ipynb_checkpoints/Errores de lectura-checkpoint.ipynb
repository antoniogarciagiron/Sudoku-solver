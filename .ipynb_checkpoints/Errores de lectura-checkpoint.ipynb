{
 "cells": [
  {
   "cell_type": "markdown",
   "id": "accompanied-amsterdam",
   "metadata": {},
   "source": [
    "Primero importo las cosas que tengo en mis funciones y el modelo"
   ]
  },
  {
   "cell_type": "code",
   "execution_count": 1,
   "id": "foreign-aging",
   "metadata": {},
   "outputs": [],
   "source": [
    "import sys\n",
    "sys.path.append(\"../\")\n",
    "from src.func import *\n",
    "\n",
    "from keras.models import load_model\n",
    "model = load_model('my_model_my_numbers.h5')"
   ]
  },
  {
   "cell_type": "markdown",
   "id": "brief-cooperative",
   "metadata": {},
   "source": [
    "Ahora he hecho esta función que me mira si hay números o no en las minifotos, con lo que dijimos de la media de los colores   \n",
    "Si hay número me lo pasa por el modelo y me lo predice"
   ]
  },
  {
   "cell_type": "code",
   "execution_count": 2,
   "id": "direct-baseball",
   "metadata": {},
   "outputs": [],
   "source": [
    "def number_or_not(sudolist):\n",
    "    numnot = []\n",
    "    probabilidades = []\n",
    "    numeromodificado = []\n",
    "    \n",
    "    for square in sudolist: \n",
    "        \n",
    "        a = 1.5 # 1.0-3.0\n",
    "        b = 0 # 0-100\n",
    "        contrast = cv2.convertScaleAbs(square, alpha=a, beta=b)\n",
    "        \n",
    "        cut = crop_and_reshape_numbers (contrast)\n",
    "        scale = average_pixel_color(cut)\n",
    "        \n",
    "        if scale < 9:\n",
    "            numnot.append(0)\n",
    "            probabilidades.append(0)\n",
    "            numeromodificado.append(0)\n",
    "        else:\n",
    "            \n",
    "            #kernel = np.ones((1,1), np.uint8) \n",
    "            #img_erosion = cv2.erode(cut, kernel, iterations=2) \n",
    "            #img_dilation = cv2.dilate(cut, kernel, iterations=1)\n",
    "            \n",
    "            ksize = (2, 2) \n",
    "            blur = cv2.blur(cut, ksize) \n",
    "            \n",
    "            squareform = fig_to_model_format(blur)\n",
    "            \n",
    "            res = np.argmax(model.predict(squareform), axis=-1)\n",
    "            \n",
    "            numnot.append(res[0])\n",
    "            probabilidades.append(model.predict(squareform))\n",
    "            numeromodificado.append(blur)\n",
    "            \n",
    "    return numnot, probabilidades, numeromodificado"
   ]
  },
  {
   "cell_type": "markdown",
   "id": "welcome-information",
   "metadata": {},
   "source": [
    "Al pasar esta imagen me las detecta todas"
   ]
  },
  {
   "cell_type": "code",
   "execution_count": 3,
   "id": "committed-increase",
   "metadata": {},
   "outputs": [
    {
     "name": "stdout",
     "output_type": "stream",
     "text": [
      "[5, 3, 0, 0, 7, 0, 0, 0, 0]\n",
      "[6, 0, 0, 1, 9, 5, 0, 0, 0]\n",
      "[0, 9, 8, 0, 0, 0, 0, 6, 0]\n",
      "[8, 0, 0, 0, 6, 0, 0, 0, 3]\n",
      "[4, 0, 0, 8, 0, 3, 0, 0, 1]\n",
      "[7, 0, 0, 0, 2, 0, 0, 0, 6]\n",
      "[0, 6, 0, 0, 0, 0, 2, 8, 0]\n",
      "[0, 0, 0, 4, 1, 9, 0, 0, 5]\n",
      "[0, 0, 0, 0, 8, 0, 0, 7, 9]\n"
     ]
    }
   ],
   "source": [
    "recortado = sudoku_cut_frame(\"sudokuwik.png\")\n",
    "lista = sudoku_split_81(recortado)\n",
    "lista_final, listaprobs, numeros = number_or_not(lista)\n",
    "print(lista_final[:9])\n",
    "print(lista_final[9:18])\n",
    "print(lista_final[18:27])\n",
    "print(lista_final[27:36])\n",
    "print(lista_final[36:45])\n",
    "print(lista_final[45:54])\n",
    "print(lista_final[54:63])\n",
    "print(lista_final[63:72])\n",
    "print(lista_final[72:81])"
   ]
  },
  {
   "cell_type": "markdown",
   "id": "afraid-throat",
   "metadata": {},
   "source": [
    "Sin embargo al hacerlo con este otro me dan mal varios números\n"
   ]
  },
  {
   "cell_type": "code",
   "execution_count": 4,
   "id": "passive-algebra",
   "metadata": {},
   "outputs": [
    {
     "name": "stdout",
     "output_type": "stream",
     "text": [
      "[0, 0, 3, 2, 5, 0, 0, 9, 0]\n",
      "[0, 4, 0, 1, 0, 0, 2, 0, 5]\n",
      "[0, 0, 0, 0, 0, 9, 0, 0, 1]\n",
      "[7, 0, 2, 0, 0, 0, 9, 0, 0]\n",
      "[0, 0, 0, 9, 0, 8, 7, 0, 0]\n",
      "[5, 0, 4, 0, 0, 0, 3, 0, 0]\n",
      "[0, 0, 0, 0, 0, 1, 0, 0, 9]\n",
      "[0, 2, 0, 4, 0, 0, 1, 0, 8]\n",
      "[0, 0, 6, 8, 2, 0, 0, 7, 0]\n"
     ]
    }
   ],
   "source": [
    "recortado = sudoku_cut_frame(\"Sudoku_5122_easy.jpg\")\n",
    "lista = sudoku_split_81(recortado)\n",
    "lista_final, listaprobs, numeros = number_or_not(lista)\n",
    "print(lista_final[:9])\n",
    "print(lista_final[9:18])\n",
    "print(lista_final[18:27])\n",
    "print(lista_final[27:36])\n",
    "print(lista_final[36:45])\n",
    "print(lista_final[45:54])\n",
    "print(lista_final[54:63])\n",
    "print(lista_final[63:72])\n",
    "print(lista_final[72:81])"
   ]
  },
  {
   "cell_type": "markdown",
   "id": "ruled-variance",
   "metadata": {},
   "source": [
    "Este 9 te lo pilla como un 5:"
   ]
  },
  {
   "cell_type": "code",
   "execution_count": 5,
   "id": "competent-portuguese",
   "metadata": {},
   "outputs": [
    {
     "data": {
      "text/plain": [
       "<matplotlib.image.AxesImage at 0x20d1bfcaa60>"
      ]
     },
     "execution_count": 5,
     "metadata": {},
     "output_type": "execute_result"
    },
    {
     "data": {
      "image/png": "[encoded data removed]",
      "text/plain": [
       "<Figure size 432x288 with 1 Axes>"
      ]
     },
     "metadata": {
      "needs_background": "light"
     },
     "output_type": "display_data"
    }
   ],
   "source": [
    "plt.imshow(numeros[7])"
   ]
  },
  {
   "cell_type": "markdown",
   "id": "straight-hopkins",
   "metadata": {},
   "source": [
    "Te dice que la probabilidad de ser un 5 es más del 90%"
   ]
  },
  {
   "cell_type": "code",
   "execution_count": 6,
   "id": "packed-maldives",
   "metadata": {},
   "outputs": [
    {
     "data": {
      "text/plain": [
       "array([8.77712380e-25, 6.04301158e-12, 1.47507534e-10, 6.89462931e-11,\n",
       "       8.28960910e-04, 1.00214486e-07, 4.80271922e-03, 7.06527139e-18,\n",
       "       3.84509272e-04, 9.93983686e-01], dtype=float32)"
      ]
     },
     "execution_count": 6,
     "metadata": {},
     "output_type": "execute_result"
    }
   ],
   "source": [
    "listaprobs[7][0]"
   ]
  },
  {
   "cell_type": "markdown",
   "id": "pending-shape",
   "metadata": {},
   "source": [
    "Este 1 lo pilla como un 7"
   ]
  },
  {
   "cell_type": "code",
   "execution_count": 7,
   "id": "fixed-trademark",
   "metadata": {},
   "outputs": [
    {
     "data": {
      "text/plain": [
       "<matplotlib.image.AxesImage at 0x20d1be60640>"
      ]
     },
     "execution_count": 7,
     "metadata": {},
     "output_type": "execute_result"
    },
    {
     "data": {
      "image/png": "[encoded data removed]",
      "text/plain": [
       "<Figure size 432x288 with 1 Axes>"
      ]
     },
     "metadata": {
      "needs_background": "light"
     },
     "output_type": "display_data"
    }
   ],
   "source": [
    "plt.imshow(numeros[12])"
   ]
  },
  {
   "cell_type": "markdown",
   "id": "neural-investor",
   "metadata": {},
   "source": [
    "Aquí lo mismo, probabilidad de 7 más del 95%"
   ]
  },
  {
   "cell_type": "code",
   "execution_count": 8,
   "id": "prepared-correlation",
   "metadata": {},
   "outputs": [
    {
     "data": {
      "text/plain": [
       "array([[5.2328769e-30, 9.9999297e-01, 5.4289471e-06, 2.3355633e-09,\n",
       "        1.4460447e-06, 2.5306463e-12, 1.2038951e-16, 7.3639306e-08,\n",
       "        6.7126091e-09, 1.8165825e-11]], dtype=float32)"
      ]
     },
     "execution_count": 8,
     "metadata": {},
     "output_type": "execute_result"
    }
   ],
   "source": [
    "listaprobs[12]"
   ]
  },
  {
   "cell_type": "markdown",
   "id": "global-bible",
   "metadata": {},
   "source": [
    "Este otro 1 me lo pilla como un 7 también"
   ]
  },
  {
   "cell_type": "code",
   "execution_count": 9,
   "id": "olympic-bouquet",
   "metadata": {},
   "outputs": [
    {
     "data": {
      "text/plain": [
       "<matplotlib.image.AxesImage at 0x20d1c0df340>"
      ]
     },
     "execution_count": 9,
     "metadata": {},
     "output_type": "execute_result"
    },
    {
     "data": {
      "image/png": "[encoded data removed]",
      "text/plain": [
       "<Figure size 432x288 with 1 Axes>"
      ]
     },
     "metadata": {
      "needs_background": "light"
     },
     "output_type": "display_data"
    }
   ],
   "source": [
    "plt.imshow(numeros[26])"
   ]
  },
  {
   "cell_type": "markdown",
   "id": "systematic-parade",
   "metadata": {},
   "source": [
    "La probabilidad de 7 es prácticamente igual en este número 1 que en el anterior"
   ]
  },
  {
   "cell_type": "code",
   "execution_count": 10,
   "id": "freelance-consultation",
   "metadata": {},
   "outputs": [
    {
     "data": {
      "text/plain": [
       "array([[2.1187151e-29, 9.9999678e-01, 1.1886980e-06, 4.3388497e-09,\n",
       "        2.0519674e-06, 2.8817712e-12, 8.2851390e-17, 2.3856121e-08,\n",
       "        2.6543050e-09, 6.1606872e-11]], dtype=float32)"
      ]
     },
     "execution_count": 10,
     "metadata": {},
     "output_type": "execute_result"
    }
   ],
   "source": [
    "listaprobs[26]"
   ]
  },
  {
   "cell_type": "markdown",
   "id": "authorized-tongue",
   "metadata": {},
   "source": [
    "Y este 2 por alguna razón también me lo pilla como un 7"
   ]
  },
  {
   "cell_type": "code",
   "execution_count": 11,
   "id": "improved-flight",
   "metadata": {},
   "outputs": [
    {
     "data": {
      "text/plain": [
       "<matplotlib.image.AxesImage at 0x20d1bebfd30>"
      ]
     },
     "execution_count": 11,
     "metadata": {},
     "output_type": "execute_result"
    },
    {
     "data": {
      "image/png": "[encoded data removed]",
      "text/plain": [
       "<Figure size 432x288 with 1 Axes>"
      ]
     },
     "metadata": {
      "needs_background": "light"
     },
     "output_type": "display_data"
    }
   ],
   "source": [
    "plt.imshow(numeros[29])"
   ]
  },
  {
   "cell_type": "code",
   "execution_count": 12,
   "id": "electrical-talent",
   "metadata": {},
   "outputs": [
    {
     "data": {
      "text/plain": [
       "array([[1.0584587e-34, 2.0211934e-10, 9.9999976e-01, 2.6208132e-13,\n",
       "        4.6605983e-12, 5.3799592e-17, 1.3089187e-18, 1.8149188e-07,\n",
       "        1.7541065e-12, 2.0409620e-10]], dtype=float32)"
      ]
     },
     "execution_count": 12,
     "metadata": {},
     "output_type": "execute_result"
    }
   ],
   "source": [
    "listaprobs[29]"
   ]
  },
  {
   "cell_type": "markdown",
   "id": "cleared-norfolk",
   "metadata": {},
   "source": [
    "Con los últimos números pasa igual"
   ]
  },
  {
   "cell_type": "markdown",
   "id": "worldwide-regulation",
   "metadata": {},
   "source": [
    "Con este otro sudoku lo que pasa es que la resolución no es muy buena, aun así los adivina casi todos:"
   ]
  },
  {
   "cell_type": "code",
   "execution_count": 13,
   "id": "extended-likelihood",
   "metadata": {},
   "outputs": [
    {
     "name": "stdout",
     "output_type": "stream",
     "text": [
      "[5, 3, 0, 0, 7, 0, 0, 0, 0]\n",
      "[6, 0, 0, 1, 9, 5, 0, 0, 0]\n",
      "[0, 9, 8, 0, 0, 0, 0, 6, 0]\n",
      "[8, 0, 0, 0, 6, 0, 0, 0, 3]\n",
      "[4, 0, 0, 8, 0, 3, 0, 0, 1]\n",
      "[7, 0, 0, 0, 2, 0, 0, 0, 6]\n",
      "[0, 6, 0, 0, 0, 0, 2, 8, 0]\n",
      "[0, 0, 0, 4, 1, 9, 0, 0, 5]\n",
      "[0, 0, 0, 0, 8, 0, 0, 7, 9]\n"
     ]
    }
   ],
   "source": [
    "recortado = sudoku_cut_frame(\"Sudokufondo.png\")\n",
    "lista = sudoku_split_81(recortado)\n",
    "lista_final, listaprobs, numeros = number_or_not(lista)\n",
    "print(lista_final[:9])\n",
    "print(lista_final[9:18])\n",
    "print(lista_final[18:27])\n",
    "print(lista_final[27:36])\n",
    "print(lista_final[36:45])\n",
    "print(lista_final[45:54])\n",
    "print(lista_final[54:63])\n",
    "print(lista_final[63:72])\n",
    "print(lista_final[72:81])"
   ]
  },
  {
   "cell_type": "markdown",
   "id": "armed-substitute",
   "metadata": {},
   "source": [
    "Este 7 te lo detecta como un 3"
   ]
  },
  {
   "cell_type": "code",
   "execution_count": 14,
   "id": "afraid-delicious",
   "metadata": {},
   "outputs": [
    {
     "data": {
      "text/plain": [
       "<matplotlib.image.AxesImage at 0x20d1c3ef310>"
      ]
     },
     "execution_count": 14,
     "metadata": {},
     "output_type": "execute_result"
    },
    {
     "data": {
      "image/png": "[encoded data removed]",
      "text/plain": [
       "<Figure size 432x288 with 1 Axes>"
      ]
     },
     "metadata": {
      "needs_background": "light"
     },
     "output_type": "display_data"
    }
   ],
   "source": [
    "plt.imshow(numeros[45])"
   ]
  },
  {
   "cell_type": "markdown",
   "id": "impaired-utilization",
   "metadata": {},
   "source": [
    "Sin embargo fíjate en las probabilidades, está ahí ahí entre un 3 y un 7"
   ]
  },
  {
   "cell_type": "code",
   "execution_count": 15,
   "id": "bigger-meter",
   "metadata": {},
   "outputs": [
    {
     "data": {
      "text/plain": [
       "array([[0.0000000e+00, 2.9637189e-15, 1.3182899e-10, 2.5031277e-16,\n",
       "        6.9976612e-22, 1.2751932e-18, 1.0954725e-24, 1.0000000e+00,\n",
       "        6.9655261e-19, 1.1707119e-11]], dtype=float32)"
      ]
     },
     "execution_count": 15,
     "metadata": {},
     "output_type": "execute_result"
    }
   ],
   "source": [
    "listaprobs[45]"
   ]
  },
  {
   "cell_type": "markdown",
   "id": "precise-sheffield",
   "metadata": {},
   "source": [
    "Con este 2 anda un poco más perdido, dice que es un 5"
   ]
  },
  {
   "cell_type": "code",
   "execution_count": 16,
   "id": "equal-bronze",
   "metadata": {},
   "outputs": [
    {
     "data": {
      "text/plain": [
       "<matplotlib.image.AxesImage at 0x20d1c4f3e80>"
      ]
     },
     "execution_count": 16,
     "metadata": {},
     "output_type": "execute_result"
    },
    {
     "data": {
      "image/png": "[encoded data removed]",
      "text/plain": [
       "<Figure size 432x288 with 1 Axes>"
      ]
     },
     "metadata": {
      "needs_background": "light"
     },
     "output_type": "display_data"
    }
   ],
   "source": [
    "plt.imshow(numeros[60])"
   ]
  },
  {
   "cell_type": "code",
   "execution_count": 17,
   "id": "breathing-blink",
   "metadata": {},
   "outputs": [
    {
     "data": {
      "text/plain": [
       "array([[1.6183167e-33, 3.9352305e-13, 1.0000000e+00, 1.3407770e-11,\n",
       "        1.6106348e-13, 3.2870592e-18, 1.9518456e-19, 1.6869202e-13,\n",
       "        4.8334877e-13, 1.1162172e-11]], dtype=float32)"
      ]
     },
     "execution_count": 17,
     "metadata": {},
     "output_type": "execute_result"
    }
   ],
   "source": [
    "listaprobs[60]"
   ]
  },
  {
   "cell_type": "markdown",
   "id": "mexican-allah",
   "metadata": {},
   "source": [
    "Con el 7 está también ahí ahí"
   ]
  },
  {
   "cell_type": "code",
   "execution_count": 18,
   "id": "civic-rendering",
   "metadata": {},
   "outputs": [
    {
     "data": {
      "text/plain": [
       "<matplotlib.image.AxesImage at 0x20d1d694520>"
      ]
     },
     "execution_count": 18,
     "metadata": {},
     "output_type": "execute_result"
    },
    {
     "data": {
      "image/png": "[encoded data removed]",
      "text/plain": [
       "<Figure size 432x288 with 1 Axes>"
      ]
     },
     "metadata": {
      "needs_background": "light"
     },
     "output_type": "display_data"
    }
   ],
   "source": [
    "plt.imshow(numeros[79])"
   ]
  },
  {
   "cell_type": "code",
   "execution_count": 19,
   "id": "iraqi-reggae",
   "metadata": {},
   "outputs": [
    {
     "data": {
      "text/plain": [
       "array([[9.9718136e-38, 4.6908813e-14, 1.4433178e-09, 5.5298842e-15,\n",
       "        3.5540578e-21, 2.1804689e-17, 4.9701499e-24, 1.0000000e+00,\n",
       "        1.7848139e-17, 1.1115686e-11]], dtype=float32)"
      ]
     },
     "execution_count": 19,
     "metadata": {},
     "output_type": "execute_result"
    }
   ],
   "source": [
    "listaprobs[79]"
   ]
  },
  {
   "cell_type": "markdown",
   "id": "failing-terrorism",
   "metadata": {},
   "source": [
    "En el siguiente solo te falla un número, pero aun así se lo está pensando bastante también:"
   ]
  },
  {
   "cell_type": "code",
   "execution_count": 20,
   "id": "bright-order",
   "metadata": {},
   "outputs": [
    {
     "name": "stdout",
     "output_type": "stream",
     "text": [
      "[1, 0, 2, 0, 0, 0, 0, 0, 0]\n",
      "[0, 0, 3, 0, 0, 0, 0, 0, 0]\n",
      "[0, 0, 0, 0, 0, 0, 0, 0, 4]\n",
      "[0, 4, 0, 0, 5, 0, 0, 0, 0]\n",
      "[0, 6, 0, 0, 7, 0, 0, 0, 0]\n",
      "[0, 0, 0, 0, 0, 0, 0, 2, 0]\n",
      "[0, 8, 0, 0, 0, 0, 0, 0, 0]\n",
      "[0, 0, 0, 0, 0, 0, 0, 0, 0]\n",
      "[0, 0, 0, 0, 0, 0, 8, 0, 0]\n"
     ]
    }
   ],
   "source": [
    "recortado = sudoku_cut_frame(\"Sudoku2.jpg\")\n",
    "lista = sudoku_split_81(recortado)\n",
    "lista_final, listaprobs, numeros = number_or_not(lista)\n",
    "print(lista_final[:9])\n",
    "print(lista_final[9:18])\n",
    "print(lista_final[18:27])\n",
    "print(lista_final[27:36])\n",
    "print(lista_final[36:45])\n",
    "print(lista_final[45:54])\n",
    "print(lista_final[54:63])\n",
    "print(lista_final[63:72])\n",
    "print(lista_final[72:81])"
   ]
  },
  {
   "cell_type": "code",
   "execution_count": 21,
   "id": "cloudy-denmark",
   "metadata": {},
   "outputs": [
    {
     "data": {
      "text/plain": [
       "<matplotlib.image.AxesImage at 0x20d1c4ff7f0>"
      ]
     },
     "execution_count": 21,
     "metadata": {},
     "output_type": "execute_result"
    },
    {
     "data": {
      "image/png": "[encoded data removed]",
      "text/plain": [
       "<Figure size 432x288 with 1 Axes>"
      ]
     },
     "metadata": {
      "needs_background": "light"
     },
     "output_type": "display_data"
    }
   ],
   "source": [
    "plt.imshow(numeros[0])"
   ]
  },
  {
   "cell_type": "markdown",
   "id": "established-convertible",
   "metadata": {},
   "source": [
    "Está al 26% ese 1, se lo piensa y casi lo acierta"
   ]
  },
  {
   "cell_type": "code",
   "execution_count": 22,
   "id": "graphic-honduras",
   "metadata": {},
   "outputs": [
    {
     "data": {
      "text/plain": [
       "array([[0.0000000e+00, 1.0000000e+00, 3.6530237e-11, 1.7600371e-14,\n",
       "        3.0023757e-14, 1.7396895e-16, 8.2525791e-25, 8.6526982e-15,\n",
       "        1.4169078e-14, 2.0786586e-17]], dtype=float32)"
      ]
     },
     "execution_count": 22,
     "metadata": {},
     "output_type": "execute_result"
    }
   ],
   "source": [
    "listaprobs[0]"
   ]
  },
  {
   "cell_type": "code",
   "execution_count": 23,
   "id": "requested-silly",
   "metadata": {},
   "outputs": [
    {
     "name": "stdout",
     "output_type": "stream",
     "text": [
      "[5, 3, 4, 6, 7, 8, 9, 1, 2]\n",
      "[6, 7, 2, 1, 9, 5, 3, 4, 8]\n",
      "[1, 9, 8, 3, 4, 2, 5, 6, 7]\n",
      "[8, 5, 9, 7, 6, 1, 4, 2, 3]\n",
      "[4, 2, 6, 8, 5, 3, 7, 9, 1]\n",
      "[7, 1, 3, 9, 2, 4, 8, 5, 6]\n",
      "[9, 6, 1, 5, 3, 7, 2, 8, 4]\n",
      "[2, 8, 7, 4, 1, 9, 6, 3, 5]\n",
      "[3, 4, 5, 2, 8, 6, 1, 7, 9]\n"
     ]
    }
   ],
   "source": [
    "recortado = sudoku_cut_frame(\"sudokusolved.png\")\n",
    "lista = sudoku_split_81(recortado)\n",
    "lista_final, listaprobs, numeros = number_or_not(lista)\n",
    "print(lista_final[:9])\n",
    "print(lista_final[9:18])\n",
    "print(lista_final[18:27])\n",
    "print(lista_final[27:36])\n",
    "print(lista_final[36:45])\n",
    "print(lista_final[45:54])\n",
    "print(lista_final[54:63])\n",
    "print(lista_final[63:72])\n",
    "print(lista_final[72:81])"
   ]
  },
  {
   "cell_type": "code",
   "execution_count": 24,
   "id": "divided-hello",
   "metadata": {},
   "outputs": [
    {
     "data": {
      "text/plain": [
       "<matplotlib.image.AxesImage at 0x20d1be620d0>"
      ]
     },
     "execution_count": 24,
     "metadata": {},
     "output_type": "execute_result"
    },
    {
     "data": {
      "image/png": "[encoded data removed]",
      "text/plain": [
       "<Figure size 432x288 with 1 Axes>"
      ]
     },
     "metadata": {
      "needs_background": "light"
     },
     "output_type": "display_data"
    }
   ],
   "source": [
    "plt.imshow(numeros[9])"
   ]
  },
  {
   "cell_type": "code",
   "execution_count": 25,
   "id": "figured-instruction",
   "metadata": {},
   "outputs": [
    {
     "data": {
      "text/plain": [
       "<matplotlib.image.AxesImage at 0x20d1bdacdc0>"
      ]
     },
     "execution_count": 25,
     "metadata": {},
     "output_type": "execute_result"
    },
    {
     "data": {
      "image/png": "[encoded data removed]",
      "text/plain": [
       "<Figure size 432x288 with 1 Axes>"
      ]
     },
     "metadata": {
      "needs_background": "light"
     },
     "output_type": "display_data"
    }
   ],
   "source": [
    "plt.imshow(numeros[11])"
   ]
  },
  {
   "cell_type": "code",
   "execution_count": 26,
   "id": "rapid-biography",
   "metadata": {},
   "outputs": [
    {
     "data": {
      "text/plain": [
       "array([[8.5712340e-32, 2.3419999e-12, 9.9992943e-01, 5.2765553e-10,\n",
       "        8.7089752e-08, 7.1498453e-11, 7.4222828e-10, 8.3427386e-07,\n",
       "        4.5252437e-09, 6.9631118e-05]], dtype=float32)"
      ]
     },
     "execution_count": 26,
     "metadata": {},
     "output_type": "execute_result"
    }
   ],
   "source": [
    "listaprobs[11]"
   ]
  },
  {
   "cell_type": "code",
   "execution_count": 27,
   "id": "greenhouse-reaction",
   "metadata": {},
   "outputs": [
    {
     "data": {
      "text/plain": [
       "<matplotlib.image.AxesImage at 0x20d1da9bc10>"
      ]
     },
     "execution_count": 27,
     "metadata": {},
     "output_type": "execute_result"
    },
    {
     "data": {
      "image/png": "[encoded data removed]",
      "text/plain": [
       "<Figure size 432x288 with 1 Axes>"
      ]
     },
     "metadata": {
      "needs_background": "light"
     },
     "output_type": "display_data"
    }
   ],
   "source": [
    "plt.imshow(numeros[8])"
   ]
  },
  {
   "cell_type": "code",
   "execution_count": 28,
   "id": "dominant-therapy",
   "metadata": {},
   "outputs": [
    {
     "data": {
      "text/plain": [
       "array([[1.0226797e-29, 1.6317296e-11, 9.9951112e-01, 1.1328016e-08,\n",
       "        6.1473577e-07, 8.6042307e-10, 1.1804890e-08, 8.9389259e-06,\n",
       "        7.6269330e-08, 4.7924259e-04]], dtype=float32)"
      ]
     },
     "execution_count": 28,
     "metadata": {},
     "output_type": "execute_result"
    }
   ],
   "source": [
    "listaprobs[8]"
   ]
  },
  {
   "cell_type": "code",
   "execution_count": 29,
   "id": "elegant-international",
   "metadata": {},
   "outputs": [
    {
     "data": {
      "text/plain": [
       "(28, 28, 3)"
      ]
     },
     "execution_count": 29,
     "metadata": {},
     "output_type": "execute_result"
    }
   ],
   "source": [
    "numeros[11].shape"
   ]
  },
  {
   "cell_type": "code",
   "execution_count": 30,
   "id": "dangerous-retro",
   "metadata": {},
   "outputs": [
    {
     "data": {
      "image/png": "[encoded data removed]",
      "text/plain": [
       "<PIL.Image.Image image mode=RGBA size=28x28 at 0x20D1D5D7CD0>"
      ]
     },
     "execution_count": 30,
     "metadata": {},
     "output_type": "execute_result"
    }
   ],
   "source": [
    "from PIL import Image, ImageDraw, ImageFont\n",
    "from matplotlib import cm\n",
    "graynum = cv2.cvtColor(numeros[11], cv2.COLOR_BGR2GRAY)\n",
    "im = Image.fromarray(np.uint8(cm.gist_earth(graynum)*255))\n",
    "im_rotate = im.rotate(10)\n",
    "im_rotate"
   ]
  },
  {
   "cell_type": "code",
   "execution_count": 31,
   "id": "rotary-flexibility",
   "metadata": {},
   "outputs": [],
   "source": [
    "img_arr = np.array(im_rotate)\n"
   ]
  },
  {
   "cell_type": "code",
   "execution_count": 32,
   "id": "educational-florida",
   "metadata": {},
   "outputs": [],
   "source": [
    "squareform = fig_to_model_format(img_arr)\n",
    "            \n"
   ]
  },
  {
   "cell_type": "code",
   "execution_count": 33,
   "id": "critical-roberts",
   "metadata": {},
   "outputs": [],
   "source": [
    "res = np.argmax(model.predict(squareform), axis=-1)"
   ]
  },
  {
   "cell_type": "code",
   "execution_count": 34,
   "id": "considered-bunny",
   "metadata": {},
   "outputs": [
    {
     "data": {
      "text/plain": [
       "array([2], dtype=int64)"
      ]
     },
     "execution_count": 34,
     "metadata": {},
     "output_type": "execute_result"
    }
   ],
   "source": [
    "res"
   ]
  },
  {
   "cell_type": "code",
   "execution_count": 35,
   "id": "derived-notification",
   "metadata": {},
   "outputs": [
    {
     "data": {
      "text/plain": [
       "0.997077"
      ]
     },
     "execution_count": 35,
     "metadata": {},
     "output_type": "execute_result"
    }
   ],
   "source": [
    "max(model.predict(squareform)[0])"
   ]
  },
  {
   "cell_type": "code",
   "execution_count": 36,
   "id": "religious-magnitude",
   "metadata": {},
   "outputs": [],
   "source": [
    "from PIL import Image, ImageDraw, ImageFont\n",
    "from matplotlib import cm\n",
    "if max(model.predict(squareform)[0]) < 0.99:\n",
    "    graynum = cv2.cvtColor(numeros[11], cv2.COLOR_BGR2GRAY)\n",
    "    im = Image.fromarray(np.uint8(cm.gist_earth(graynum)*255))\n",
    "    im_rotate = im.rotate(-10)\n",
    "    im_rotate\n",
    "    img_arr = np.array(im_rotate)\n",
    "    squareform = fig_to_model_format(img_arr)\n",
    "    res = np.argmax(model.predict(squareform), axis=-1)\n",
    "    res\n",
    "    model.predict(squareform)"
   ]
  },
  {
   "cell_type": "code",
   "execution_count": 110,
   "id": "vital-thermal",
   "metadata": {},
   "outputs": [
    {
     "name": "stdout",
     "output_type": "stream",
     "text": [
      "[5, 3, 4, 6, 7, 8, 9, 1, 2]\n",
      "[6, 7, 2, 1, 9, 5, 3, 4, 8]\n",
      "[1, 9, 8, 3, 4, 2, 5, 6, 7]\n",
      "[8, 5, 9, 7, 6, 1, 4, 2, 3]\n",
      "[4, 2, 6, 8, 5, 3, 7, 9, 1]\n",
      "[7, 1, 3, 9, 2, 4, 8, 5, 6]\n",
      "[9, 6, 1, 5, 3, 7, 2, 8, 4]\n",
      "[2, 8, 7, 4, 1, 9, 6, 3, 5]\n",
      "[3, 4, 5, 2, 8, 6, 1, 7, 9]\n"
     ]
    }
   ],
   "source": [
    "recortado = sudoku_cut_frame(\"sudokusolvedblack.png\")\n",
    "lista = sudoku_split_81(recortado)\n",
    "lista_final, listaprobs, numeros = number_or_not(lista)\n",
    "print(lista_final[:9])\n",
    "print(lista_final[9:18])\n",
    "print(lista_final[18:27])\n",
    "print(lista_final[27:36])\n",
    "print(lista_final[36:45])\n",
    "print(lista_final[45:54])\n",
    "print(lista_final[54:63])\n",
    "print(lista_final[63:72])\n",
    "print(lista_final[72:81])"
   ]
  },
  {
   "cell_type": "markdown",
   "id": "secondary-costs",
   "metadata": {},
   "source": [
    "Convertir en listas de filas y columnas"
   ]
  },
  {
   "cell_type": "code",
   "execution_count": 52,
   "id": "third-ballet",
   "metadata": {},
   "outputs": [],
   "source": [
    "lista_final\n",
    "rows = (np.array_split(lista_final, 9))\n",
    "splitlist = []\n",
    "for array in rows:\n",
    "    ar = array.tolist()\n",
    "    splitlist.append(ar)"
   ]
  },
  {
   "cell_type": "code",
   "execution_count": 56,
   "id": "artistic-demographic",
   "metadata": {},
   "outputs": [
    {
     "data": {
      "text/plain": [
       "[[5, 3, 4, 6, 7, 8, 9, 1, 2],\n",
       " [6, 7, 2, 1, 9, 5, 3, 4, 8],\n",
       " [1, 9, 8, 3, 4, 2, 5, 6, 7],\n",
       " [8, 5, 9, 7, 6, 1, 4, 2, 3],\n",
       " [4, 2, 6, 8, 5, 3, 7, 9, 1],\n",
       " [7, 1, 3, 9, 2, 4, 8, 5, 6],\n",
       " [9, 6, 1, 5, 3, 7, 2, 8, 4],\n",
       " [2, 8, 7, 4, 1, 9, 6, 3, 5],\n",
       " [3, 4, 5, 2, 8, 6, 1, 7, 9]]"
      ]
     },
     "execution_count": 56,
     "metadata": {},
     "output_type": "execute_result"
    }
   ],
   "source": [
    "splitlist"
   ]
  },
  {
   "cell_type": "code",
   "execution_count": 106,
   "id": "subsequent-helicopter",
   "metadata": {},
   "outputs": [
    {
     "data": {
      "text/plain": [
       "[[5, 3, 4, 6, 7, 8, 9, 1, 2],\n",
       " [6, 7, 2, 1, 9, 5, 3, 4, 8],\n",
       " [1, 9, 8, 3, 4, 2, 5, 6, 7],\n",
       " [8, 5, 9, 7, 6, 1, 4, 2, 3],\n",
       " [4, 2, 6, 8, 5, 3, 7, 9, 1],\n",
       " [7, 1, 3, 9, 2, 4, 8, 5, 6],\n",
       " [9, 6, 1, 5, 3, 7, 2, 8, 4],\n",
       " [2, 8, 7, 4, 1, 9, 6, 3, 5],\n",
       " [3, 4, 5, 2, 8, 6, 1, 7, 9]]"
      ]
     },
     "execution_count": 106,
     "metadata": {},
     "output_type": "execute_result"
    }
   ],
   "source": [
    "l = lista_final\n",
    "filas = [l[(i*9):(i*9+9)] for i in range(9)]\n",
    "filas"
   ]
  },
  {
   "cell_type": "code",
   "execution_count": 107,
   "id": "second-kingdom",
   "metadata": {},
   "outputs": [],
   "source": [
    "l = lista_final\n",
    "columns = [l[i::9] for i in range(9)]"
   ]
  },
  {
   "cell_type": "code",
   "execution_count": 108,
   "id": "charitable-nature",
   "metadata": {},
   "outputs": [
    {
     "data": {
      "text/plain": [
       "[[5, 6, 1, 8, 4, 7, 9, 2, 3],\n",
       " [3, 7, 9, 5, 2, 1, 6, 8, 4],\n",
       " [4, 2, 8, 9, 6, 3, 1, 7, 5],\n",
       " [6, 1, 3, 7, 8, 9, 5, 4, 2],\n",
       " [7, 9, 4, 6, 5, 2, 3, 1, 8],\n",
       " [8, 5, 2, 1, 3, 4, 7, 9, 6],\n",
       " [9, 3, 5, 4, 7, 8, 2, 6, 1],\n",
       " [1, 4, 6, 2, 9, 5, 8, 3, 7],\n",
       " [2, 8, 7, 3, 1, 6, 4, 5, 9]]"
      ]
     },
     "execution_count": 108,
     "metadata": {},
     "output_type": "execute_result"
    }
   ],
   "source": [
    "columns"
   ]
  },
  {
   "cell_type": "code",
   "execution_count": 67,
   "id": "seasonal-disney",
   "metadata": {},
   "outputs": [],
   "source": [
    "l = lista_final\n",
    "trios = (np.array_split(lista_final, 27))\n"
   ]
  },
  {
   "cell_type": "code",
   "execution_count": 76,
   "id": "painful-madrid",
   "metadata": {},
   "outputs": [
    {
     "data": {
      "text/plain": [
       "[array([5, 3, 4], dtype=int64),\n",
       " array([6, 7, 8], dtype=int64),\n",
       " array([9, 1, 2], dtype=int64),\n",
       " array([6, 7, 2], dtype=int64),\n",
       " array([1, 9, 5], dtype=int64),\n",
       " array([3, 4, 8], dtype=int64),\n",
       " array([1, 9, 8], dtype=int64),\n",
       " array([3, 4, 2], dtype=int64),\n",
       " array([5, 6, 7], dtype=int64),\n",
       " array([8, 5, 9], dtype=int64),\n",
       " array([7, 6, 1], dtype=int64),\n",
       " array([4, 2, 3], dtype=int64),\n",
       " array([4, 2, 6], dtype=int64),\n",
       " array([8, 5, 3], dtype=int64),\n",
       " array([7, 9, 1], dtype=int64),\n",
       " array([7, 1, 3], dtype=int64),\n",
       " array([9, 2, 4], dtype=int64),\n",
       " array([8, 5, 6], dtype=int64),\n",
       " array([9, 6, 1], dtype=int64),\n",
       " array([5, 3, 7], dtype=int64),\n",
       " array([2, 8, 4], dtype=int64),\n",
       " array([2, 8, 7], dtype=int64),\n",
       " array([4, 1, 9], dtype=int64),\n",
       " array([6, 3, 5], dtype=int64),\n",
       " array([3, 4, 5], dtype=int64),\n",
       " array([2, 8, 6], dtype=int64),\n",
       " array([1, 7, 9], dtype=int64)]"
      ]
     },
     "execution_count": 76,
     "metadata": {},
     "output_type": "execute_result"
    }
   ],
   "source": [
    "trios"
   ]
  },
  {
   "cell_type": "code",
   "execution_count": 81,
   "id": "proprietary-naples",
   "metadata": {},
   "outputs": [
    {
     "data": {
      "text/plain": [
       "[5, 3, 4, 6, 7, 2, 1, 9, 8]"
      ]
     },
     "execution_count": 81,
     "metadata": {},
     "output_type": "execute_result"
    }
   ],
   "source": [
    "cuad = np.concatenate((trios[0], trios[3], trios[6]))\n",
    "cuad.tolist()"
   ]
  },
  {
   "cell_type": "code",
   "execution_count": 131,
   "id": "royal-bridges",
   "metadata": {},
   "outputs": [],
   "source": [
    "cuadrantes = []\n",
    "counter = 0\n",
    "while counter < 26:\n",
    "    for i in range(3):\n",
    "        cuad = np.concatenate((trios[counter+i], trios[counter+i+3], trios[counter+i+6]))\n",
    "        cuad = cuad.tolist()\n",
    "        cuadrantes.append(cuad)\n",
    "    counter+=9"
   ]
  },
  {
   "cell_type": "code",
   "execution_count": 132,
   "id": "together-customs",
   "metadata": {},
   "outputs": [
    {
     "data": {
      "text/plain": [
       "[[5, 3, 4, 6, 7, 2, 1, 9, 8],\n",
       " [6, 7, 8, 1, 9, 5, 3, 4, 2],\n",
       " [9, 1, 2, 3, 4, 8, 5, 6, 7],\n",
       " [8, 5, 9, 4, 2, 6, 7, 1, 3],\n",
       " [7, 6, 1, 8, 5, 3, 9, 2, 4],\n",
       " [4, 2, 3, 7, 9, 1, 8, 5, 6],\n",
       " [9, 6, 1, 2, 8, 7, 3, 4, 5],\n",
       " [5, 3, 7, 4, 1, 9, 2, 8, 6],\n",
       " [2, 8, 4, 6, 3, 5, 1, 7, 9]]"
      ]
     },
     "execution_count": 132,
     "metadata": {},
     "output_type": "execute_result"
    }
   ],
   "source": [
    "cuadrantes"
   ]
  },
  {
   "cell_type": "code",
   "execution_count": 133,
   "id": "stunning-scene",
   "metadata": {},
   "outputs": [],
   "source": [
    "def get_rows_cols_quads(sudokulist):\n",
    "    rows = [sudokulist[(i*9):(i*9+9)] for i in range(9)]\n",
    "    \n",
    "    columns = [l[i::9] for i in range(9)]    \n",
    "    \n",
    "    triplets = (np.array_split(sudokulist, 27))\n",
    "    quadrants = []\n",
    "    counter = 0\n",
    "    while counter < 26:\n",
    "        for i in range(3):\n",
    "            cuad = np.concatenate((triplets[counter+i], triplets[counter+i+3], triplets[counter+i+6]))\n",
    "            cuad = cuad.tolist()\n",
    "            quadrants.append(cuad)\n",
    "        counter+=9\n",
    "        \n",
    "    return rows, columns, quadrants"
   ]
  },
  {
   "cell_type": "code",
   "execution_count": 134,
   "id": "noble-therapy",
   "metadata": {},
   "outputs": [],
   "source": [
    "filas, columnas, cuadrantes = get_rows_cols_quads(lista_final)"
   ]
  },
  {
   "cell_type": "code",
   "execution_count": 135,
   "id": "surface-request",
   "metadata": {},
   "outputs": [
    {
     "data": {
      "text/plain": [
       "[[5, 3, 4, 6, 7, 8, 9, 1, 2],\n",
       " [6, 7, 2, 1, 9, 5, 3, 4, 8],\n",
       " [1, 9, 8, 3, 4, 2, 5, 6, 7],\n",
       " [8, 5, 9, 7, 6, 1, 4, 2, 3],\n",
       " [4, 2, 6, 8, 5, 3, 7, 9, 1],\n",
       " [7, 1, 3, 9, 2, 4, 8, 5, 6],\n",
       " [9, 6, 1, 5, 3, 7, 2, 8, 4],\n",
       " [2, 8, 7, 4, 1, 9, 6, 3, 5],\n",
       " [3, 4, 5, 2, 8, 6, 1, 7, 9]]"
      ]
     },
     "execution_count": 135,
     "metadata": {},
     "output_type": "execute_result"
    }
   ],
   "source": [
    "filas"
   ]
  },
  {
   "cell_type": "code",
   "execution_count": 136,
   "id": "liquid-modification",
   "metadata": {},
   "outputs": [
    {
     "data": {
      "text/plain": [
       "[[5, 6, 1, 8, 4, 7, 9, 2, 3],\n",
       " [3, 7, 9, 5, 2, 1, 6, 8, 4],\n",
       " [4, 2, 8, 9, 6, 3, 1, 7, 5],\n",
       " [6, 1, 3, 7, 8, 9, 5, 4, 2],\n",
       " [7, 9, 4, 6, 5, 2, 3, 1, 8],\n",
       " [8, 5, 2, 1, 3, 4, 7, 9, 6],\n",
       " [9, 3, 5, 4, 7, 8, 2, 6, 1],\n",
       " [1, 4, 6, 2, 9, 5, 8, 3, 7],\n",
       " [2, 8, 7, 3, 1, 6, 4, 5, 9]]"
      ]
     },
     "execution_count": 136,
     "metadata": {},
     "output_type": "execute_result"
    }
   ],
   "source": [
    "columnas"
   ]
  },
  {
   "cell_type": "code",
   "execution_count": 137,
   "id": "excited-hartford",
   "metadata": {},
   "outputs": [
    {
     "data": {
      "text/plain": [
       "[[5, 3, 4, 6, 7, 2, 1, 9, 8],\n",
       " [6, 7, 8, 1, 9, 5, 3, 4, 2],\n",
       " [9, 1, 2, 3, 4, 8, 5, 6, 7],\n",
       " [8, 5, 9, 4, 2, 6, 7, 1, 3],\n",
       " [7, 6, 1, 8, 5, 3, 9, 2, 4],\n",
       " [4, 2, 3, 7, 9, 1, 8, 5, 6],\n",
       " [9, 6, 1, 2, 8, 7, 3, 4, 5],\n",
       " [5, 3, 7, 4, 1, 9, 2, 8, 6],\n",
       " [2, 8, 4, 6, 3, 5, 1, 7, 9]]"
      ]
     },
     "execution_count": 137,
     "metadata": {},
     "output_type": "execute_result"
    }
   ],
   "source": [
    "cuadrantes"
   ]
  },
  {
   "cell_type": "code",
   "execution_count": 148,
   "id": "christian-mauritius",
   "metadata": {},
   "outputs": [
    {
     "name": "stdout",
     "output_type": "stream",
     "text": [
      "Well done! ;)\n"
     ]
    }
   ],
   "source": [
    "Error = False\n",
    "for f in filas:\n",
    "    if len(set(f)) != 9:\n",
    "        Error = True\n",
    "for c in columnas:\n",
    "    if len(set(c)) != 9:\n",
    "        Error = True\n",
    "for q in cuadrantes:\n",
    "    if len(set(q)) != 9:\n",
    "        Error = True\n",
    "if Error:\n",
    "    print(\"Mistakes were made :(\")\n",
    "else:\n",
    "    print(\"Well done! ;)\")"
   ]
  },
  {
   "cell_type": "code",
   "execution_count": 163,
   "id": "marked-disaster",
   "metadata": {},
   "outputs": [],
   "source": [
    "def sudoku_proofreader (rows, cols, quads):\n",
    "    OK = True\n",
    "    for f in rows:\n",
    "        if len(set(f)) != 9:\n",
    "            OK = False\n",
    "    for c in cols:\n",
    "        if len(set(c)) != 9:\n",
    "            OK = False\n",
    "    for q in quads:\n",
    "        if len(set(q)) != 9:\n",
    "            OK = False\n",
    "    return OK"
   ]
  },
  {
   "cell_type": "code",
   "execution_count": 165,
   "id": "operating-roman",
   "metadata": {},
   "outputs": [
    {
     "name": "stdout",
     "output_type": "stream",
     "text": [
      "Well done ;)\n"
     ]
    }
   ],
   "source": [
    "resultado = sudoku_proofreader(filas, columnas, cuadrantes)\n",
    "if resultado: \n",
    "    print(\"Well done ;)\")\n",
    "else:\n",
    "    print(\"Something went wrong :(\")"
   ]
  },
  {
   "cell_type": "code",
   "execution_count": null,
   "id": "relative-seventh",
   "metadata": {},
   "outputs": [],
   "source": []
  }
 ],
 "metadata": {
  "kernelspec": {
   "display_name": "Python 3",
   "language": "python",
   "name": "python3"
  },
  "language_info": {
   "codemirror_mode": {
    "name": "ipython",
    "version": 3
   },
   "file_extension": ".py",
   "mimetype": "text/x-python",
   "name": "python",
   "nbconvert_exporter": "python",
   "pygments_lexer": "ipython3",
   "version": "3.8.5"
  }
 },
 "nbformat": 4,
 "nbformat_minor": 5
}
