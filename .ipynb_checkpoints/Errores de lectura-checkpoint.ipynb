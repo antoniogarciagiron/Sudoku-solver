{
 "cells": [
  {
   "cell_type": "markdown",
   "id": "practical-lambda",
   "metadata": {},
   "source": [
    "Primero importo las cosas que tengo en mis funciones y el modelo"
   ]
  },
  {
   "cell_type": "code",
   "execution_count": 1,
   "id": "tropical-biotechnology",
   "metadata": {},
   "outputs": [],
   "source": [
    "import sys\n",
    "sys.path.append(\"../\")\n",
    "from src.func import *\n",
    "\n",
    "from keras.models import load_model\n",
    "model = load_model('my_model.h5')"
   ]
  },
  {
   "cell_type": "markdown",
   "id": "liquid-contamination",
   "metadata": {},
   "source": [
    "Ahora he hecho esta función que me mira si hay números o no en las minifotos, con lo que dijimos de la media de los colores   \n",
    "Si hay número me lo pasa por el modelo y me lo predice"
   ]
  },
  {
   "cell_type": "code",
   "execution_count": 62,
   "id": "rubber-salem",
   "metadata": {},
   "outputs": [],
   "source": [
    "def number_or_not(sudolist):\n",
    "    numnot = []\n",
    "    probabilidades = []\n",
    "    numeromodificado = []\n",
    "    \n",
    "    for square in sudolist: \n",
    "        \n",
    "        a = 1.5 # 1.0-3.0\n",
    "        b = 0 # 0-100\n",
    "        contrast = cv2.convertScaleAbs(square, alpha=a, beta=b)\n",
    "        \n",
    "        cut = crop_and_reshape_numbers (contrast)\n",
    "        scale = average_pixel_color(cut)\n",
    "        \n",
    "        if scale < 9:\n",
    "            numnot.append(0)\n",
    "            probabilidades.append(0)\n",
    "            numeromodificado.append(0)\n",
    "        else:\n",
    "            #kernel = np.ones((1,1), np.uint8) \n",
    "            #img_erosion = cv2.erode(cut, kernel, iterations=2) \n",
    "            #img_dilation = cv2.dilate(cut, kernel, iterations=1)\n",
    "            \n",
    "            ksize = (3, 3) \n",
    "            blur = cv2.blur(cut, ksize) \n",
    "            \n",
    "            squareform = fig_to_model_format(blur)\n",
    "            \n",
    "            res = np.argmax(model.predict(squareform), axis=-1)\n",
    "            \n",
    "            numnot.append(res[0])\n",
    "            probabilidades.append(model.predict(squareform))\n",
    "            numeromodificado.append(blur)\n",
    "            \n",
    "    return numnot, probabilidades, numeromodificado"
   ]
  },
  {
   "cell_type": "markdown",
   "id": "owned-conservation",
   "metadata": {},
   "source": [
    "Al pasar esta imagen me las detecta todas"
   ]
  },
  {
   "cell_type": "code",
   "execution_count": 63,
   "id": "digital-software",
   "metadata": {},
   "outputs": [
    {
     "name": "stdout",
     "output_type": "stream",
     "text": [
      "[5, 3, 0, 0, 7, 0, 0, 0, 0]\n",
      "[6, 0, 0, 1, 9, 5, 0, 0, 0]\n",
      "[0, 9, 8, 0, 0, 0, 0, 6, 0]\n",
      "[8, 0, 0, 0, 6, 0, 0, 0, 3]\n",
      "[4, 0, 0, 8, 0, 3, 0, 0, 1]\n",
      "[7, 0, 0, 0, 2, 0, 0, 0, 6]\n",
      "[0, 6, 0, 0, 0, 0, 2, 8, 0]\n",
      "[0, 0, 0, 4, 1, 9, 0, 0, 5]\n",
      "[0, 0, 0, 0, 8, 0, 0, 7, 9]\n"
     ]
    }
   ],
   "source": [
    "recortado = sudoku_cut_frame(\"sudokuwik.png\")\n",
    "lista = sudoku_split_81(recortado)\n",
    "lista_final, listaprobs, numeros = number_or_not(lista)\n",
    "print(lista_final[:9])\n",
    "print(lista_final[9:18])\n",
    "print(lista_final[18:27])\n",
    "print(lista_final[27:36])\n",
    "print(lista_final[36:45])\n",
    "print(lista_final[45:54])\n",
    "print(lista_final[54:63])\n",
    "print(lista_final[63:72])\n",
    "print(lista_final[72:81])"
   ]
  },
  {
   "cell_type": "markdown",
   "id": "healthy-executive",
   "metadata": {},
   "source": [
    "Sin embargo al hacerlo con este otro me dan mal varios números\n"
   ]
  },
  {
   "cell_type": "code",
   "execution_count": 66,
   "id": "surrounded-fourth",
   "metadata": {},
   "outputs": [
    {
     "name": "stdout",
     "output_type": "stream",
     "text": [
      "[0, 0, 3, 2, 5, 0, 0, 5, 0]\n",
      "[0, 4, 0, 7, 0, 0, 2, 0, 5]\n",
      "[0, 0, 0, 0, 0, 5, 0, 0, 7]\n",
      "[7, 0, 7, 0, 0, 0, 5, 0, 0]\n",
      "[0, 0, 0, 5, 0, 8, 7, 0, 0]\n",
      "[5, 0, 0, 0, 0, 0, 3, 0, 0]\n",
      "[0, 0, 0, 0, 0, 7, 0, 0, 6]\n",
      "[0, 7, 0, 1, 0, 0, 7, 0, 9]\n",
      "[0, 0, 8, 8, 7, 0, 0, 7, 0]\n"
     ]
    }
   ],
   "source": [
    "recortado = sudoku_cut_frame(\"Sudoku_5122_easy.jpg\")\n",
    "lista = sudoku_split_81(recortado)\n",
    "lista_final, listaprobs, numeros = number_or_not(lista)\n",
    "print(lista_final[:9])\n",
    "print(lista_final[9:18])\n",
    "print(lista_final[18:27])\n",
    "print(lista_final[27:36])\n",
    "print(lista_final[36:45])\n",
    "print(lista_final[45:54])\n",
    "print(lista_final[54:63])\n",
    "print(lista_final[63:72])\n",
    "print(lista_final[72:81])"
   ]
  },
  {
   "cell_type": "markdown",
   "id": "billion-dialogue",
   "metadata": {},
   "source": [
    "Este 9 te lo pilla como un 5:"
   ]
  },
  {
   "cell_type": "code",
   "execution_count": 68,
   "id": "textile-progressive",
   "metadata": {},
   "outputs": [
    {
     "data": {
      "text/plain": [
       "<matplotlib.image.AxesImage at 0x24d15097ac0>"
      ]
     },
     "execution_count": 68,
     "metadata": {},
     "output_type": "execute_result"
    },
    {
     "data": {
      "image/png": "[encoded data removed]",
      "text/plain": [
       "<Figure size 432x288 with 1 Axes>"
      ]
     },
     "metadata": {
      "needs_background": "light"
     },
     "output_type": "display_data"
    }
   ],
   "source": [
    "plt.imshow(numeros[7])"
   ]
  },
  {
   "cell_type": "markdown",
   "id": "scientific-moisture",
   "metadata": {},
   "source": [
    "Te dice que la probabilidad de ser un 5 es más del 90%"
   ]
  },
  {
   "cell_type": "code",
   "execution_count": 35,
   "id": "developmental-desperate",
   "metadata": {},
   "outputs": [
    {
     "data": {
      "text/plain": [
       "array([[2.7000902e-03, 1.6772503e-02, 1.1364162e-05, 8.3721476e-03,\n",
       "        5.1698304e-04, 9.3050748e-01, 8.1241690e-04, 1.2534068e-06,\n",
       "        3.3837318e-02, 6.4685289e-03]], dtype=float32)"
      ]
     },
     "execution_count": 35,
     "metadata": {},
     "output_type": "execute_result"
    }
   ],
   "source": [
    "listaprobs[7]"
   ]
  },
  {
   "cell_type": "markdown",
   "id": "chicken-essay",
   "metadata": {},
   "source": [
    "Este 1 lo pilla como un 7"
   ]
  },
  {
   "cell_type": "code",
   "execution_count": 69,
   "id": "friendly-exclusion",
   "metadata": {},
   "outputs": [
    {
     "data": {
      "text/plain": [
       "<matplotlib.image.AxesImage at 0x24d153ad730>"
      ]
     },
     "execution_count": 69,
     "metadata": {},
     "output_type": "execute_result"
    },
    {
     "data": {
      "image/png": "[encoded data removed]",
      "text/plain": [
       "<Figure size 432x288 with 1 Axes>"
      ]
     },
     "metadata": {
      "needs_background": "light"
     },
     "output_type": "display_data"
    }
   ],
   "source": [
    "plt.imshow(numeros[12])"
   ]
  },
  {
   "cell_type": "markdown",
   "id": "spectacular-society",
   "metadata": {},
   "source": [
    "Aquí lo mismo, probabilidad de 7 más del 95%"
   ]
  },
  {
   "cell_type": "code",
   "execution_count": 37,
   "id": "comparable-compact",
   "metadata": {},
   "outputs": [
    {
     "data": {
      "text/plain": [
       "array([[1.9555229e-04, 1.5893772e-02, 1.6265786e-03, 7.3141893e-03,\n",
       "        1.3502627e-03, 9.3352055e-04, 8.7270228e-06, 9.5686722e-01,\n",
       "        3.3615844e-03, 1.2448680e-02]], dtype=float32)"
      ]
     },
     "execution_count": 37,
     "metadata": {},
     "output_type": "execute_result"
    }
   ],
   "source": [
    "listaprobs[12]"
   ]
  },
  {
   "cell_type": "markdown",
   "id": "clinical-visitor",
   "metadata": {},
   "source": [
    "Este otro 1 me lo pilla como un 7 también"
   ]
  },
  {
   "cell_type": "code",
   "execution_count": 70,
   "id": "complimentary-mainstream",
   "metadata": {},
   "outputs": [
    {
     "data": {
      "text/plain": [
       "<matplotlib.image.AxesImage at 0x24d123bd5b0>"
      ]
     },
     "execution_count": 70,
     "metadata": {},
     "output_type": "execute_result"
    },
    {
     "data": {
      "image/png": "[encoded data removed]",
      "text/plain": [
       "<Figure size 432x288 with 1 Axes>"
      ]
     },
     "metadata": {
      "needs_background": "light"
     },
     "output_type": "display_data"
    }
   ],
   "source": [
    "plt.imshow(numeros[26])"
   ]
  },
  {
   "cell_type": "markdown",
   "id": "clear-negative",
   "metadata": {},
   "source": [
    "La probabilidad de 7 es prácticamente igual en este número 1 que en el anterior"
   ]
  },
  {
   "cell_type": "code",
   "execution_count": 71,
   "id": "fifth-plane",
   "metadata": {},
   "outputs": [
    {
     "data": {
      "text/plain": [
       "array([[8.8413456e-04, 1.5167115e-02, 3.1362739e-03, 6.3588247e-03,\n",
       "        6.6010584e-03, 3.9378977e-03, 3.4926306e-05, 9.4564909e-01,\n",
       "        7.6145527e-04, 1.7469192e-02]], dtype=float32)"
      ]
     },
     "execution_count": 71,
     "metadata": {},
     "output_type": "execute_result"
    }
   ],
   "source": [
    "listaprobs[26]"
   ]
  },
  {
   "cell_type": "markdown",
   "id": "endless-flash",
   "metadata": {},
   "source": [
    "Y este 2 por alguna razón también me lo pilla como un 7"
   ]
  },
  {
   "cell_type": "code",
   "execution_count": 72,
   "id": "hydraulic-scenario",
   "metadata": {},
   "outputs": [
    {
     "data": {
      "text/plain": [
       "<matplotlib.image.AxesImage at 0x24d138fd970>"
      ]
     },
     "execution_count": 72,
     "metadata": {},
     "output_type": "execute_result"
    },
    {
     "data": {
      "image/png": "[encoded data removed]",
      "text/plain": [
       "<Figure size 432x288 with 1 Axes>"
      ]
     },
     "metadata": {
      "needs_background": "light"
     },
     "output_type": "display_data"
    }
   ],
   "source": [
    "plt.imshow(numeros[29])"
   ]
  },
  {
   "cell_type": "code",
   "execution_count": 41,
   "id": "previous-lawrence",
   "metadata": {},
   "outputs": [
    {
     "data": {
      "text/plain": [
       "array([[3.2825675e-03, 1.4653357e-03, 1.2914118e-01, 1.0341570e-02,\n",
       "        1.8468148e-04, 1.4947358e-03, 1.4361036e-06, 8.4307933e-01,\n",
       "        1.1568110e-03, 9.8523758e-03]], dtype=float32)"
      ]
     },
     "execution_count": 41,
     "metadata": {},
     "output_type": "execute_result"
    }
   ],
   "source": [
    "listaprobs[29]"
   ]
  },
  {
   "cell_type": "markdown",
   "id": "single-india",
   "metadata": {},
   "source": [
    "Con los últimos números pasa igual"
   ]
  },
  {
   "cell_type": "markdown",
   "id": "prescription-torture",
   "metadata": {},
   "source": [
    "Con este otro sudoku lo que pasa es que la resolución no es muy buena, aun así los adivina casi todos:"
   ]
  },
  {
   "cell_type": "code",
   "execution_count": 73,
   "id": "surrounded-fields",
   "metadata": {},
   "outputs": [
    {
     "name": "stdout",
     "output_type": "stream",
     "text": [
      "[5, 3, 0, 0, 7, 0, 0, 0, 0]\n",
      "[6, 0, 0, 1, 9, 5, 0, 0, 0]\n",
      "[0, 9, 8, 0, 0, 0, 0, 6, 0]\n",
      "[8, 0, 0, 0, 6, 0, 0, 0, 3]\n",
      "[4, 0, 0, 8, 0, 3, 0, 0, 1]\n",
      "[3, 0, 0, 0, 2, 0, 0, 0, 6]\n",
      "[0, 6, 0, 0, 0, 0, 5, 8, 0]\n",
      "[0, 0, 0, 4, 1, 9, 0, 0, 5]\n",
      "[0, 0, 0, 0, 8, 0, 0, 3, 9]\n"
     ]
    }
   ],
   "source": [
    "recortado = sudoku_cut_frame(\"Sudokufondo.png\")\n",
    "lista = sudoku_split_81(recortado)\n",
    "lista_final, listaprobs, numeros = number_or_not(lista)\n",
    "print(lista_final[:9])\n",
    "print(lista_final[9:18])\n",
    "print(lista_final[18:27])\n",
    "print(lista_final[27:36])\n",
    "print(lista_final[36:45])\n",
    "print(lista_final[45:54])\n",
    "print(lista_final[54:63])\n",
    "print(lista_final[63:72])\n",
    "print(lista_final[72:81])"
   ]
  },
  {
   "cell_type": "markdown",
   "id": "preliminary-dutch",
   "metadata": {},
   "source": [
    "Este 7 te lo detecta como un 3"
   ]
  },
  {
   "cell_type": "code",
   "execution_count": 74,
   "id": "ordinary-bankruptcy",
   "metadata": {},
   "outputs": [
    {
     "data": {
      "text/plain": [
       "<matplotlib.image.AxesImage at 0x24d15067e50>"
      ]
     },
     "execution_count": 74,
     "metadata": {},
     "output_type": "execute_result"
    },
    {
     "data": {
      "image/png": "[encoded data removed]",
      "text/plain": [
       "<Figure size 432x288 with 1 Axes>"
      ]
     },
     "metadata": {
      "needs_background": "light"
     },
     "output_type": "display_data"
    }
   ],
   "source": [
    "plt.imshow(numeros[45])"
   ]
  },
  {
   "cell_type": "markdown",
   "id": "serious-title",
   "metadata": {},
   "source": [
    "Sin embargo fíjate en las probabilidades, está ahí ahí entre un 3 y un 7"
   ]
  },
  {
   "cell_type": "code",
   "execution_count": 25,
   "id": "unable-cleaner",
   "metadata": {},
   "outputs": [
    {
     "data": {
      "text/plain": [
       "array([[0.00371502, 0.07468443, 0.00636618, 0.506387  , 0.00061225,\n",
       "        0.01081957, 0.00080917, 0.35395408, 0.01217514, 0.03047724]],\n",
       "      dtype=float32)"
      ]
     },
     "execution_count": 25,
     "metadata": {},
     "output_type": "execute_result"
    }
   ],
   "source": [
    "listaprobs[45]"
   ]
  },
  {
   "cell_type": "markdown",
   "id": "capital-sphere",
   "metadata": {},
   "source": [
    "Con este 2 anda un poco más perdido, dice que es un 5"
   ]
  },
  {
   "cell_type": "code",
   "execution_count": 75,
   "id": "funded-homework",
   "metadata": {},
   "outputs": [
    {
     "data": {
      "text/plain": [
       "<matplotlib.image.AxesImage at 0x24d15484820>"
      ]
     },
     "execution_count": 75,
     "metadata": {},
     "output_type": "execute_result"
    },
    {
     "data": {
      "image/png": "[encoded data removed]",
      "text/plain": [
       "<Figure size 432x288 with 1 Axes>"
      ]
     },
     "metadata": {
      "needs_background": "light"
     },
     "output_type": "display_data"
    }
   ],
   "source": [
    "plt.imshow(numeros[60])"
   ]
  },
  {
   "cell_type": "code",
   "execution_count": 45,
   "id": "other-concern",
   "metadata": {},
   "outputs": [
    {
     "data": {
      "text/plain": [
       "array([[0.10565984, 0.08658685, 0.09613903, 0.04021606, 0.00085708,\n",
       "        0.5402891 , 0.02961207, 0.04733943, 0.04470223, 0.00859838]],\n",
       "      dtype=float32)"
      ]
     },
     "execution_count": 45,
     "metadata": {},
     "output_type": "execute_result"
    }
   ],
   "source": [
    "listaprobs[60]"
   ]
  },
  {
   "cell_type": "markdown",
   "id": "clear-madagascar",
   "metadata": {},
   "source": [
    "Con el 7 está también ahí ahí"
   ]
  },
  {
   "cell_type": "code",
   "execution_count": 76,
   "id": "concerned-sharing",
   "metadata": {},
   "outputs": [
    {
     "data": {
      "text/plain": [
       "<matplotlib.image.AxesImage at 0x24d13d00d30>"
      ]
     },
     "execution_count": 76,
     "metadata": {},
     "output_type": "execute_result"
    },
    {
     "data": {
      "image/png": "[encoded data removed]",
      "text/plain": [
       "<Figure size 432x288 with 1 Axes>"
      ]
     },
     "metadata": {
      "needs_background": "light"
     },
     "output_type": "display_data"
    }
   ],
   "source": [
    "plt.imshow(numeros[79])"
   ]
  },
  {
   "cell_type": "code",
   "execution_count": 47,
   "id": "subject-helmet",
   "metadata": {},
   "outputs": [
    {
     "data": {
      "text/plain": [
       "array([[2.0621268e-03, 3.7100218e-02, 4.6179276e-03, 6.8150473e-01,\n",
       "        4.0083792e-04, 8.8014621e-03, 5.9880537e-04, 2.3500188e-01,\n",
       "        1.2794456e-02, 1.7117564e-02]], dtype=float32)"
      ]
     },
     "execution_count": 47,
     "metadata": {},
     "output_type": "execute_result"
    }
   ],
   "source": [
    "listaprobs[79]"
   ]
  },
  {
   "cell_type": "markdown",
   "id": "hawaiian-interim",
   "metadata": {},
   "source": [
    "En el siguiente solo te falla un número, pero aun así se lo está pensando bastante también:"
   ]
  },
  {
   "cell_type": "code",
   "execution_count": 77,
   "id": "sound-yield",
   "metadata": {},
   "outputs": [
    {
     "name": "stdout",
     "output_type": "stream",
     "text": [
      "[3, 0, 2, 0, 0, 0, 0, 0, 0]\n",
      "[0, 0, 3, 0, 0, 0, 0, 0, 0]\n",
      "[0, 0, 0, 0, 0, 0, 0, 0, 4]\n",
      "[0, 4, 0, 0, 5, 0, 0, 0, 0]\n",
      "[0, 6, 0, 0, 7, 0, 0, 0, 0]\n",
      "[0, 0, 0, 0, 0, 0, 0, 2, 0]\n",
      "[0, 8, 0, 0, 0, 0, 0, 0, 0]\n",
      "[0, 0, 0, 0, 0, 0, 0, 0, 0]\n",
      "[0, 0, 0, 0, 0, 0, 8, 0, 0]\n"
     ]
    }
   ],
   "source": [
    "recortado = sudoku_cut_frame(\"Sudoku2.jpg\")\n",
    "lista = sudoku_split_81(recortado)\n",
    "lista_final, listaprobs, numeros = number_or_not(lista)\n",
    "print(lista_final[:9])\n",
    "print(lista_final[9:18])\n",
    "print(lista_final[18:27])\n",
    "print(lista_final[27:36])\n",
    "print(lista_final[36:45])\n",
    "print(lista_final[45:54])\n",
    "print(lista_final[54:63])\n",
    "print(lista_final[63:72])\n",
    "print(lista_final[72:81])"
   ]
  },
  {
   "cell_type": "code",
   "execution_count": 78,
   "id": "incoming-technical",
   "metadata": {},
   "outputs": [
    {
     "data": {
      "text/plain": [
       "<matplotlib.image.AxesImage at 0x24d1538c610>"
      ]
     },
     "execution_count": 78,
     "metadata": {},
     "output_type": "execute_result"
    },
    {
     "data": {
      "image/png": "[encoded data removed]",
      "text/plain": [
       "<Figure size 432x288 with 1 Axes>"
      ]
     },
     "metadata": {
      "needs_background": "light"
     },
     "output_type": "display_data"
    }
   ],
   "source": [
    "plt.imshow(numeros[0])"
   ]
  },
  {
   "cell_type": "markdown",
   "id": "colored-anger",
   "metadata": {},
   "source": [
    "Está al 26% ese 1, se lo piensa y casi lo acierta"
   ]
  },
  {
   "cell_type": "code",
   "execution_count": 51,
   "id": "metropolitan-gateway",
   "metadata": {},
   "outputs": [
    {
     "data": {
      "text/plain": [
       "array([[5.1608065e-04, 2.6128927e-01, 5.6680292e-03, 5.7001638e-01,\n",
       "        6.1284163e-06, 1.4580990e-03, 1.2058422e-06, 7.0853628e-02,\n",
       "        3.0022308e-02, 6.0168833e-02]], dtype=float32)"
      ]
     },
     "execution_count": 51,
     "metadata": {},
     "output_type": "execute_result"
    }
   ],
   "source": [
    "listaprobs[0]"
   ]
  },
  {
   "cell_type": "code",
   "execution_count": null,
   "id": "capital-bouquet",
   "metadata": {},
   "outputs": [],
   "source": []
  }
 ],
 "metadata": {
  "kernelspec": {
   "display_name": "Python 3",
   "language": "python",
   "name": "python3"
  },
  "language_info": {
   "codemirror_mode": {
    "name": "ipython",
    "version": 3
   },
   "file_extension": ".py",
   "mimetype": "text/x-python",
   "name": "python",
   "nbconvert_exporter": "python",
   "pygments_lexer": "ipython3",
   "version": "3.8.5"
  }
 },
 "nbformat": 4,
 "nbformat_minor": 5
}
