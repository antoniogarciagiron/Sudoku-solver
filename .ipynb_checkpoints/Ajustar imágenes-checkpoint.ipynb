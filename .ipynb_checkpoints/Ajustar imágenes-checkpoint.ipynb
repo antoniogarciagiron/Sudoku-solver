{
 "cells": [
  {
   "cell_type": "code",
   "execution_count": 1,
   "id": "absent-mother",
   "metadata": {},
   "outputs": [],
   "source": [
    "import pandas as pd\n",
    "from sklearn.model_selection import train_test_split\n",
    "from tensorflow import keras\n",
    "from tensorflow.keras import models\n",
    "from tensorflow.keras import layers\n",
    "import matplotlib.pyplot as plt\n",
    "import cv2\n",
    "import numpy as np"
   ]
  },
  {
   "cell_type": "code",
   "execution_count": 2,
   "id": "latest-painting",
   "metadata": {},
   "outputs": [],
   "source": [
    "import imutils"
   ]
  },
  {
   "cell_type": "code",
   "execution_count": 3,
   "id": "connected-payroll",
   "metadata": {},
   "outputs": [
    {
     "data": {
      "text/plain": [
       "<matplotlib.image.AxesImage at 0x165af6dd970>"
      ]
     },
     "execution_count": 3,
     "metadata": {},
     "output_type": "execute_result"
    },
    {
     "data": {
      "image/png": "[encoded data removed]",
      "text/plain": [
       "<Figure size 432x288 with 1 Axes>"
      ]
     },
     "metadata": {
      "needs_background": "light"
     },
     "output_type": "display_data"
    }
   ],
   "source": [
    "image = cv2.imread(\"7big.png\")\n",
    "#image = cv2.cvtColor(image, cv2.COLOR_BGR2GRAY)\n",
    "plt.imshow(image)"
   ]
  },
  {
   "cell_type": "code",
   "execution_count": 4,
   "id": "unsigned-liberty",
   "metadata": {},
   "outputs": [
    {
     "data": {
      "text/plain": [
       "(49, 62, 3)"
      ]
     },
     "execution_count": 4,
     "metadata": {},
     "output_type": "execute_result"
    }
   ],
   "source": [
    "image.shape"
   ]
  },
  {
   "cell_type": "code",
   "execution_count": 5,
   "id": "broken-polyester",
   "metadata": {},
   "outputs": [
    {
     "data": {
      "text/plain": [
       "62"
      ]
     },
     "execution_count": 5,
     "metadata": {},
     "output_type": "execute_result"
    }
   ],
   "source": [
    "max(image.shape)"
   ]
  },
  {
   "cell_type": "code",
   "execution_count": 6,
   "id": "consistent-raising",
   "metadata": {},
   "outputs": [
    {
     "data": {
      "text/plain": [
       "3"
      ]
     },
     "execution_count": 6,
     "metadata": {},
     "output_type": "execute_result"
    }
   ],
   "source": [
    "min(image.shape)"
   ]
  },
  {
   "cell_type": "code",
   "execution_count": 7,
   "id": "rational-screen",
   "metadata": {},
   "outputs": [
    {
     "data": {
      "text/plain": [
       "<matplotlib.image.AxesImage at 0x165afa0eee0>"
      ]
     },
     "execution_count": 7,
     "metadata": {},
     "output_type": "execute_result"
    },
    {
     "data": {
      "image/png": "[encoded data removed]",
      "text/plain": [
       "<Figure size 432x288 with 1 Axes>"
      ]
     },
     "metadata": {
      "needs_background": "light"
     },
     "output_type": "display_data"
    }
   ],
   "source": [
    "croped = image[12:62, 0:50]\n",
    "plt.imshow(croped)"
   ]
  },
  {
   "cell_type": "code",
   "execution_count": 8,
   "id": "numerical-poetry",
   "metadata": {},
   "outputs": [
    {
     "data": {
      "text/plain": [
       "(37, 50, 3)"
      ]
     },
     "execution_count": 8,
     "metadata": {},
     "output_type": "execute_result"
    }
   ],
   "source": [
    "croped.shape"
   ]
  },
  {
   "cell_type": "code",
   "execution_count": 11,
   "id": "noted-monitor",
   "metadata": {},
   "outputs": [],
   "source": [
    "def crop_and_reshape (image):\n",
    "    size = image.shape\n",
    "    h = size[0]\n",
    "    w = size[1]\n",
    "    if (h == 28) and (w == 28):\n",
    "        return image\n",
    "    if h > w:\n",
    "        reduced = imutils.resize(image, width=28)\n",
    "        mid = reduced.shape[0] // 2\n",
    "        croped = reduced[(mid-14):(mid+14), 0:28]\n",
    "    elif h < w:\n",
    "        reduced = imutils.resize(image, height=28)\n",
    "        mid = reduced.shape[1] // 2\n",
    "        croped = reduced[0:28, (mid-14):(mid+14)]\n",
    "    else:\n",
    "        croped = imutils.resize(image, height=28)\n",
    "    return croped"
   ]
  },
  {
   "cell_type": "code",
   "execution_count": 12,
   "id": "closed-buddy",
   "metadata": {},
   "outputs": [
    {
     "data": {
      "text/plain": [
       "<matplotlib.image.AxesImage at 0x165afc79eb0>"
      ]
     },
     "execution_count": 12,
     "metadata": {},
     "output_type": "execute_result"
    },
    {
     "data": {
      "image/png": "[encoded data removed]",
      "text/plain": [
       "<Figure size 432x288 with 1 Axes>"
      ]
     },
     "metadata": {
      "needs_background": "light"
     },
     "output_type": "display_data"
    }
   ],
   "source": [
    "figfinal = crop_and_reshape(image)\n",
    "plt.imshow(figfinal)"
   ]
  },
  {
   "cell_type": "code",
   "execution_count": 13,
   "id": "assumed-gateway",
   "metadata": {},
   "outputs": [],
   "source": [
    "def loadimage(figname):\n",
    "    '''\n",
    "    It takes the name of the file and loads it in grey scale\n",
    "    Input: name of the file\n",
    "    Output: the image in greyscale\n",
    "    '''\n",
    "    print(figname)\n",
    "    image = cv2.imread(figname)\n",
    "    image = cv2.cvtColor(image, cv2.COLOR_BGR2GRAY)\n",
    "    return image"
   ]
  },
  {
   "cell_type": "code",
   "execution_count": 14,
   "id": "silver-eclipse",
   "metadata": {},
   "outputs": [
    {
     "name": "stdout",
     "output_type": "stream",
     "text": [
      "Num7.png\n"
     ]
    },
    {
     "data": {
      "text/plain": [
       "array([[  0,   0,   0,   0,   0,   0,   0,   0,   0,   0,   0,   0,   0,\n",
       "          0,   0,   0,   0,   0,   0,   0,   0,   0,   0,   0,   0,   0,\n",
       "          0,   0],\n",
       "       [  0,   0,   0,   0,   0,   0,   0,   0,   0,   0,   0,   0,   0,\n",
       "          0,   0,   0,   0,   0,   0,   0,   0,   0,   0,   0,   0,   0,\n",
       "          0,   0],\n",
       "       [  0,   0,   0,   0,   0,   0,   0,   0,   0,   0,   0,   0,   0,\n",
       "          0,   0,   0,   0,   0,   0,   0,   0,   0,   0,   0,   0,   0,\n",
       "          0,   0],\n",
       "       [  0,   0,   0,   0,   0,   0,   0,   0,   0,   0,   0,   0,   0,\n",
       "          0,   0,   0,   0,   0,   0,   0,   0,   0,   0,   0,   0,   0,\n",
       "          0,   0],\n",
       "       [  0,   0,   0,   0,   0,   0,   0,   0,   0,   0,   0,   0,   0,\n",
       "          0,   0,   0,   0,   0,   0,   0, 207, 191,   0,   0,   0,   0,\n",
       "          0,   0],\n",
       "       [  0,   0,   0,   0,   0,   0,   0, 191, 255, 255, 255, 255, 255,\n",
       "        255, 207,  16,  16, 207, 255, 255, 249,   0,   0,   0,   0,   0,\n",
       "          0,   0],\n",
       "       [  0,   0,   0,   0,   0,   0,   0,   0,   0, 191, 255, 255, 255,\n",
       "        255, 255, 255, 255, 255, 255, 243, 239,   0,   0,   0,   0,   0,\n",
       "          0,   0],\n",
       "       [  0,   0,   0,   0,   0,   0,   0,   0,   0,   0,   0,   0,   0,\n",
       "          0,   0,   0,   0,   0,   0, 255,   0,   0,   0,   0,   0,   0,\n",
       "          0,   0],\n",
       "       [  0,   0,   0,   0,   0,   0,   0,   0,   0,   0,   0,   0,   0,\n",
       "          0,   0,   0,   0,   0, 246, 254,   0,   0,   0,   0,   0,   0,\n",
       "          0,   0],\n",
       "       [  0,   0,   0,   0,   0,   0,   0,   0,   0,   0,   0,   0,   0,\n",
       "          0,   0,   0,   0, 207, 255,   0,   0,   0,   0,   0,   0,   0,\n",
       "          0,   0],\n",
       "       [  0,   0,   0,   0,   0,   0,   0,   0,   0,   0,   0,   0,   0,\n",
       "          0,   0,   0,  16, 252, 239,   0,   0,   0,   0,   0,   0,   0,\n",
       "          0,   0],\n",
       "       [  0,   0,   0,   0,   0,   0,   0,   0,   0,   0,   0,   0,   0,\n",
       "          0,   0,   0, 207, 255,   0,   0,   0,   0,   0,   0,   0,   0,\n",
       "          0,   0],\n",
       "       [  0,   0,   0,   0,   0,   0,   0,   0,   0,   0,   0,   0,   0,\n",
       "          0,   0,  16, 252, 239,   0,   0,   0,   0,   0,   0,   0,   0,\n",
       "          0,   0],\n",
       "       [  0,   0,   0,   0,   0,   0,   0,   0,   0,   0,   0, 191, 255,\n",
       "        255, 207, 246, 250,   0,   0,   0,   0,   0,   0,   0,   0,   0,\n",
       "          0,   0],\n",
       "       [  0,   0,   0,   0,   0,   0,   0,   0,   0,   0,   0,   0,   0,\n",
       "          0, 252, 255, 255, 255, 207,  16,   0,   0,   0,   0,   0,   0,\n",
       "          0,   0],\n",
       "       [  0,   0,   0,   0,   0,   0,   0,   0,   0,   0,   0,   0,   0,\n",
       "          0, 255, 239,   0,   0,  48, 239, 191,   0,   0,   0,   0,   0,\n",
       "          0,   0],\n",
       "       [  0,   0,   0,   0,   0,   0,   0,   0,   0,   0,   0,   0,   0,\n",
       "        207, 255,   0,   0,   0,   0,   0,   0,   0,   0,   0,   0,   0,\n",
       "          0,   0],\n",
       "       [  0,   0,   0,   0,   0,   0,   0,   0,   0,   0,   0,   0,   0,\n",
       "        255, 239,   0,   0,   0,   0,   0,   0,   0,   0,   0,   0,   0,\n",
       "          0,   0],\n",
       "       [  0,   0,   0,   0,   0,   0,   0,   0,   0,   0,   0,   0, 207,\n",
       "        255,   0,   0,   0,   0,   0,   0,   0,   0,   0,   0,   0,   0,\n",
       "          0,   0],\n",
       "       [  0,   0,   0,   0,   0,   0,   0,   0,   0,   0,   0,   0, 255,\n",
       "        239,   0,   0,   0,   0,   0,   0,   0,   0,   0,   0,   0,   0,\n",
       "          0,   0],\n",
       "       [  0,   0,   0,   0,   0,   0,   0,   0,   0,   0,   0, 207, 255,\n",
       "          0,   0,   0,   0,   0,   0,   0,   0,   0,   0,   0,   0,   0,\n",
       "          0,   0],\n",
       "       [  0,   0,   0,   0,   0,   0,   0,   0,   0,   0,   0, 255, 255,\n",
       "          0,   0,   0,   0,   0,   0,   0,   0,   0,   0,   0,   0,   0,\n",
       "          0,   0],\n",
       "       [  0,   0,   0,   0,   0,   0,   0,   0,   0,   0,   0, 255, 239,\n",
       "          0,   0,   0,   0,   0,   0,   0,   0,   0,   0,   0,   0,   0,\n",
       "          0,   0],\n",
       "       [  0,   0,   0,   0,   0,   0,   0,   0,   0,   0, 191, 239,   0,\n",
       "          0,   0,   0,   0,   0,   0,   0,   0,   0,   0,   0,   0,   0,\n",
       "          0,   0],\n",
       "       [  0,   0,   0,   0,   0,   0,   0,   0,   0,   0,   0,   0,   0,\n",
       "          0,   0,   0,   0,   0,   0,   0,   0,   0,   0,   0,   0,   0,\n",
       "          0,   0],\n",
       "       [  0,   0,   0,   0,   0,   0,   0,   0,   0,   0,   0,   0,   0,\n",
       "          0,   0,   0,   0,   0,   0,   0,   0,   0,   0,   0,   0,   0,\n",
       "          0,   0],\n",
       "       [  0,   0,   0,   0,   0,   0,   0,   0,   0,   0,   0,   0,   0,\n",
       "          0,   0,   0,   0,   0,   0,   0,   0,   0,   0,   0,   0,   0,\n",
       "          0,   0],\n",
       "       [  0,   0,   0,   0,   0,   0,   0,   0,   0,   0,   0,   0,   0,\n",
       "          0,   0,   0,   0,   0,   0,   0,   0,   0,   0,   0,   0,   0,\n",
       "          0,   0]], dtype=uint8)"
      ]
     },
     "execution_count": 14,
     "metadata": {},
     "output_type": "execute_result"
    }
   ],
   "source": [
    "name = \"Num7.png\"\n",
    "loadimage(name)"
   ]
  },
  {
   "cell_type": "code",
   "execution_count": 15,
   "id": "western-animal",
   "metadata": {},
   "outputs": [],
   "source": [
    "inverted = cv2.bitwise_not(image)\n"
   ]
  },
  {
   "cell_type": "code",
   "execution_count": 16,
   "id": "interracial-teens",
   "metadata": {},
   "outputs": [
    {
     "data": {
      "text/plain": [
       "<matplotlib.image.AxesImage at 0x165afcd66d0>"
      ]
     },
     "execution_count": 16,
     "metadata": {},
     "output_type": "execute_result"
    },
    {
     "data": {
      "image/png": "[encoded data removed]",
      "text/plain": [
       "<Figure size 432x288 with 1 Axes>"
      ]
     },
     "metadata": {
      "needs_background": "light"
     },
     "output_type": "display_data"
    }
   ],
   "source": [
    "plt.imshow(inverted)"
   ]
  },
  {
   "cell_type": "code",
   "execution_count": 17,
   "id": "major-traveler",
   "metadata": {},
   "outputs": [
    {
     "data": {
      "text/plain": [
       "<matplotlib.image.AxesImage at 0x165afd29df0>"
      ]
     },
     "execution_count": 17,
     "metadata": {},
     "output_type": "execute_result"
    },
    {
     "data": {
      "image/png": "[encoded data removed]",
      "text/plain": [
       "<Figure size 432x288 with 1 Axes>"
      ]
     },
     "metadata": {
      "needs_background": "light"
     },
     "output_type": "display_data"
    }
   ],
   "source": [
    "edged = cv2.Canny(image, 0, 0)\n",
    "plt.imshow(edged)"
   ]
  },
  {
   "cell_type": "code",
   "execution_count": 18,
   "id": "terminal-gathering",
   "metadata": {},
   "outputs": [
    {
     "data": {
      "text/plain": [
       "<matplotlib.image.AxesImage at 0x165afd944c0>"
      ]
     },
     "execution_count": 18,
     "metadata": {},
     "output_type": "execute_result"
    },
    {
     "data": {
      "image/png": "[encoded data removed]",
      "text/plain": [
       "<Figure size 432x288 with 1 Axes>"
      ]
     },
     "metadata": {
      "needs_background": "light"
     },
     "output_type": "display_data"
    }
   ],
   "source": [
    "imgray = cv2.cvtColor(inverted, cv2.COLOR_BGR2GRAY)\n",
    "plt.imshow(imgray)"
   ]
  },
  {
   "cell_type": "code",
   "execution_count": 20,
   "id": "swiss-gamma",
   "metadata": {},
   "outputs": [],
   "source": [
    "ret, thresh = cv2.threshold(imgray, 127, 255, 0)"
   ]
  },
  {
   "cell_type": "code",
   "execution_count": 21,
   "id": "designed-apache",
   "metadata": {},
   "outputs": [],
   "source": [
    "contours, hierarchy = cv2.findContours(thresh, cv2.RETR_TREE, cv2.CHAIN_APPROX_SIMPLE)"
   ]
  },
  {
   "cell_type": "code",
   "execution_count": 24,
   "id": "bridal-credit",
   "metadata": {},
   "outputs": [
    {
     "data": {
      "text/plain": [
       "array([[[22, 10]],\n",
       "\n",
       "       [[22, 11]],\n",
       "\n",
       "       [[34, 11]],\n",
       "\n",
       "       [[35, 12]],\n",
       "\n",
       "       [[34, 13]],\n",
       "\n",
       "       [[34, 14]],\n",
       "\n",
       "       [[33, 15]],\n",
       "\n",
       "       [[33, 16]],\n",
       "\n",
       "       [[32, 17]],\n",
       "\n",
       "       [[32, 18]],\n",
       "\n",
       "       [[31, 19]],\n",
       "\n",
       "       [[31, 20]],\n",
       "\n",
       "       [[30, 21]],\n",
       "\n",
       "       [[30, 23]],\n",
       "\n",
       "       [[29, 24]],\n",
       "\n",
       "       [[29, 25]],\n",
       "\n",
       "       [[28, 26]],\n",
       "\n",
       "       [[28, 28]],\n",
       "\n",
       "       [[27, 29]],\n",
       "\n",
       "       [[27, 32]],\n",
       "\n",
       "       [[26, 33]],\n",
       "\n",
       "       [[26, 36]],\n",
       "\n",
       "       [[28, 36]],\n",
       "\n",
       "       [[28, 33]],\n",
       "\n",
       "       [[29, 32]],\n",
       "\n",
       "       [[29, 29]],\n",
       "\n",
       "       [[30, 28]],\n",
       "\n",
       "       [[30, 26]],\n",
       "\n",
       "       [[31, 25]],\n",
       "\n",
       "       [[31, 24]],\n",
       "\n",
       "       [[32, 23]],\n",
       "\n",
       "       [[32, 21]],\n",
       "\n",
       "       [[33, 20]],\n",
       "\n",
       "       [[33, 19]],\n",
       "\n",
       "       [[34, 18]],\n",
       "\n",
       "       [[34, 17]],\n",
       "\n",
       "       [[35, 16]],\n",
       "\n",
       "       [[35, 15]],\n",
       "\n",
       "       [[36, 14]],\n",
       "\n",
       "       [[36, 13]],\n",
       "\n",
       "       [[37, 12]],\n",
       "\n",
       "       [[37, 10]]], dtype=int32)"
      ]
     },
     "execution_count": 24,
     "metadata": {},
     "output_type": "execute_result"
    }
   ],
   "source": [
    "contours[0]"
   ]
  },
  {
   "cell_type": "code",
   "execution_count": 26,
   "id": "different-function",
   "metadata": {},
   "outputs": [
    {
     "data": {
      "text/plain": [
       "array([[[0, 0, 0],\n",
       "        [0, 0, 0],\n",
       "        [0, 0, 0],\n",
       "        ...,\n",
       "        [0, 0, 0],\n",
       "        [0, 0, 0],\n",
       "        [0, 0, 0]],\n",
       "\n",
       "       [[0, 0, 0],\n",
       "        [0, 0, 0],\n",
       "        [0, 0, 0],\n",
       "        ...,\n",
       "        [0, 0, 0],\n",
       "        [0, 0, 0],\n",
       "        [0, 0, 0]],\n",
       "\n",
       "       [[0, 0, 0],\n",
       "        [0, 0, 0],\n",
       "        [0, 0, 0],\n",
       "        ...,\n",
       "        [0, 0, 0],\n",
       "        [0, 0, 0],\n",
       "        [0, 0, 0]],\n",
       "\n",
       "       ...,\n",
       "\n",
       "       [[0, 0, 0],\n",
       "        [0, 0, 0],\n",
       "        [0, 0, 0],\n",
       "        ...,\n",
       "        [0, 0, 0],\n",
       "        [0, 0, 0],\n",
       "        [0, 0, 0]],\n",
       "\n",
       "       [[0, 0, 0],\n",
       "        [0, 0, 0],\n",
       "        [0, 0, 0],\n",
       "        ...,\n",
       "        [0, 0, 0],\n",
       "        [0, 0, 0],\n",
       "        [0, 0, 0]],\n",
       "\n",
       "       [[0, 0, 0],\n",
       "        [0, 0, 0],\n",
       "        [0, 0, 0],\n",
       "        ...,\n",
       "        [0, 0, 0],\n",
       "        [0, 0, 0],\n",
       "        [0, 0, 0]]], dtype=uint8)"
      ]
     },
     "execution_count": 26,
     "metadata": {},
     "output_type": "execute_result"
    }
   ],
   "source": [
    "cnt = contours[0]\n",
    "cv2.drawContours(inverted, [cnt], 0, (0,255,0), 3)"
   ]
  },
  {
   "cell_type": "code",
   "execution_count": 27,
   "id": "colonial-behavior",
   "metadata": {},
   "outputs": [
    {
     "data": {
      "text/plain": [
       "<matplotlib.image.AxesImage at 0x165afde8ac0>"
      ]
     },
     "execution_count": 27,
     "metadata": {},
     "output_type": "execute_result"
    },
    {
     "data": {
      "image/png": "[encoded data removed]",
      "text/plain": [
       "<Figure size 432x288 with 1 Axes>"
      ]
     },
     "metadata": {
      "needs_background": "light"
     },
     "output_type": "display_data"
    }
   ],
   "source": [
    "plt.imshow(inverted)"
   ]
  },
  {
   "cell_type": "code",
   "execution_count": 28,
   "id": "extensive-timothy",
   "metadata": {},
   "outputs": [
    {
     "data": {
      "text/plain": [
       "<matplotlib.image.AxesImage at 0x165afe47310>"
      ]
     },
     "execution_count": 28,
     "metadata": {},
     "output_type": "execute_result"
    },
    {
     "data": {
      "image/png": "[encoded data removed]",
      "text/plain": [
       "<Figure size 432x288 with 1 Axes>"
      ]
     },
     "metadata": {
      "needs_background": "light"
     },
     "output_type": "display_data"
    }
   ],
   "source": [
    "sudoku = cv2.imread(\"sudoku3.png\")\n",
    "plt.imshow(sudoku)"
   ]
  },
  {
   "cell_type": "code",
   "execution_count": 29,
   "id": "unknown-deposit",
   "metadata": {},
   "outputs": [
    {
     "data": {
      "text/plain": [
       "<matplotlib.image.AxesImage at 0x165afe98ac0>"
      ]
     },
     "execution_count": 29,
     "metadata": {},
     "output_type": "execute_result"
    },
    {
     "data": {
      "image/png": "[encoded data removed]",
      "text/plain": [
       "<Figure size 432x288 with 1 Axes>"
      ]
     },
     "metadata": {
      "needs_background": "light"
     },
     "output_type": "display_data"
    }
   ],
   "source": [
    "edge_sudoku = cv2.Canny(sudoku, 0, 0)\n",
    "plt.imshow(edge_sudoku)"
   ]
  },
  {
   "cell_type": "code",
   "execution_count": 31,
   "id": "signal-fishing",
   "metadata": {},
   "outputs": [
    {
     "data": {
      "text/plain": [
       "<matplotlib.image.AxesImage at 0x165aff227f0>"
      ]
     },
     "execution_count": 31,
     "metadata": {},
     "output_type": "execute_result"
    },
    {
     "data": {
      "image/png": "[encoded data removed]",
      "text/plain": [
       "<Figure size 432x288 with 1 Axes>"
      ]
     },
     "metadata": {
      "needs_background": "light"
     },
     "output_type": "display_data"
    }
   ],
   "source": [
    "imgray = cv2.cvtColor(sudoku, cv2.COLOR_BGR2GRAY)\n",
    "plt.imshow(imgray)\n",
    "ret, thresh = cv2.threshold(imgray, 127, 255, 0)\n",
    "contours, hierarchy = cv2.findContours(thresh, cv2.RETR_TREE, cv2.CHAIN_APPROX_SIMPLE)\n",
    "cnt = contours[1]\n",
    "cv2.drawContours(sudoku, [cnt], 0, (0,255,0), 3)\n",
    "plt.imshow(sudoku)"
   ]
  },
  {
   "cell_type": "code",
   "execution_count": 34,
   "id": "headed-religious",
   "metadata": {},
   "outputs": [],
   "source": [
    "def marcosudoku (namefile):\n",
    "    sudoku = cv2.imread(namefile)\n",
    "    plt.imshow(sudoku)\n",
    "    imgray = cv2.cvtColor(sudoku, cv2.COLOR_BGR2GRAY)\n",
    "    plt.imshow(imgray)\n",
    "    ret, thresh = cv2.threshold(imgray, 127, 255, 0)\n",
    "    contours, hierarchy = cv2.findContours(thresh, cv2.RETR_TREE, cv2.CHAIN_APPROX_SIMPLE)\n",
    "    cnt = contours[1]\n",
    "    frame = cv2.drawContours(sudoku, [cnt], 0, (0,255,0), 3)\n",
    "    plt.imshow(sudoku)\n",
    "    return frame "
   ]
  },
  {
   "cell_type": "code",
   "execution_count": 35,
   "id": "swedish-charger",
   "metadata": {},
   "outputs": [
    {
     "data": {
      "text/plain": [
       "array([[[255, 255, 255],\n",
       "        [255, 255, 255],\n",
       "        [255, 255, 255],\n",
       "        ...,\n",
       "        [255, 255, 255],\n",
       "        [255, 255, 255],\n",
       "        [255, 255, 255]],\n",
       "\n",
       "       [[255, 255, 255],\n",
       "        [255, 255, 255],\n",
       "        [255, 255, 255],\n",
       "        ...,\n",
       "        [255, 255, 255],\n",
       "        [255, 255, 255],\n",
       "        [255, 255, 255]],\n",
       "\n",
       "       [[255, 255, 255],\n",
       "        [255, 255, 255],\n",
       "        [255, 255, 255],\n",
       "        ...,\n",
       "        [255, 255, 255],\n",
       "        [255, 255, 255],\n",
       "        [255, 255, 255]],\n",
       "\n",
       "       ...,\n",
       "\n",
       "       [[255, 255, 255],\n",
       "        [255, 255, 255],\n",
       "        [255, 255, 255],\n",
       "        ...,\n",
       "        [255, 255, 255],\n",
       "        [255, 255, 255],\n",
       "        [255, 255, 255]],\n",
       "\n",
       "       [[255, 255, 255],\n",
       "        [255, 255, 255],\n",
       "        [255, 255, 255],\n",
       "        ...,\n",
       "        [255, 255, 255],\n",
       "        [255, 255, 255],\n",
       "        [255, 255, 255]],\n",
       "\n",
       "       [[255, 255, 255],\n",
       "        [255, 255, 255],\n",
       "        [255, 255, 255],\n",
       "        ...,\n",
       "        [255, 255, 255],\n",
       "        [255, 255, 255],\n",
       "        [255, 255, 255]]], dtype=uint8)"
      ]
     },
     "execution_count": 35,
     "metadata": {},
     "output_type": "execute_result"
    },
    {
     "data": {
      "image/png": "[encoded data removed]",
      "text/plain": [
       "<Figure size 432x288 with 1 Axes>"
      ]
     },
     "metadata": {
      "needs_background": "light"
     },
     "output_type": "display_data"
    }
   ],
   "source": [
    "marcosudoku(\"Sudokufondo.png\")"
   ]
  },
  {
   "cell_type": "code",
   "execution_count": null,
   "id": "computational-server",
   "metadata": {},
   "outputs": [],
   "source": []
  }
 ],
 "metadata": {
  "kernelspec": {
   "display_name": "Python 3",
   "language": "python",
   "name": "python3"
  },
  "language_info": {
   "codemirror_mode": {
    "name": "ipython",
    "version": 3
   },
   "file_extension": ".py",
   "mimetype": "text/x-python",
   "name": "python",
   "nbconvert_exporter": "python",
   "pygments_lexer": "ipython3",
   "version": "3.8.5"
  }
 },
 "nbformat": 4,
 "nbformat_minor": 5
}
