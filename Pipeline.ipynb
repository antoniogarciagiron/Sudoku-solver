{
 "cells": [
  {
   "cell_type": "code",
   "execution_count": 1,
   "id": "marine-tumor",
   "metadata": {},
   "outputs": [],
   "source": [
    "import sys\n",
    "sys.path.append(\"../\")\n",
    "from src.func import *\n",
    "\n",
    "from tensorflow.keras.utils import to_categorical\n",
    "from tensorflow.keras.datasets import mnist"
   ]
  },
  {
   "cell_type": "code",
   "execution_count": 89,
   "id": "biblical-fabric",
   "metadata": {},
   "outputs": [],
   "source": [
    "(train_images, train_labels), (test_images, test_labels) = mnist.load_data()\n",
    "train_labels_hot = to_categorical(train_labels)\n",
    "test_labels_hot = to_categorical(test_labels)\n",
    "train_images = train_images.reshape((60000, 28, 28, 1))\n",
    "train_images = train_images.astype('float32') / 255\n",
    "test_images = test_images.reshape((10000, 28, 28, 1))\n",
    "test_images = test_images.astype('float32') / 255\n"
   ]
  },
  {
   "cell_type": "code",
   "execution_count": 91,
   "id": "postal-sierra",
   "metadata": {},
   "outputs": [
    {
     "data": {
      "text/plain": [
       "array([[[0, 0, 0, ..., 0, 0, 0],\n",
       "        [0, 0, 0, ..., 0, 0, 0],\n",
       "        [0, 0, 0, ..., 0, 0, 0],\n",
       "        ...,\n",
       "        [0, 0, 0, ..., 0, 0, 0],\n",
       "        [0, 0, 0, ..., 0, 0, 0],\n",
       "        [0, 0, 0, ..., 0, 0, 0]],\n",
       "\n",
       "       [[0, 0, 0, ..., 0, 0, 0],\n",
       "        [0, 0, 0, ..., 0, 0, 0],\n",
       "        [0, 0, 0, ..., 0, 0, 0],\n",
       "        ...,\n",
       "        [0, 0, 0, ..., 0, 0, 0],\n",
       "        [0, 0, 0, ..., 0, 0, 0],\n",
       "        [0, 0, 0, ..., 0, 0, 0]],\n",
       "\n",
       "       [[0, 0, 0, ..., 0, 0, 0],\n",
       "        [0, 0, 0, ..., 0, 0, 0],\n",
       "        [0, 0, 0, ..., 0, 0, 0],\n",
       "        ...,\n",
       "        [0, 0, 0, ..., 0, 0, 0],\n",
       "        [0, 0, 0, ..., 0, 0, 0],\n",
       "        [0, 0, 0, ..., 0, 0, 0]],\n",
       "\n",
       "       ...,\n",
       "\n",
       "       [[0, 0, 0, ..., 0, 0, 0],\n",
       "        [0, 0, 0, ..., 0, 0, 0],\n",
       "        [0, 0, 0, ..., 0, 0, 0],\n",
       "        ...,\n",
       "        [0, 0, 0, ..., 0, 0, 0],\n",
       "        [0, 0, 0, ..., 0, 0, 0],\n",
       "        [0, 0, 0, ..., 0, 0, 0]],\n",
       "\n",
       "       [[0, 0, 0, ..., 0, 0, 0],\n",
       "        [0, 0, 0, ..., 0, 0, 0],\n",
       "        [0, 0, 0, ..., 0, 0, 0],\n",
       "        ...,\n",
       "        [0, 0, 0, ..., 0, 0, 0],\n",
       "        [0, 0, 0, ..., 0, 0, 0],\n",
       "        [0, 0, 0, ..., 0, 0, 0]],\n",
       "\n",
       "       [[0, 0, 0, ..., 0, 0, 0],\n",
       "        [0, 0, 0, ..., 0, 0, 0],\n",
       "        [0, 0, 0, ..., 0, 0, 0],\n",
       "        ...,\n",
       "        [0, 0, 0, ..., 0, 0, 0],\n",
       "        [0, 0, 0, ..., 0, 0, 0],\n",
       "        [0, 0, 0, ..., 0, 0, 0]]], dtype=uint8)"
      ]
     },
     "execution_count": 91,
     "metadata": {},
     "output_type": "execute_result"
    }
   ],
   "source": [
    "train_images"
   ]
  },
  {
   "cell_type": "code",
   "execution_count": 90,
   "id": "dependent-static",
   "metadata": {},
   "outputs": [
    {
     "data": {
      "text/plain": [
       "(28, 28)"
      ]
     },
     "execution_count": 90,
     "metadata": {},
     "output_type": "execute_result"
    },
    {
     "data": {
      "image/png": "[encoded data removed]",
      "text/plain": [
       "<Figure size 432x288 with 1 Axes>"
      ]
     },
     "metadata": {
      "needs_background": "light"
     },
     "output_type": "display_data"
    }
   ],
   "source": [
    "plt.imshow(train_images[1])\n",
    "train_images[1].shape"
   ]
  },
  {
   "cell_type": "code",
   "execution_count": 4,
   "id": "neural-economics",
   "metadata": {},
   "outputs": [],
   "source": [
    "model = models.Sequential()\n",
    "model.add(layers.Conv2D(32, (3, 3), activation='relu', input_shape=(28, 28, 1)))\n",
    "model.add(layers.MaxPooling2D((2, 2)))\n",
    "model.add(layers.Conv2D(64, (3, 3), activation='relu'))\n",
    "model.add(layers.MaxPooling2D((2, 2)))\n",
    "model.add(layers.Conv2D(64, (3, 3), activation='relu'))\n",
    "model.add(layers.Flatten())\n",
    "model.add(layers.Dense(64, activation='relu'))\n",
    "model.add(layers.Dense(10, activation='softmax'))"
   ]
  },
  {
   "cell_type": "code",
   "execution_count": 5,
   "id": "strong-privacy",
   "metadata": {},
   "outputs": [],
   "source": [
    "model.compile(\n",
    "    optimizer='rmsprop',\n",
    "    loss='categorical_crossentropy',\n",
    "    metrics=['accuracy']\n",
    ")"
   ]
  },
  {
   "cell_type": "code",
   "execution_count": 5,
   "id": "narrow-tender",
   "metadata": {},
   "outputs": [
    {
     "name": "stdout",
     "output_type": "stream",
     "text": [
      "Epoch 1/10\n",
      "422/422 [==============================] - 15s 37ms/step - loss: 0.2442 - accuracy: 0.9238 - val_loss: 0.0586 - val_accuracy: 0.9842\n",
      "Epoch 2/10\n",
      "422/422 [==============================] - 16s 39ms/step - loss: 0.0563 - accuracy: 0.9827 - val_loss: 0.0639 - val_accuracy: 0.9810\n",
      "Epoch 3/10\n",
      "422/422 [==============================] - 17s 39ms/step - loss: 0.0388 - accuracy: 0.9882 - val_loss: 0.0308 - val_accuracy: 0.9905\n",
      "Epoch 4/10\n",
      "422/422 [==============================] - 17s 39ms/step - loss: 0.0282 - accuracy: 0.9912 - val_loss: 0.0384 - val_accuracy: 0.9893\n",
      "Epoch 5/10\n",
      "422/422 [==============================] - 17s 41ms/step - loss: 0.0218 - accuracy: 0.9930 - val_loss: 0.0355 - val_accuracy: 0.9900\n",
      "Epoch 6/10\n",
      "422/422 [==============================] - 18s 42ms/step - loss: 0.0180 - accuracy: 0.9945 - val_loss: 0.0394 - val_accuracy: 0.9900\n",
      "Epoch 7/10\n",
      "422/422 [==============================] - 17s 41ms/step - loss: 0.0145 - accuracy: 0.9950 - val_loss: 0.0322 - val_accuracy: 0.9927\n",
      "Epoch 8/10\n",
      "422/422 [==============================] - 17s 41ms/step - loss: 0.0115 - accuracy: 0.9963 - val_loss: 0.0370 - val_accuracy: 0.9917\n",
      "Epoch 9/10\n",
      "422/422 [==============================] - 17s 41ms/step - loss: 0.0095 - accuracy: 0.9969 - val_loss: 0.0445 - val_accuracy: 0.9902\n",
      "Epoch 10/10\n",
      "422/422 [==============================] - 17s 41ms/step - loss: 0.0076 - accuracy: 0.9977 - val_loss: 0.0443 - val_accuracy: 0.9905\n"
     ]
    },
    {
     "data": {
      "text/plain": [
       "<tensorflow.python.keras.callbacks.History at 0x174831bcdf0>"
      ]
     },
     "execution_count": 5,
     "metadata": {},
     "output_type": "execute_result"
    }
   ],
   "source": [
    "model.fit(train_images, train_labels_hot, epochs=10, batch_size=128, validation_split=0.1)"
   ]
  },
  {
   "cell_type": "code",
   "execution_count": 6,
   "id": "fixed-train",
   "metadata": {},
   "outputs": [
    {
     "data": {
      "text/plain": [
       "(308, 417, 3)"
      ]
     },
     "execution_count": 6,
     "metadata": {},
     "output_type": "execute_result"
    }
   ],
   "source": [
    "name = \"8big2.png\"\n",
    "image = load_my_image(name)\n",
    "image.shape"
   ]
  },
  {
   "cell_type": "code",
   "execution_count": 7,
   "id": "conscious-december",
   "metadata": {},
   "outputs": [
    {
     "data": {
      "text/plain": [
       "<matplotlib.image.AxesImage at 0x1e360adc100>"
      ]
     },
     "execution_count": 7,
     "metadata": {},
     "output_type": "execute_result"
    },
    {
     "data": {
      "image/png": "[encoded data removed]",
      "text/plain": [
       "<Figure size 432x288 with 1 Axes>"
      ]
     },
     "metadata": {
      "needs_background": "light"
     },
     "output_type": "display_data"
    }
   ],
   "source": [
    "plt.imshow(image)"
   ]
  },
  {
   "cell_type": "code",
   "execution_count": 8,
   "id": "congressional-acrobat",
   "metadata": {},
   "outputs": [
    {
     "data": {
      "text/plain": [
       "(28, 28, 3)"
      ]
     },
     "execution_count": 8,
     "metadata": {},
     "output_type": "execute_result"
    }
   ],
   "source": [
    "image = crop_and_reshape_numbers(image)\n",
    "image.shape"
   ]
  },
  {
   "cell_type": "code",
   "execution_count": 9,
   "id": "artificial-million",
   "metadata": {},
   "outputs": [
    {
     "data": {
      "text/plain": [
       "<matplotlib.image.AxesImage at 0x17484d03a90>"
      ]
     },
     "execution_count": 9,
     "metadata": {},
     "output_type": "execute_result"
    },
    {
     "data": {
      "image/png": "[encoded data removed]",
      "text/plain": [
       "<Figure size 432x288 with 1 Axes>"
      ]
     },
     "metadata": {
      "needs_background": "light"
     },
     "output_type": "display_data"
    }
   ],
   "source": [
    "plt.imshow(image)"
   ]
  },
  {
   "cell_type": "code",
   "execution_count": 10,
   "id": "immune-escape",
   "metadata": {},
   "outputs": [
    {
     "data": {
      "text/plain": [
       "(1, 28, 28, 1)"
      ]
     },
     "execution_count": 10,
     "metadata": {},
     "output_type": "execute_result"
    }
   ],
   "source": [
    "num_model = fig_to_model_format(image)\n",
    "num_model.shape"
   ]
  },
  {
   "cell_type": "code",
   "execution_count": 60,
   "id": "classified-suspension",
   "metadata": {},
   "outputs": [
    {
     "name": "stdout",
     "output_type": "stream",
     "text": [
      "The number is [1.0459984e-07 5.8367007e-08 8.8978959e-06 5.7695466e-05 4.9601550e-07\n",
      " 1.1963154e-07 1.5740392e-09 3.0435586e-08 9.9992955e-01 3.1009752e-06]\n"
     ]
    }
   ],
   "source": [
    "res = model.predict(num_model)\n",
    "print(f\"The number is {res[0]}\")"
   ]
  },
  {
   "cell_type": "code",
   "execution_count": 83,
   "id": "frank-brooks",
   "metadata": {},
   "outputs": [],
   "source": [
    "def number_or_not(sudolist):\n",
    "    numnot = []\n",
    "    for square in sudolist:   \n",
    "        contrast = change_contrast(square)\n",
    "        cut = crop_and_reshape_numbers (contrast)\n",
    "        scale = average_pixel_color(cut)\n",
    "        if scale < 9:\n",
    "            numnot.append(0)\n",
    "        else:\n",
    "            squarecut = crop_and_reshape_numbers(square)\n",
    "            contrast = change_contrast(squarecut)\n",
    "            \n",
    "            #kernel = np.ones((2,2), np.uint8) \n",
    "\n",
    "            #img_erosion = cv2.erode(contrast, kernel, iterations=1) \n",
    "            #img_dilation = cv2.dilate(contrast, kernel, iterations=1)\n",
    "            ksize = (3, 3) \n",
    "  \n",
    "            blur = cv2.blur(contrast, ksize) \n",
    "            squareform = fig_to_model_format(blur)\n",
    "            \n",
    "            res = np.argmax(model.predict(squareform), axis=-1)\n",
    "            numnot.append(res[0])\n",
    "    return numnot"
   ]
  },
  {
   "cell_type": "code",
   "execution_count": 84,
   "id": "antique-english",
   "metadata": {},
   "outputs": [],
   "source": [
    "def average_pixel_color (num):\n",
    "    graynum = cv2.cvtColor(num, cv2.COLOR_BGR2GRAY)\n",
    "    long = graynum.shape[0]*graynum.shape[1]\n",
    "    graynum = graynum.reshape((long))\n",
    "    average_color = sum(graynum)/long\n",
    "    return average_color"
   ]
  },
  {
   "cell_type": "code",
   "execution_count": 85,
   "id": "happy-harassment",
   "metadata": {},
   "outputs": [
    {
     "data": {
      "text/plain": [
       "[5,\n",
       " 3,\n",
       " 0,\n",
       " 0,\n",
       " 7,\n",
       " 0,\n",
       " 0,\n",
       " 0,\n",
       " 0,\n",
       " 6,\n",
       " 0,\n",
       " 0,\n",
       " 1,\n",
       " 9,\n",
       " 5,\n",
       " 0,\n",
       " 0,\n",
       " 0,\n",
       " 0,\n",
       " 9,\n",
       " 8,\n",
       " 0,\n",
       " 0,\n",
       " 0,\n",
       " 0,\n",
       " 6,\n",
       " 0,\n",
       " 8,\n",
       " 0,\n",
       " 0,\n",
       " 0,\n",
       " 6,\n",
       " 0,\n",
       " 0,\n",
       " 0,\n",
       " 3,\n",
       " 4,\n",
       " 0,\n",
       " 0,\n",
       " 8,\n",
       " 0,\n",
       " 3,\n",
       " 0,\n",
       " 0,\n",
       " 1,\n",
       " 7,\n",
       " 0,\n",
       " 0,\n",
       " 0,\n",
       " 2,\n",
       " 0,\n",
       " 0,\n",
       " 0,\n",
       " 6,\n",
       " 0,\n",
       " 6,\n",
       " 0,\n",
       " 0,\n",
       " 0,\n",
       " 0,\n",
       " 2,\n",
       " 8,\n",
       " 0,\n",
       " 0,\n",
       " 0,\n",
       " 0,\n",
       " 4,\n",
       " 1,\n",
       " 9,\n",
       " 0,\n",
       " 0,\n",
       " 5,\n",
       " 0,\n",
       " 0,\n",
       " 0,\n",
       " 0,\n",
       " 8,\n",
       " 0,\n",
       " 0,\n",
       " 7,\n",
       " 9]"
      ]
     },
     "execution_count": 85,
     "metadata": {},
     "output_type": "execute_result"
    }
   ],
   "source": [
    "recortado = sudoku_cut_frame(\"sudokuwik.png\")\n",
    "lista = sudoku_split_81(recortado)\n",
    "number_or_not(lista)"
   ]
  },
  {
   "cell_type": "code",
   "execution_count": 65,
   "id": "secondary-adams",
   "metadata": {},
   "outputs": [
    {
     "data": {
      "text/plain": [
       "<matplotlib.image.AxesImage at 0x1e3615754c0>"
      ]
     },
     "execution_count": 65,
     "metadata": {},
     "output_type": "execute_result"
    },
    {
     "data": {
      "image/png": "[encoded data removed]",
      "text/plain": [
       "<Figure size 432x288 with 1 Axes>"
      ]
     },
     "metadata": {
      "needs_background": "light"
     },
     "output_type": "display_data"
    }
   ],
   "source": [
    "squarecut = crop_and_reshape_numbers(lista[25])\n",
    "contrast = change_contrast(squarecut)\n",
    "\n",
    "kernel = np.ones((2,2), np.uint8) \n",
    "\n",
    "#img_erosion = cv2.erode(contrast, kernel, iterations=1) \n",
    "img_dilation = cv2.dilate(contrast, kernel, iterations=1)\n",
    "\n",
    "# ksize \n",
    "ksize = (3, 3) \n",
    "  \n",
    "# Using cv2.blur() method  \n",
    "blur = cv2.blur(img_dilation, ksize)  \n",
    "plt.imshow(blur)"
   ]
  },
  {
   "cell_type": "code",
   "execution_count": 9,
   "id": "therapeutic-lloyd",
   "metadata": {},
   "outputs": [],
   "source": [
    "from keras.models import load_model\n",
    "#model.save('my_model.h5')  # creates a HDF5 file 'my_model.h5'\n",
    "#del model  # deletes the existing model\n",
    "# returns a compiled model\n",
    "# identical to the previous one\n",
    "model = load_model('my_model.h5')"
   ]
  },
  {
   "cell_type": "code",
   "execution_count": 68,
   "id": "prescription-wagner",
   "metadata": {},
   "outputs": [],
   "source": [
    "def number_or_not_prob(sudolist):\n",
    "    numnot = []\n",
    "    for square in sudolist:   \n",
    "        contrast = change_contrast(square)\n",
    "        cut = crop_and_reshape_numbers (contrast)\n",
    "        scale = average_pixel_color(cut)\n",
    "        if scale < 9:\n",
    "            numnot.append(0)\n",
    "        else:\n",
    "            squarecut = crop_and_reshape_numbers(square)\n",
    "            contrast = change_contrast(squarecut)\n",
    "            \n",
    "            kernel = np.ones((2,2), np.uint8) \n",
    "\n",
    "            #img_erosion = cv2.erode(contrast, kernel, iterations=1) \n",
    "            img_dilation = cv2.dilate(contrast, kernel, iterations=1)\n",
    "\n",
    "            ksize = (3, 3) \n",
    "  \n",
    "            blur = cv2.blur(img_dilation, ksize) \n",
    "            squareform = fig_to_model_format(blur)\n",
    "            \n",
    "            res = model.predict(squareform)\n",
    "            print(res)\n",
    "    "
   ]
  },
  {
   "cell_type": "code",
   "execution_count": 69,
   "id": "dated-burlington",
   "metadata": {},
   "outputs": [
    {
     "name": "stdout",
     "output_type": "stream",
     "text": [
      "[[7.7117154e-13 3.7414946e-10 3.8306079e-14 6.0750871e-09 9.3394780e-12\n",
      "  9.9999976e-01 1.2316243e-11 2.2218098e-12 2.7399543e-09 1.8184514e-07]]\n",
      "[[2.1643642e-12 7.3511792e-09 7.5907680e-09 9.9999988e-01 4.8403667e-14\n",
      "  7.8670430e-09 2.3632170e-14 1.4558702e-07 4.3874657e-08 8.3148182e-09]]\n",
      "[[4.8515290e-09 4.0322193e-06 2.2526997e-06 3.6111109e-05 4.7856710e-12\n",
      "  5.1810600e-09 1.1701269e-12 9.9995661e-01 8.1946621e-07 9.2426404e-08]]\n",
      "[[1.6190279e-05 5.4157016e-07 9.9535168e-07 2.5534908e-08 5.6956228e-06\n",
      "  4.3995727e-02 9.3130255e-01 4.8713938e-10 2.4582997e-02 9.5294949e-05]]\n",
      "[[1.7970593e-05 8.2161725e-01 1.2497128e-03 1.2881239e-01 3.4445195e-05\n",
      "  6.8807468e-04 7.6932452e-07 5.5800928e-03 1.7468967e-02 2.4530409e-02]]\n",
      "[[2.0769830e-06 2.6659669e-07 1.0371840e-07 3.0429438e-03 3.7489575e-04\n",
      "  9.6615503e-04 5.1585292e-09 2.5417435e-06 1.8103532e-05 9.9559289e-01]]\n",
      "[[8.7527305e-13 4.3692552e-10 5.2716041e-14 7.8702840e-09 1.0714670e-11\n",
      "  9.9999976e-01 1.2762899e-11 2.7940920e-12 2.8837968e-09 2.2307410e-07]]\n",
      "[[2.13413591e-06 3.01337479e-07 1.12898796e-07 3.28859780e-03\n",
      "  3.77025368e-04 1.07117498e-03 5.70288616e-09 2.58782461e-06\n",
      "  2.00688701e-05 9.95237947e-01]]\n",
      "[[5.3201457e-08 7.8968121e-08 1.3476526e-04 7.2869661e-08 1.9811569e-08\n",
      "  6.6313253e-09 9.5524593e-09 2.8712407e-08 9.9986243e-01 2.5537613e-06]]\n",
      "[[2.0721312e-05 5.2063126e-07 1.2402672e-06 2.8538784e-08 5.6477270e-06\n",
      "  4.1627068e-02 9.3609852e-01 5.1115884e-10 2.2139993e-02 1.0627524e-04]]\n",
      "[[5.5360182e-08 8.1758856e-08 1.4324988e-04 6.9089779e-08 2.1700913e-08\n",
      "  6.8577588e-09 1.0359104e-08 2.7764257e-08 9.9985385e-01 2.6622085e-06]]\n",
      "[[1.8654820e-05 5.1285616e-07 1.1234609e-06 2.6249930e-08 5.5994301e-06\n",
      "  4.0164966e-02 9.3703496e-01 4.7991389e-10 2.2677088e-02 9.7029872e-05]]\n",
      "[[1.61368575e-12 5.01182607e-09 5.15080778e-09 9.99999881e-01\n",
      "  3.85262738e-14 6.37679731e-09 1.41361981e-14 1.14470964e-07\n",
      "  3.79460268e-08 6.96638436e-09]]\n",
      "[[1.7530225e-05 6.9459793e-07 1.3895669e-05 6.5160366e-06 9.9446869e-01\n",
      "  1.7703431e-06 3.7221173e-06 2.6576848e-07 1.6162173e-07 5.4868995e-03]]\n",
      "[[5.6403216e-08 8.3716898e-08 1.3524851e-04 7.9736324e-08 2.1186413e-08\n",
      "  7.4487576e-09 1.0556734e-08 3.0156453e-08 9.9986172e-01 2.6841897e-06]]\n",
      "[[1.8248035e-12 5.8866831e-09 5.5006986e-09 9.9999988e-01 3.9422299e-14\n",
      "  7.0795858e-09 1.6890762e-14 1.2252200e-07 4.0883588e-08 7.1526345e-09]]\n",
      "[[1.7194528e-05 8.2416075e-01 1.2622303e-03 1.2623511e-01 3.5894311e-05\n",
      "  7.0521800e-04 7.8002876e-07 5.7544992e-03 1.7902268e-02 2.3926176e-02]]\n",
      "[[6.2078258e-09 4.6511391e-06 2.5998079e-06 3.9283510e-05 5.5071056e-12\n",
      "  5.9917964e-09 1.4789866e-12 9.9995244e-01 9.3768011e-07 1.0487893e-07]]\n",
      "[[4.9181244e-06 7.4160539e-06 9.9856621e-01 4.1542808e-06 1.5976200e-11\n",
      "  9.9340447e-09 2.9448002e-12 1.4022759e-03 1.4922436e-05 1.2539076e-07]]\n",
      "[[2.0277725e-05 4.9345198e-07 1.1962744e-06 2.4944605e-08 5.2655409e-06\n",
      "  3.9120212e-02 9.4025087e-01 4.5918713e-10 2.0506416e-02 9.5311312e-05]]\n",
      "[[1.5990545e-05 5.1283524e-07 9.7737950e-07 2.3276503e-08 5.2831192e-06\n",
      "  4.0907059e-02 9.3566090e-01 4.4552512e-10 2.3326533e-02 8.2608560e-05]]\n",
      "[[4.48842184e-06 7.24267829e-06 9.98693645e-01 4.11925521e-06\n",
      "  1.44071075e-11 8.76719675e-09 2.76500134e-12 1.27591740e-03\n",
      "  1.43956831e-05 1.13624935e-07]]\n",
      "[[5.5076477e-08 8.2308887e-08 1.1793010e-04 9.5376585e-08 2.1572003e-08\n",
      "  8.1637008e-09 1.1124285e-08 3.1952275e-08 9.9987912e-01 2.6411321e-06]]\n",
      "[[1.5586484e-05 6.7564179e-07 1.4509245e-05 5.8773012e-06 9.9453485e-01\n",
      "  1.5555144e-06 3.4419352e-06 2.8141284e-07 1.5442698e-07 5.4232371e-03]]\n",
      "[[1.6562490e-05 8.3606166e-01 1.2137004e-03 1.1959284e-01 2.7540003e-05\n",
      "  6.2612357e-04 7.2190772e-07 6.0829474e-03 1.6492793e-02 1.9885201e-02]]\n",
      "[[1.6876114e-06 2.7052508e-07 1.1208018e-07 2.7018632e-03 3.5385528e-04\n",
      "  7.9166231e-04 4.4084767e-09 2.3641239e-06 1.8376741e-05 9.9612975e-01]]\n",
      "[[1.0424383e-12 5.5132154e-10 7.1748319e-14 9.0111136e-09 1.1621506e-11\n",
      "  9.9999976e-01 1.6870760e-11 2.9330295e-12 3.2458793e-09 2.2802597e-07]]\n",
      "[[5.8441820e-08 8.4995378e-08 1.2149643e-04 9.1605976e-08 2.5512987e-08\n",
      "  9.0870165e-09 1.3822918e-08 3.0941870e-08 9.9987531e-01 2.8169268e-06]]\n",
      "[[6.58943522e-09 5.38805125e-06 2.83758982e-06 3.94388335e-05\n",
      "  5.53974705e-12 5.43423395e-09 1.55314715e-12 9.99951243e-01\n",
      "  9.08906770e-07 1.01518324e-07]]\n",
      "[[1.5480089e-06 2.3821219e-07 1.0505138e-07 2.3105678e-03 3.4134707e-04\n",
      "  6.7408453e-04 3.8417292e-09 2.2585925e-06 1.6521310e-05 9.9665338e-01]]\n"
     ]
    }
   ],
   "source": [
    "number_or_not_prob(lista)"
   ]
  },
  {
   "cell_type": "code",
   "execution_count": null,
   "id": "first-withdrawal",
   "metadata": {},
   "outputs": [],
   "source": []
  }
 ],
 "metadata": {
  "kernelspec": {
   "display_name": "Python 3",
   "language": "python",
   "name": "python3"
  },
  "language_info": {
   "codemirror_mode": {
    "name": "ipython",
    "version": 3
   },
   "file_extension": ".py",
   "mimetype": "text/x-python",
   "name": "python",
   "nbconvert_exporter": "python",
   "pygments_lexer": "ipython3",
   "version": "3.8.5"
  }
 },
 "nbformat": 4,
 "nbformat_minor": 5
}
