{
 "cells": [
  {
   "cell_type": "markdown",
   "id": "indoor-liberty",
   "metadata": {},
   "source": [
    "Primero importo las cosas que tengo en mis funciones y el modelo"
   ]
  },
  {
   "cell_type": "code",
   "execution_count": null,
   "id": "blank-burning",
   "metadata": {},
   "outputs": [],
   "source": [
    "import sys\n",
    "sys.path.append(\"../\")\n",
    "from src.func import *\n",
    "\n",
    "from tensorflow.keras.models import load_model"
   ]
  },
  {
   "cell_type": "markdown",
   "id": "alternative-italic",
   "metadata": {},
   "source": [
    "Buena mierda para generar números, quizás hay que tweakear los parámetros size y eso"
   ]
  },
  {
   "cell_type": "code",
   "execution_count": 133,
   "id": "congressional-marina",
   "metadata": {},
   "outputs": [],
   "source": [
    "from PIL import Image, ImageDraw, ImageFont\n",
    "import randomy"
   ]
  },
  {
   "cell_type": "code",
   "execution_count": 3,
   "id": "worst-privilege",
   "metadata": {},
   "outputs": [
    {
     "ename": "NameError",
     "evalue": "name 'random' is not defined",
     "output_type": "error",
     "traceback": [
      "\u001b[1;31m---------------------------------------------------------------------------\u001b[0m",
      "\u001b[1;31mNameError\u001b[0m                                 Traceback (most recent call last)",
      "\u001b[1;32m<ipython-input-3-1bf17f24ae74>\u001b[0m in \u001b[0;36m<module>\u001b[1;34m\u001b[0m\n\u001b[1;32m----> 1\u001b[1;33m \u001b[0mnumber\u001b[0m \u001b[1;33m=\u001b[0m \u001b[0mrandom\u001b[0m\u001b[1;33m.\u001b[0m\u001b[0mrandint\u001b[0m\u001b[1;33m(\u001b[0m\u001b[1;36m0\u001b[0m\u001b[1;33m,\u001b[0m \u001b[1;36m9\u001b[0m\u001b[1;33m)\u001b[0m\u001b[1;33m\u001b[0m\u001b[1;33m\u001b[0m\u001b[0m\n\u001b[0m",
      "\u001b[1;31mNameError\u001b[0m: name 'random' is not defined"
     ]
    }
   ],
   "source": [
    "number = random.randint(0, 9)"
   ]
  },
  {
   "cell_type": "code",
   "execution_count": 187,
   "id": "compliant-worcester",
   "metadata": {},
   "outputs": [],
   "source": [
    "color = random.randint(200, 255)"
   ]
  },
  {
   "cell_type": "code",
   "execution_count": 1,
   "id": "neither-satin",
   "metadata": {},
   "outputs": [
    {
     "ename": "NameError",
     "evalue": "name 'random' is not defined",
     "output_type": "error",
     "traceback": [
      "\u001b[1;31m---------------------------------------------------------------------------\u001b[0m",
      "\u001b[1;31mNameError\u001b[0m                                 Traceback (most recent call last)",
      "\u001b[1;32m<ipython-input-1-8cf2fc133ad8>\u001b[0m in \u001b[0;36m<module>\u001b[1;34m\u001b[0m\n\u001b[1;32m----> 1\u001b[1;33m \u001b[0msize\u001b[0m \u001b[1;33m=\u001b[0m \u001b[0mrandom\u001b[0m\u001b[1;33m.\u001b[0m\u001b[0mrandint\u001b[0m\u001b[1;33m(\u001b[0m\u001b[1;36m15\u001b[0m\u001b[1;33m,\u001b[0m \u001b[1;36m25\u001b[0m\u001b[1;33m)\u001b[0m\u001b[1;33m\u001b[0m\u001b[1;33m\u001b[0m\u001b[0m\n\u001b[0m\u001b[0;32m      2\u001b[0m \u001b[0mx\u001b[0m \u001b[1;33m=\u001b[0m \u001b[0mrandom\u001b[0m\u001b[1;33m.\u001b[0m\u001b[0mrandint\u001b[0m\u001b[1;33m(\u001b[0m\u001b[1;36m10\u001b[0m\u001b[1;33m,\u001b[0m \u001b[1;36m18\u001b[0m\u001b[1;33m)\u001b[0m\u001b[1;33m\u001b[0m\u001b[1;33m\u001b[0m\u001b[0m\n\u001b[0;32m      3\u001b[0m \u001b[0my\u001b[0m \u001b[1;33m=\u001b[0m \u001b[0mrandom\u001b[0m\u001b[1;33m.\u001b[0m\u001b[0mrandint\u001b[0m\u001b[1;33m(\u001b[0m\u001b[1;36m10\u001b[0m\u001b[1;33m,\u001b[0m \u001b[1;36m18\u001b[0m\u001b[1;33m)\u001b[0m\u001b[1;33m\u001b[0m\u001b[1;33m\u001b[0m\u001b[0m\n",
      "\u001b[1;31mNameError\u001b[0m: name 'random' is not defined"
     ]
    }
   ],
   "source": [
    "size = random.randint(150, 250)\n",
    "x = random.randint(30, 90)\n",
    "y = random.randint(30, 90)"
   ]
  },
  {
   "cell_type": "code",
   "execution_count": 2,
   "id": "silent-legislation",
   "metadata": {},
   "outputs": [
    {
     "ename": "NameError",
     "evalue": "name 'number' is not defined",
     "output_type": "error",
     "traceback": [
      "\u001b[1;31m---------------------------------------------------------------------------\u001b[0m",
      "\u001b[1;31mNameError\u001b[0m                                 Traceback (most recent call last)",
      "\u001b[1;32m<ipython-input-2-ac6b48e3fb17>\u001b[0m in \u001b[0;36m<module>\u001b[1;34m\u001b[0m\n\u001b[1;32m----> 1\u001b[1;33m \u001b[0mnumber\u001b[0m\u001b[1;33m,\u001b[0m \u001b[0mcolor\u001b[0m\u001b[1;33m,\u001b[0m \u001b[0msize\u001b[0m\u001b[1;33m,\u001b[0m \u001b[0mx\u001b[0m\u001b[1;33m,\u001b[0m \u001b[0my\u001b[0m\u001b[1;33m\u001b[0m\u001b[1;33m\u001b[0m\u001b[0m\n\u001b[0m",
      "\u001b[1;31mNameError\u001b[0m: name 'number' is not defined"
     ]
    }
   ],
   "source": [
    "number, color, size, x, y"
   ]
  },
  {
   "cell_type": "code",
   "execution_count": 193,
   "id": "improved-blank",
   "metadata": {},
   "outputs": [],
   "source": [
    "img = Image.new(\"L\", (256, 256))\n",
    "draw = ImageDraw.Draw(img)"
   ]
  },
  {
   "cell_type": "code",
   "execution_count": 194,
   "id": "small-closing",
   "metadata": {},
   "outputs": [],
   "source": [
    "font = ImageFont.truetype(\"Helvetica-Bold-Font.ttf\", size)\n",
    "draw.text((x, y), str(number), color, font=font)"
   ]
  },
  {
   "cell_type": "code",
   "execution_count": 195,
   "id": "verified-albert",
   "metadata": {},
   "outputs": [
    {
     "data": {
      "image/png": "[encoded data removed]",
      "text/plain": [
       "<PIL.Image.Image image mode=L size=256x256 at 0x7F25CC368490>"
      ]
     },
     "execution_count": 195,
     "metadata": {},
     "output_type": "execute_result"
    }
   ],
   "source": [
    "img"
   ]
  },
  {
   "cell_type": "markdown",
   "id": "actual-structure",
   "metadata": {},
   "source": [
    "La idea:\n",
    " * generar varios números por fuente\n",
    " * en varias posiciones\n",
    " * varios tamaños\n",
    " * extra: meterles giros\n",
    " * extra: blurrearlos (entrenará mejor la red)\n",
    " \n",
    "Veo bien para empezar\n",
    " * 10 fuentes típicas de revista (Sudoku)\n",
    " * 10 números del 0 al 9\n",
    " * 20 posiciones y tamaños diferentes random\n",
    " * 20 giros distintos entre -10 y 10 grados de grado en grado (aunque el sudoku luego este recto hace que la red se entrene más robustamente)\n",
    " \n",
    "Lo que da lugar a $10 * 10 * 20 * 20 = 40.000$ fotos para entrenar una red similar a MNIST.\n",
    "\n",
    "Puede que se me haya escapado algún detalle"
   ]
  },
  {
   "cell_type": "code",
   "execution_count": null,
   "id": "celtic-simulation",
   "metadata": {},
   "outputs": [],
   "source": []
  },
  {
   "cell_type": "code",
   "execution_count": null,
   "id": "thick-intermediate",
   "metadata": {},
   "outputs": [],
   "source": []
  },
  {
   "cell_type": "code",
   "execution_count": null,
   "id": "dutch-looking",
   "metadata": {},
   "outputs": [],
   "source": []
  },
  {
   "cell_type": "code",
   "execution_count": 4,
   "id": "architectural-ceramic",
   "metadata": {},
   "outputs": [],
   "source": [
    "model = load_model('./my_model.h5')"
   ]
  },
  {
   "cell_type": "markdown",
   "id": "diagnostic-grammar",
   "metadata": {},
   "source": [
    "Ahora he hecho esta función que me mira si hay números o no en las minifotos, con lo que dijimos de la media de los colores   \n",
    "Si hay número me lo pasa por el modelo y me lo predice"
   ]
  },
  {
   "cell_type": "code",
   "execution_count": 77,
   "id": "compatible-resident",
   "metadata": {},
   "outputs": [],
   "source": [
    "recortado = sudoku_cut_frame(\"Sudoku_5122_easy.jpg\")"
   ]
  },
  {
   "cell_type": "code",
   "execution_count": 78,
   "id": "sealed-pleasure",
   "metadata": {},
   "outputs": [
    {
     "data": {
      "text/plain": [
       "<matplotlib.image.AxesImage at 0x7f25cc71eca0>"
      ]
     },
     "execution_count": 78,
     "metadata": {},
     "output_type": "execute_result"
    },
    {
     "data": {
      "image/png": "[encoded data removed]",
      "text/plain": [
       "<Figure size 432x288 with 1 Axes>"
      ]
     },
     "metadata": {
      "needs_background": "light"
     },
     "output_type": "display_data"
    }
   ],
   "source": [
    "plt.imshow(recortado)"
   ]
  },
  {
   "cell_type": "code",
   "execution_count": 79,
   "id": "cooperative-charger",
   "metadata": {},
   "outputs": [],
   "source": [
    "lista = sudoku_split_81(recortado)"
   ]
  },
  {
   "cell_type": "code",
   "execution_count": 82,
   "id": "palestinian-aruba",
   "metadata": {},
   "outputs": [],
   "source": [
    "square = lista[7]"
   ]
  },
  {
   "cell_type": "code",
   "execution_count": 83,
   "id": "complex-freeware",
   "metadata": {},
   "outputs": [
    {
     "data": {
      "text/plain": [
       "<matplotlib.image.AxesImage at 0x7f25f430d880>"
      ]
     },
     "execution_count": 83,
     "metadata": {},
     "output_type": "execute_result"
    },
    {
     "data": {
      "image/png": "[encoded data removed]",
      "text/plain": [
       "<Figure size 432x288 with 1 Axes>"
      ]
     },
     "metadata": {
      "needs_background": "light"
     },
     "output_type": "display_data"
    }
   ],
   "source": [
    "plt.imshow(square)"
   ]
  },
  {
   "cell_type": "code",
   "execution_count": 106,
   "id": "compact-perspective",
   "metadata": {},
   "outputs": [
    {
     "data": {
      "text/plain": [
       "<matplotlib.image.AxesImage at 0x7f25cc354880>"
      ]
     },
     "execution_count": 106,
     "metadata": {},
     "output_type": "execute_result"
    },
    {
     "data": {
      "image/png": "[encoded data removed]",
      "text/plain": [
       "<Figure size 432x288 with 1 Axes>"
      ]
     },
     "metadata": {
      "needs_background": "light"
     },
     "output_type": "display_data"
    }
   ],
   "source": [
    "plt.imshow(square[:, 10:])"
   ]
  },
  {
   "cell_type": "code",
   "execution_count": 100,
   "id": "suspended-triumph",
   "metadata": {},
   "outputs": [],
   "source": [
    "def crop(image):\n",
    "    y_nonzero, x_nonzero, _ = np.nonzero(image)\n",
    "    return image[np.min(y_nonzero):np.max(y_nonzero), np.min(x_nonzero):np.max(x_nonzero)]"
   ]
  },
  {
   "cell_type": "code",
   "execution_count": 110,
   "id": "apart-account",
   "metadata": {},
   "outputs": [],
   "source": [
    "u = crop(square[:, 10:])"
   ]
  },
  {
   "cell_type": "code",
   "execution_count": 111,
   "id": "charitable-pilot",
   "metadata": {},
   "outputs": [
    {
     "data": {
      "text/plain": [
       "<matplotlib.image.AxesImage at 0x7f25b4735a00>"
      ]
     },
     "execution_count": 111,
     "metadata": {},
     "output_type": "execute_result"
    },
    {
     "data": {
      "image/png": "[encoded data removed]",
      "text/plain": [
       "<Figure size 432x288 with 1 Axes>"
      ]
     },
     "metadata": {
      "needs_background": "light"
     },
     "output_type": "display_data"
    }
   ],
   "source": [
    "plt.imshow(u)"
   ]
  },
  {
   "cell_type": "code",
   "execution_count": 120,
   "id": "another-concert",
   "metadata": {},
   "outputs": [],
   "source": [
    "uu = cv2.threshold(u, 127, 255, cv2.THRESH_BINARY)[1]"
   ]
  },
  {
   "cell_type": "code",
   "execution_count": 123,
   "id": "acute-terrain",
   "metadata": {},
   "outputs": [
    {
     "data": {
      "text/plain": [
       "<matplotlib.image.AxesImage at 0x7f25b460ff10>"
      ]
     },
     "execution_count": 123,
     "metadata": {},
     "output_type": "execute_result"
    },
    {
     "data": {
      "image/png": "[encoded data removed]",
      "text/plain": [
       "<Figure size 432x288 with 1 Axes>"
      ]
     },
     "metadata": {
      "needs_background": "light"
     },
     "output_type": "display_data"
    }
   ],
   "source": [
    "plt.imshow(uu)"
   ]
  },
  {
   "cell_type": "code",
   "execution_count": 131,
   "id": "lined-prior",
   "metadata": {},
   "outputs": [
    {
     "data": {
      "text/plain": [
       "<matplotlib.image.AxesImage at 0x7f25b44ec070>"
      ]
     },
     "execution_count": 131,
     "metadata": {},
     "output_type": "execute_result"
    },
    {
     "data": {
      "image/png": "[encoded data removed]",
      "text/plain": [
       "<Figure size 432x288 with 1 Axes>"
      ]
     },
     "metadata": {
      "needs_background": "light"
     },
     "output_type": "display_data"
    }
   ],
   "source": [
    "plt.imshow(crop(cv2.bitwise_not(uu)))"
   ]
  },
  {
   "cell_type": "code",
   "execution_count": null,
   "id": "widespread-jungle",
   "metadata": {},
   "outputs": [],
   "source": []
  },
  {
   "cell_type": "code",
   "execution_count": 84,
   "id": "impossible-worship",
   "metadata": {},
   "outputs": [],
   "source": [
    "a = 1.5\n",
    "b = 0"
   ]
  },
  {
   "cell_type": "code",
   "execution_count": 85,
   "id": "embedded-obligation",
   "metadata": {},
   "outputs": [],
   "source": [
    "contrast = cv2.convertScaleAbs(square, alpha=a, beta=b)"
   ]
  },
  {
   "cell_type": "code",
   "execution_count": 86,
   "id": "directed-bandwidth",
   "metadata": {},
   "outputs": [
    {
     "data": {
      "text/plain": [
       "<matplotlib.image.AxesImage at 0x7f25f42fbc40>"
      ]
     },
     "execution_count": 86,
     "metadata": {},
     "output_type": "execute_result"
    },
    {
     "data": {
      "image/png": "[encoded data removed]",
      "text/plain": [
       "<Figure size 432x288 with 1 Axes>"
      ]
     },
     "metadata": {
      "needs_background": "light"
     },
     "output_type": "display_data"
    }
   ],
   "source": [
    "plt.imshow(contrast)"
   ]
  },
  {
   "cell_type": "code",
   "execution_count": 87,
   "id": "similar-biodiversity",
   "metadata": {},
   "outputs": [],
   "source": [
    "cut = crop_and_reshape_numbers(contrast)"
   ]
  },
  {
   "cell_type": "code",
   "execution_count": 88,
   "id": "governing-burning",
   "metadata": {},
   "outputs": [
    {
     "data": {
      "text/plain": [
       "(28, 28, 3)"
      ]
     },
     "execution_count": 88,
     "metadata": {},
     "output_type": "execute_result"
    }
   ],
   "source": [
    "cut.shape"
   ]
  },
  {
   "cell_type": "code",
   "execution_count": 89,
   "id": "velvet-finding",
   "metadata": {},
   "outputs": [
    {
     "data": {
      "text/plain": [
       "<matplotlib.image.AxesImage at 0x7f25cc31fa00>"
      ]
     },
     "execution_count": 89,
     "metadata": {},
     "output_type": "execute_result"
    },
    {
     "data": {
      "image/png": "[encoded data removed]",
      "text/plain": [
       "<Figure size 432x288 with 1 Axes>"
      ]
     },
     "metadata": {
      "needs_background": "light"
     },
     "output_type": "display_data"
    }
   ],
   "source": [
    "plt.imshow(cut)"
   ]
  },
  {
   "cell_type": "code",
   "execution_count": 127,
   "id": "extreme-viewer",
   "metadata": {},
   "outputs": [
    {
     "data": {
      "text/plain": [
       "<matplotlib.image.AxesImage at 0x7f25b453f0a0>"
      ]
     },
     "execution_count": 127,
     "metadata": {},
     "output_type": "execute_result"
    },
    {
     "data": {
      "image/png": "[encoded data removed]",
      "text/plain": [
       "<Figure size 432x288 with 1 Axes>"
      ]
     },
     "metadata": {
      "needs_background": "light"
     },
     "output_type": "display_data"
    }
   ],
   "source": [
    "plt.imshow(crop(cut))"
   ]
  },
  {
   "cell_type": "code",
   "execution_count": 90,
   "id": "perceived-alarm",
   "metadata": {},
   "outputs": [],
   "source": [
    "scale = average_pixel_color(cut)"
   ]
  },
  {
   "cell_type": "code",
   "execution_count": 91,
   "id": "impressed-order",
   "metadata": {},
   "outputs": [
    {
     "data": {
      "text/plain": [
       "55.23979591836735"
      ]
     },
     "execution_count": 91,
     "metadata": {},
     "output_type": "execute_result"
    }
   ],
   "source": [
    "scale"
   ]
  },
  {
   "cell_type": "code",
   "execution_count": 92,
   "id": "fresh-appointment",
   "metadata": {},
   "outputs": [],
   "source": [
    "ksize = (3, 3) \n",
    "blur = cv2.blur(cut, ksize) "
   ]
  },
  {
   "cell_type": "code",
   "execution_count": 94,
   "id": "arctic-inventory",
   "metadata": {},
   "outputs": [
    {
     "data": {
      "text/plain": [
       "<matplotlib.image.AxesImage at 0x7f25cc2a00a0>"
      ]
     },
     "execution_count": 94,
     "metadata": {},
     "output_type": "execute_result"
    },
    {
     "data": {
      "image/png": "[encoded data removed]",
      "text/plain": [
       "<Figure size 432x288 with 1 Axes>"
      ]
     },
     "metadata": {
      "needs_background": "light"
     },
     "output_type": "display_data"
    }
   ],
   "source": [
    "plt.imshow(blur)"
   ]
  },
  {
   "cell_type": "code",
   "execution_count": 95,
   "id": "tropical-stage",
   "metadata": {},
   "outputs": [],
   "source": [
    "blur_gray = (blur.astype(\"float32\") / 255).mean(axis=2)"
   ]
  },
  {
   "cell_type": "code",
   "execution_count": 96,
   "id": "searching-glenn",
   "metadata": {},
   "outputs": [
    {
     "data": {
      "text/plain": [
       "<matplotlib.image.AxesImage at 0x7f25cc258790>"
      ]
     },
     "execution_count": 96,
     "metadata": {},
     "output_type": "execute_result"
    },
    {
     "data": {
      "image/png": "[encoded data removed]",
      "text/plain": [
       "<Figure size 432x288 with 1 Axes>"
      ]
     },
     "metadata": {
      "needs_background": "light"
     },
     "output_type": "display_data"
    }
   ],
   "source": [
    "plt.imshow(blur_gray, cmap=\"gray\")"
   ]
  },
  {
   "cell_type": "code",
   "execution_count": 97,
   "id": "nervous-naples",
   "metadata": {},
   "outputs": [],
   "source": [
    "ready = blur_gray.reshape((1, 28, 28, 1))"
   ]
  },
  {
   "cell_type": "code",
   "execution_count": 98,
   "id": "resistant-object",
   "metadata": {},
   "outputs": [
    {
     "data": {
      "text/plain": [
       "<matplotlib.image.AxesImage at 0x7f25cc1c5f40>"
      ]
     },
     "execution_count": 98,
     "metadata": {},
     "output_type": "execute_result"
    },
    {
     "data": {
      "image/png": "[encoded data removed]",
      "text/plain": [
       "<Figure size 432x288 with 1 Axes>"
      ]
     },
     "metadata": {
      "needs_background": "light"
     },
     "output_type": "display_data"
    }
   ],
   "source": [
    "plt.imshow(ready[0], cmap=\"gray\")"
   ]
  },
  {
   "cell_type": "code",
   "execution_count": 99,
   "id": "compatible-thinking",
   "metadata": {},
   "outputs": [
    {
     "data": {
      "text/plain": [
       "array([[0.  , 0.02, 0.  , 0.01, 0.  , 0.93, 0.  , 0.  , 0.03, 0.01]],\n",
       "      dtype=float32)"
      ]
     },
     "execution_count": 99,
     "metadata": {},
     "output_type": "execute_result"
    }
   ],
   "source": [
    "model.predict(ready).round(2)"
   ]
  },
  {
   "cell_type": "markdown",
   "id": "suspended-order",
   "metadata": {},
   "source": [
    "Sin embargo al hacerlo con este otro me dan mal varios números\n"
   ]
  },
  {
   "cell_type": "code",
   "execution_count": null,
   "id": "exclusive-rochester",
   "metadata": {},
   "outputs": [],
   "source": []
  },
  {
   "cell_type": "code",
   "execution_count": null,
   "id": "clinical-subject",
   "metadata": {},
   "outputs": [],
   "source": []
  },
  {
   "cell_type": "code",
   "execution_count": null,
   "id": "superior-cocktail",
   "metadata": {},
   "outputs": [],
   "source": []
  },
  {
   "cell_type": "code",
   "execution_count": null,
   "id": "superior-yacht",
   "metadata": {},
   "outputs": [],
   "source": []
  },
  {
   "cell_type": "code",
   "execution_count": 8,
   "id": "agricultural-lounge",
   "metadata": {},
   "outputs": [
    {
     "name": "stdout",
     "output_type": "stream",
     "text": [
      "[0, 0, 3, 2, 5, 0, 0, 5, 0]\n",
      "[0, 4, 0, 7, 0, 0, 2, 0, 5]\n",
      "[0, 0, 0, 0, 0, 5, 0, 0, 7]\n",
      "[7, 0, 7, 0, 0, 0, 5, 0, 0]\n",
      "[0, 0, 0, 5, 0, 8, 7, 0, 0]\n",
      "[5, 0, 0, 0, 0, 0, 3, 0, 0]\n",
      "[0, 0, 0, 0, 0, 7, 0, 0, 6]\n",
      "[0, 7, 0, 1, 0, 0, 7, 0, 9]\n",
      "[0, 0, 8, 8, 7, 0, 0, 7, 0]\n"
     ]
    }
   ],
   "source": [
    "recortado = sudoku_cut_frame(\"Sudoku_5122_easy.jpg\")\n",
    "lista = sudoku_split_81(recortado)\n",
    "lista_final, listaprobs, numeros = number_or_not(lista)\n",
    "print(lista_final[:9])\n",
    "print(lista_final[9:18])\n",
    "print(lista_final[18:27])\n",
    "print(lista_final[27:36])\n",
    "print(lista_final[36:45])\n",
    "print(lista_final[45:54])\n",
    "print(lista_final[54:63])\n",
    "print(lista_final[63:72])\n",
    "print(lista_final[72:81])"
   ]
  },
  {
   "cell_type": "markdown",
   "id": "bacterial-savage",
   "metadata": {},
   "source": [
    "Este 9 te lo pilla como un 5:"
   ]
  },
  {
   "cell_type": "code",
   "execution_count": 9,
   "id": "senior-bradford",
   "metadata": {},
   "outputs": [
    {
     "data": {
      "text/plain": [
       "<matplotlib.image.AxesImage at 0x7f25ec45be20>"
      ]
     },
     "execution_count": 9,
     "metadata": {},
     "output_type": "execute_result"
    },
    {
     "data": {
      "image/png": "[encoded data removed]",
      "text/plain": [
       "<Figure size 432x288 with 1 Axes>"
      ]
     },
     "metadata": {
      "needs_background": "light"
     },
     "output_type": "display_data"
    }
   ],
   "source": [
    "plt.imshow(numeros[7])"
   ]
  },
  {
   "cell_type": "markdown",
   "id": "selected-melbourne",
   "metadata": {},
   "source": [
    "Te dice que la probabilidad de ser un 5 es más del 90%"
   ]
  },
  {
   "cell_type": "code",
   "execution_count": 11,
   "id": "common-belfast",
   "metadata": {},
   "outputs": [
    {
     "data": {
      "text/plain": [
       "array([[0.  , 0.02, 0.  , 0.01, 0.  , 0.93, 0.  , 0.  , 0.03, 0.01]],\n",
       "      dtype=float32)"
      ]
     },
     "execution_count": 11,
     "metadata": {},
     "output_type": "execute_result"
    }
   ],
   "source": [
    "listaprobs[7].round(2)"
   ]
  },
  {
   "cell_type": "markdown",
   "id": "national-single",
   "metadata": {},
   "source": [
    "Este 1 lo pilla como un 7"
   ]
  },
  {
   "cell_type": "code",
   "execution_count": 69,
   "id": "directed-conservative",
   "metadata": {},
   "outputs": [
    {
     "data": {
      "text/plain": [
       "<matplotlib.image.AxesImage at 0x24d153ad730>"
      ]
     },
     "execution_count": 69,
     "metadata": {},
     "output_type": "execute_result"
    },
    {
     "data": {
      "image/png": "[encoded data removed]",
      "text/plain": [
       "<Figure size 432x288 with 1 Axes>"
      ]
     },
     "metadata": {
      "needs_background": "light"
     },
     "output_type": "display_data"
    }
   ],
   "source": [
    "plt.imshow(numeros[12])"
   ]
  },
  {
   "cell_type": "markdown",
   "id": "bound-survivor",
   "metadata": {},
   "source": [
    "Aquí lo mismo, probabilidad de 7 más del 95%"
   ]
  },
  {
   "cell_type": "code",
   "execution_count": 37,
   "id": "emotional-clearing",
   "metadata": {},
   "outputs": [
    {
     "data": {
      "text/plain": [
       "array([[1.9555229e-04, 1.5893772e-02, 1.6265786e-03, 7.3141893e-03,\n",
       "        1.3502627e-03, 9.3352055e-04, 8.7270228e-06, 9.5686722e-01,\n",
       "        3.3615844e-03, 1.2448680e-02]], dtype=float32)"
      ]
     },
     "execution_count": 37,
     "metadata": {},
     "output_type": "execute_result"
    }
   ],
   "source": [
    "listaprobs[12]"
   ]
  },
  {
   "cell_type": "markdown",
   "id": "integral-christmas",
   "metadata": {},
   "source": [
    "Este otro 1 me lo pilla como un 7 también"
   ]
  },
  {
   "cell_type": "code",
   "execution_count": 70,
   "id": "legendary-decrease",
   "metadata": {},
   "outputs": [
    {
     "data": {
      "text/plain": [
       "<matplotlib.image.AxesImage at 0x24d123bd5b0>"
      ]
     },
     "execution_count": 70,
     "metadata": {},
     "output_type": "execute_result"
    },
    {
     "data": {
      "image/png": "[encoded data removed]",
      "text/plain": [
       "<Figure size 432x288 with 1 Axes>"
      ]
     },
     "metadata": {
      "needs_background": "light"
     },
     "output_type": "display_data"
    }
   ],
   "source": [
    "plt.imshow(numeros[26])"
   ]
  },
  {
   "cell_type": "markdown",
   "id": "southeast-terrorist",
   "metadata": {},
   "source": [
    "La probabilidad de 7 es prácticamente igual en este número 1 que en el anterior"
   ]
  },
  {
   "cell_type": "code",
   "execution_count": 71,
   "id": "seventh-gamma",
   "metadata": {},
   "outputs": [
    {
     "data": {
      "text/plain": [
       "array([[8.8413456e-04, 1.5167115e-02, 3.1362739e-03, 6.3588247e-03,\n",
       "        6.6010584e-03, 3.9378977e-03, 3.4926306e-05, 9.4564909e-01,\n",
       "        7.6145527e-04, 1.7469192e-02]], dtype=float32)"
      ]
     },
     "execution_count": 71,
     "metadata": {},
     "output_type": "execute_result"
    }
   ],
   "source": [
    "listaprobs[26]"
   ]
  },
  {
   "cell_type": "markdown",
   "id": "floral-bermuda",
   "metadata": {},
   "source": [
    "Y este 2 por alguna razón también me lo pilla como un 7"
   ]
  },
  {
   "cell_type": "code",
   "execution_count": 72,
   "id": "instant-physics",
   "metadata": {},
   "outputs": [
    {
     "data": {
      "text/plain": [
       "<matplotlib.image.AxesImage at 0x24d138fd970>"
      ]
     },
     "execution_count": 72,
     "metadata": {},
     "output_type": "execute_result"
    },
    {
     "data": {
      "image/png": "[encoded data removed]",
      "text/plain": [
       "<Figure size 432x288 with 1 Axes>"
      ]
     },
     "metadata": {
      "needs_background": "light"
     },
     "output_type": "display_data"
    }
   ],
   "source": [
    "plt.imshow(numeros[29])"
   ]
  },
  {
   "cell_type": "code",
   "execution_count": 41,
   "id": "understanding-psychology",
   "metadata": {},
   "outputs": [
    {
     "data": {
      "text/plain": [
       "array([[3.2825675e-03, 1.4653357e-03, 1.2914118e-01, 1.0341570e-02,\n",
       "        1.8468148e-04, 1.4947358e-03, 1.4361036e-06, 8.4307933e-01,\n",
       "        1.1568110e-03, 9.8523758e-03]], dtype=float32)"
      ]
     },
     "execution_count": 41,
     "metadata": {},
     "output_type": "execute_result"
    }
   ],
   "source": [
    "listaprobs[29]"
   ]
  },
  {
   "cell_type": "markdown",
   "id": "incident-future",
   "metadata": {},
   "source": [
    "Con los últimos números pasa igual"
   ]
  },
  {
   "cell_type": "markdown",
   "id": "aging-synthesis",
   "metadata": {},
   "source": [
    "Con este otro sudoku lo que pasa es que la resolución no es muy buena, aun así los adivina casi todos:"
   ]
  },
  {
   "cell_type": "code",
   "execution_count": 73,
   "id": "balanced-contact",
   "metadata": {},
   "outputs": [
    {
     "name": "stdout",
     "output_type": "stream",
     "text": [
      "[5, 3, 0, 0, 7, 0, 0, 0, 0]\n",
      "[6, 0, 0, 1, 9, 5, 0, 0, 0]\n",
      "[0, 9, 8, 0, 0, 0, 0, 6, 0]\n",
      "[8, 0, 0, 0, 6, 0, 0, 0, 3]\n",
      "[4, 0, 0, 8, 0, 3, 0, 0, 1]\n",
      "[3, 0, 0, 0, 2, 0, 0, 0, 6]\n",
      "[0, 6, 0, 0, 0, 0, 5, 8, 0]\n",
      "[0, 0, 0, 4, 1, 9, 0, 0, 5]\n",
      "[0, 0, 0, 0, 8, 0, 0, 3, 9]\n"
     ]
    }
   ],
   "source": [
    "recortado = sudoku_cut_frame(\"Sudokufondo.png\")\n",
    "lista = sudoku_split_81(recortado)\n",
    "lista_final, listaprobs, numeros = number_or_not(lista)\n",
    "print(lista_final[:9])\n",
    "print(lista_final[9:18])\n",
    "print(lista_final[18:27])\n",
    "print(lista_final[27:36])\n",
    "print(lista_final[36:45])\n",
    "print(lista_final[45:54])\n",
    "print(lista_final[54:63])\n",
    "print(lista_final[63:72])\n",
    "print(lista_final[72:81])"
   ]
  },
  {
   "cell_type": "markdown",
   "id": "sitting-router",
   "metadata": {},
   "source": [
    "Este 7 te lo detecta como un 3"
   ]
  },
  {
   "cell_type": "code",
   "execution_count": 74,
   "id": "accompanied-killer",
   "metadata": {},
   "outputs": [
    {
     "data": {
      "text/plain": [
       "<matplotlib.image.AxesImage at 0x24d15067e50>"
      ]
     },
     "execution_count": 74,
     "metadata": {},
     "output_type": "execute_result"
    },
    {
     "data": {
      "image/png": "[encoded data removed]",
      "text/plain": [
       "<Figure size 432x288 with 1 Axes>"
      ]
     },
     "metadata": {
      "needs_background": "light"
     },
     "output_type": "display_data"
    }
   ],
   "source": [
    "plt.imshow(numeros[45])"
   ]
  },
  {
   "cell_type": "markdown",
   "id": "stupid-abuse",
   "metadata": {},
   "source": [
    "Sin embargo fíjate en las probabilidades, está ahí ahí entre un 3 y un 7"
   ]
  },
  {
   "cell_type": "code",
   "execution_count": 25,
   "id": "neural-november",
   "metadata": {},
   "outputs": [
    {
     "data": {
      "text/plain": [
       "array([[0.00371502, 0.07468443, 0.00636618, 0.506387  , 0.00061225,\n",
       "        0.01081957, 0.00080917, 0.35395408, 0.01217514, 0.03047724]],\n",
       "      dtype=float32)"
      ]
     },
     "execution_count": 25,
     "metadata": {},
     "output_type": "execute_result"
    }
   ],
   "source": [
    "listaprobs[45]"
   ]
  },
  {
   "cell_type": "markdown",
   "id": "pressed-heading",
   "metadata": {},
   "source": [
    "Con este 2 anda un poco más perdido, dice que es un 5"
   ]
  },
  {
   "cell_type": "code",
   "execution_count": 75,
   "id": "homeless-phoenix",
   "metadata": {},
   "outputs": [
    {
     "data": {
      "text/plain": [
       "<matplotlib.image.AxesImage at 0x24d15484820>"
      ]
     },
     "execution_count": 75,
     "metadata": {},
     "output_type": "execute_result"
    },
    {
     "data": {
      "image/png": "[encoded data removed]",
      "text/plain": [
       "<Figure size 432x288 with 1 Axes>"
      ]
     },
     "metadata": {
      "needs_background": "light"
     },
     "output_type": "display_data"
    }
   ],
   "source": [
    "plt.imshow(numeros[60])"
   ]
  },
  {
   "cell_type": "code",
   "execution_count": 45,
   "id": "adaptive-storage",
   "metadata": {},
   "outputs": [
    {
     "data": {
      "text/plain": [
       "array([[0.10565984, 0.08658685, 0.09613903, 0.04021606, 0.00085708,\n",
       "        0.5402891 , 0.02961207, 0.04733943, 0.04470223, 0.00859838]],\n",
       "      dtype=float32)"
      ]
     },
     "execution_count": 45,
     "metadata": {},
     "output_type": "execute_result"
    }
   ],
   "source": [
    "listaprobs[60]"
   ]
  },
  {
   "cell_type": "markdown",
   "id": "italian-reporter",
   "metadata": {},
   "source": [
    "Con el 7 está también ahí ahí"
   ]
  },
  {
   "cell_type": "code",
   "execution_count": 76,
   "id": "spread-transfer",
   "metadata": {},
   "outputs": [
    {
     "data": {
      "text/plain": [
       "<matplotlib.image.AxesImage at 0x24d13d00d30>"
      ]
     },
     "execution_count": 76,
     "metadata": {},
     "output_type": "execute_result"
    },
    {
     "data": {
      "image/png": "[encoded data removed]",
      "text/plain": [
       "<Figure size 432x288 with 1 Axes>"
      ]
     },
     "metadata": {
      "needs_background": "light"
     },
     "output_type": "display_data"
    }
   ],
   "source": [
    "plt.imshow(numeros[79])"
   ]
  },
  {
   "cell_type": "code",
   "execution_count": 47,
   "id": "fitted-canon",
   "metadata": {},
   "outputs": [
    {
     "data": {
      "text/plain": [
       "array([[2.0621268e-03, 3.7100218e-02, 4.6179276e-03, 6.8150473e-01,\n",
       "        4.0083792e-04, 8.8014621e-03, 5.9880537e-04, 2.3500188e-01,\n",
       "        1.2794456e-02, 1.7117564e-02]], dtype=float32)"
      ]
     },
     "execution_count": 47,
     "metadata": {},
     "output_type": "execute_result"
    }
   ],
   "source": [
    "listaprobs[79]"
   ]
  },
  {
   "cell_type": "markdown",
   "id": "infinite-green",
   "metadata": {},
   "source": [
    "En el siguiente solo te falla un número, pero aun así se lo está pensando bastante también:"
   ]
  },
  {
   "cell_type": "code",
   "execution_count": 77,
   "id": "racial-success",
   "metadata": {},
   "outputs": [
    {
     "name": "stdout",
     "output_type": "stream",
     "text": [
      "[3, 0, 2, 0, 0, 0, 0, 0, 0]\n",
      "[0, 0, 3, 0, 0, 0, 0, 0, 0]\n",
      "[0, 0, 0, 0, 0, 0, 0, 0, 4]\n",
      "[0, 4, 0, 0, 5, 0, 0, 0, 0]\n",
      "[0, 6, 0, 0, 7, 0, 0, 0, 0]\n",
      "[0, 0, 0, 0, 0, 0, 0, 2, 0]\n",
      "[0, 8, 0, 0, 0, 0, 0, 0, 0]\n",
      "[0, 0, 0, 0, 0, 0, 0, 0, 0]\n",
      "[0, 0, 0, 0, 0, 0, 8, 0, 0]\n"
     ]
    }
   ],
   "source": [
    "recortado = sudoku_cut_frame(\"Sudoku2.jpg\")\n",
    "lista = sudoku_split_81(recortado)\n",
    "lista_final, listaprobs, numeros = number_or_not(lista)\n",
    "print(lista_final[:9])\n",
    "print(lista_final[9:18])\n",
    "print(lista_final[18:27])\n",
    "print(lista_final[27:36])\n",
    "print(lista_final[36:45])\n",
    "print(lista_final[45:54])\n",
    "print(lista_final[54:63])\n",
    "print(lista_final[63:72])\n",
    "print(lista_final[72:81])"
   ]
  },
  {
   "cell_type": "code",
   "execution_count": 78,
   "id": "christian-group",
   "metadata": {},
   "outputs": [
    {
     "data": {
      "text/plain": [
       "<matplotlib.image.AxesImage at 0x24d1538c610>"
      ]
     },
     "execution_count": 78,
     "metadata": {},
     "output_type": "execute_result"
    },
    {
     "data": {
      "image/png": "[encoded data removed]",
      "text/plain": [
       "<Figure size 432x288 with 1 Axes>"
      ]
     },
     "metadata": {
      "needs_background": "light"
     },
     "output_type": "display_data"
    }
   ],
   "source": [
    "plt.imshow(numeros[0])"
   ]
  },
  {
   "cell_type": "markdown",
   "id": "sorted-healing",
   "metadata": {},
   "source": [
    "Está al 26% ese 1, se lo piensa y casi lo acierta"
   ]
  },
  {
   "cell_type": "code",
   "execution_count": 51,
   "id": "saved-perception",
   "metadata": {},
   "outputs": [
    {
     "data": {
      "text/plain": [
       "array([[5.1608065e-04, 2.6128927e-01, 5.6680292e-03, 5.7001638e-01,\n",
       "        6.1284163e-06, 1.4580990e-03, 1.2058422e-06, 7.0853628e-02,\n",
       "        3.0022308e-02, 6.0168833e-02]], dtype=float32)"
      ]
     },
     "execution_count": 51,
     "metadata": {},
     "output_type": "execute_result"
    }
   ],
   "source": [
    "listaprobs[0]"
   ]
  },
  {
   "cell_type": "code",
   "execution_count": null,
   "id": "overhead-effects",
   "metadata": {},
   "outputs": [],
   "source": []
  }
 ],
 "metadata": {
  "kernelspec": {
   "display_name": "Python 3",
   "language": "python",
   "name": "python3"
  },
  "language_info": {
   "codemirror_mode": {
    "name": "ipython",
    "version": 3
   },
   "file_extension": ".py",
   "mimetype": "text/x-python",
   "name": "python",
   "nbconvert_exporter": "python",
   "pygments_lexer": "ipython3",
   "version": "3.8.5"
  },
  "toc": {
   "base_numbering": 1,
   "nav_menu": {},
   "number_sections": true,
   "sideBar": true,
   "skip_h1_title": false,
   "title_cell": "Table of Contents",
   "title_sidebar": "Contents",
   "toc_cell": false,
   "toc_position": {},
   "toc_section_display": true,
   "toc_window_display": false
  },
  "varInspector": {
   "cols": {
    "lenName": 16,
    "lenType": 16,
    "lenVar": 40
   },
   "kernels_config": {
    "python": {
     "delete_cmd_postfix": "",
     "delete_cmd_prefix": "del ",
     "library": "var_list.py",
     "varRefreshCmd": "print(var_dic_list())"
    },
    "r": {
     "delete_cmd_postfix": ") ",
     "delete_cmd_prefix": "rm(",
     "library": "var_list.r",
     "varRefreshCmd": "cat(var_dic_list()) "
    }
   },
   "types_to_exclude": [
    "module",
    "function",
    "builtin_function_or_method",
    "instance",
    "_Feature"
   ],
   "window_display": false
  }
 },
 "nbformat": 4,
 "nbformat_minor": 5
}
